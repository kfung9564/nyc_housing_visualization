{
 "cells": [
  {
   "cell_type": "code",
   "execution_count": 73,
   "metadata": {},
   "outputs": [],
   "source": [
    "import numpy as np\n",
    "import pandas as pd\n",
    "import json\n",
    "import math\n",
    "import plotly.express as px\n",
    "from area import area\n",
    "\n",
    "import dash\n",
    "import dash_core_components as dcc\n",
    "import dash_html_components as html\n",
    "from dash.dependencies import Input, Output\n",
    "import plotly.express as px"
   ]
  },
  {
   "cell_type": "code",
   "execution_count": 205,
   "metadata": {},
   "outputs": [],
   "source": [
    "df = pd.read_csv('Neighborhood_zhvi_uc_sfrcondo_tier_0.33_0.67_sm_sa_mon.csv')\n",
    "df = df[df['City'] == 'New York']\n",
    "\n",
    "nycmap = json.load(open(\"nyc_neighborhoods.geojson\"))\n",
    "\n",
    "dates = ('2020-01-31',\n",
    "         '2020-02-29',\n",
    "         '2020-03-31',\n",
    "         '2020-04-30',\n",
    "         '2020-05-31',\n",
    "         '2020-06-30',\n",
    "         '2020-07-31',\n",
    "         '2020-08-31',\n",
    "         '2020-09-30',\n",
    "         '2020-10-31')\n"
   ]
  },
  {
   "cell_type": "code",
   "execution_count": 75,
   "metadata": {},
   "outputs": [],
   "source": [
    "df.loc[(df.CountyName == 'New York County'),'CountyName'] = 'Manhattan'\n",
    "df.loc[(df.CountyName == 'Kings County'),'CountyName'] = 'Brooklyn'\n",
    "df.loc[(df.CountyName == 'Queens County'),'CountyName'] = 'Queens'\n",
    "df.loc[(df.CountyName == 'Richmond County'),'CountyName'] = 'Staten Island'\n",
    "df.loc[(df.CountyName == 'Bronx County'),'CountyName'] = 'Bronx'"
   ]
  },
  {
   "cell_type": "code",
   "execution_count": 76,
   "metadata": {},
   "outputs": [],
   "source": [
    "df.loc[(df['RegionName'] == 'Brooklyn Heights') & (df['CountyName'] == 'Manhattan'), 'CountyName'] = 'Brooklyn'\n",
    "df.loc[(df['RegionName'] == 'Throggs Neck') & (df['CountyName'] == 'Bronx'), 'RegionName'] = 'Throgs Neck'\n",
    "df.loc[(df['RegionName'] == 'Rochdale') & (df['CountyName'] == 'Queens'), 'RegionName'] = 'Springfield Gardens North'\n",
    "df.loc[(df['RegionName'] == 'Springfield Gardens') & (df['CountyName'] == 'Queens'), 'RegionName'] = 'Springfield Gardens South'\n",
    "df.loc[(df['RegionName'] == 'Financial District') & (df['CountyName'] == 'Manhattan'), 'RegionName'] = 'Lower Manhattan'\n",
    "df.loc[(df['RegionName'] == 'Flatiron District') & (df['CountyName'] == 'Manhattan'), 'RegionName'] = 'Flatiron'\n",
    "df.loc[(df['RegionName'] == 'West Brighton') & (df['CountyName'] == 'Staten Island'), 'RegionName'] = 'West New Brighton'\n",
    "df.loc[(df['RegionName'] == 'Battery Park') & (df['CountyName'] == 'Manhattan'), 'RegionName'] = 'Battery Park City'\n",
    "df.loc[(df['RegionName'] == 'Downtown') & (df['CountyName'] == 'Brooklyn'), 'RegionName'] = 'Downtown Brooklyn'\n",
    "df.loc[(df['RegionName'] == 'Grasmere - Concord') & (df['CountyName'] == 'Staten Island'), 'RegionName'] = 'Grasmere'\n",
    "df.loc[(df['RegionName'] == 'Columbia Street Waterfront District') & (df['CountyName'] == 'Brooklyn'), 'RegionName'] = 'Columbia Street'\n",
    "df.loc[(df['RegionName'] == 'Fort Wadsworth') & (df['CountyName'] == 'Staten Island'), 'RegionName'] = 'Wadsworth'\n",
    "df.loc[(df['RegionName'] == 'Chelsea-Travis') & (df['CountyName'] == 'Staten Island'), 'RegionName'] = 'Travis'\n",
    "df.loc[(df['RegionName'] == 'Blissville') & (df['CountyName'] == 'Queens'), 'RegionName'] = 'West Maspeth'\n",
    "df.loc[(df['RegionName'] == 'John F. Kennedy International Airport') & (df['CountyName'] == 'Queens'), 'RegionName'] = 'Airport'"
   ]
  },
  {
   "cell_type": "code",
   "execution_count": 77,
   "metadata": {},
   "outputs": [],
   "source": [
    "temp_df = df[['RegionName', 'CountyName']]\n",
    "neigh_boro = temp_df.values.tolist()"
   ]
  },
  {
   "cell_type": "code",
   "execution_count": 78,
   "metadata": {},
   "outputs": [],
   "source": [
    "new_frame = pd.DataFrame(columns = ['ntaname', 'boro_name', 'count'])\n",
    "\n",
    "for n in nycmap['features']:\n",
    "    new_frame = new_frame.append({'ntaname': n[\"properties\"][\"ntaname\"], 'boro_name': n[\"properties\"][\"boro_name\"]}, ignore_index = True)\n",
    "\n",
    "    \n",
    "for d in dates:\n",
    "    new_frame[d] = 0\n",
    "\n",
    "    \n",
    "new_frame[\"count\"] = 0\n"
   ]
  },
  {
   "cell_type": "code",
   "execution_count": 79,
   "metadata": {},
   "outputs": [],
   "source": [
    "def contains(whole, part):\n",
    "    whole = whole.lower()\n",
    "    part = part.lower()\n",
    "    \n",
    "    words = whole.split('-')\n",
    "    \n",
    "    for w in words:\n",
    "        if part == w:\n",
    "            return True\n",
    "    \n",
    "    return False"
   ]
  },
  {
   "cell_type": "code",
   "execution_count": 80,
   "metadata": {},
   "outputs": [],
   "source": [
    "has_parts = [['Washington Heights', 'Manhattan'],\n",
    "            ['Crown Heights', 'Brooklyn'],\n",
    "            ['Harlem', 'Manhattan'],\n",
    "            ['Bushwick', 'Brooklyn'],\n",
    "            ['Sunset Park', 'Brooklyn'],\n",
    "            ['Bensonhurst', 'Brooklyn'],\n",
    "            ['Tremont', 'Bronx'],\n",
    "            ['Fordham', 'Bronx'],\n",
    "            ['Douglaston-Little Neck', 'Queens'],\n",
    "            ['Co-op City', 'Bronx'],]"
   ]
  },
  {
   "cell_type": "code",
   "execution_count": 81,
   "metadata": {},
   "outputs": [],
   "source": [
    "part_of = [\n",
    "            (['Greenwich Village', 'Manhattan'], 'West Village'),\n",
    "            (['Fort Hamilton', 'Brooklyn'], 'Bay Ridge'),\n",
    "            (['Sutton Place', 'Manhattan'], 'East Midtown'),\n",
    "            (['New Utrecht', 'Brooklyn'],  'Bensonhurst West'),\n",
    "            (['Greenwood', 'Brooklyn'], 'Sunset Park West'),\n",
    "            (['Westchester Heights', 'Bronx'], 'Westchester', 'Westchester Square', 'Westchester-Unionport'),\n",
    "            (['Bulls Head', 'Staten Island'], 'New Springville'),\n",
    "            (['Willowbrook', 'Staten Island'], 'New Springville'),\n",
    "            (['Park Hill', 'Staten Island'], 'Clifton'),\n",
    "            (['Greenridge', 'Staten Island'], 'Eltingville'),\n",
    "            (['Richmond Town', 'Staten Island'], 'Oakwood'),\n",
    "            (['Grant City', 'Staten Island'], 'Midland Beach'),\n",
    "            (['Castleton Corners', 'Staten Island'], 'Westerleigh'),\n",
    "            (['Bay Terrace', 'Staten Island'], 'Oakwood'),\n",
    "            (['Meiers Corners', 'Staten Island'], 'Westerleigh'),\n",
    "            (['Tompkinsville', 'Staten Island'], 'Stapleton'),\n",
    "            (['NoHo', 'Manhattan'], 'West Village'),\n",
    "            (['Astoria Heights', 'Queens'], 'Steinway'),\n",
    "            (['Garment District', 'Manhattan'], 'Midtown South'),\n",
    "            (['Forest Hills Gardens', 'Queens'], 'Forest Hills'),\n",
    "            (['Pleasant Plains', 'Staten Island'], 'Charleston'),\n",
    "            (['Sunnyside', 'Staten Island'], 'Westerleigh'),\n",
    "            (['New Dorp Beach', 'Staten Island'], 'New Dorp'),\n",
    "            (['Elm Park', 'Staten Island'], 'Port Richmond'),\n",
    "            (['Prospect Park South', 'Brooklyn'], 'Flatbush'),\n",
    "            (['Butler Manor', 'Staten Island'], 'Tottenville'),\n",
    "            (['Malba', 'Queens'], 'Whitestone'),\n",
    "            (['Pelham Bay Park', 'Bronx'], 'Pelham Bay'),               \n",
    "            (['Neponsit', 'Queens'], 'Belle Harbor'),\n",
    "            (['Shore Acres', 'Staten Island'], 'Rosebank'),\n",
    "            (['Bedford Stuyvesant', 'Brooklyn'],'Bedford', 'Stuyvesant Heights')\n",
    "]\n",
    "\n",
    "\n",
    "def isPartOf(n):\n",
    "    for a in part_of:\n",
    "        if a.count(n) > 0:\n",
    "            return a\n",
    "        \n",
    "    return []"
   ]
  },
  {
   "cell_type": "code",
   "execution_count": 82,
   "metadata": {},
   "outputs": [
    {
     "data": {
      "text/html": [
       "<div>\n",
       "<style scoped>\n",
       "    .dataframe tbody tr th:only-of-type {\n",
       "        vertical-align: middle;\n",
       "    }\n",
       "\n",
       "    .dataframe tbody tr th {\n",
       "        vertical-align: top;\n",
       "    }\n",
       "\n",
       "    .dataframe thead th {\n",
       "        text-align: right;\n",
       "    }\n",
       "</style>\n",
       "<table border=\"1\" class=\"dataframe\">\n",
       "  <thead>\n",
       "    <tr style=\"text-align: right;\">\n",
       "      <th></th>\n",
       "      <th>ntaname</th>\n",
       "      <th>boro_name</th>\n",
       "      <th>count</th>\n",
       "      <th>2020-01-31</th>\n",
       "      <th>2020-02-29</th>\n",
       "      <th>2020-03-31</th>\n",
       "      <th>2020-04-30</th>\n",
       "      <th>2020-05-31</th>\n",
       "      <th>2020-06-30</th>\n",
       "      <th>2020-07-31</th>\n",
       "      <th>2020-08-31</th>\n",
       "      <th>2020-09-30</th>\n",
       "      <th>2020-10-31</th>\n",
       "    </tr>\n",
       "  </thead>\n",
       "  <tbody>\n",
       "    <tr>\n",
       "      <th>194</th>\n",
       "      <td>park-cemetery-etc-Queens</td>\n",
       "      <td>Queens</td>\n",
       "      <td>0</td>\n",
       "      <td>0</td>\n",
       "      <td>0</td>\n",
       "      <td>0</td>\n",
       "      <td>0</td>\n",
       "      <td>0</td>\n",
       "      <td>0</td>\n",
       "      <td>0</td>\n",
       "      <td>0</td>\n",
       "      <td>0</td>\n",
       "      <td>0</td>\n",
       "    </tr>\n",
       "  </tbody>\n",
       "</table>\n",
       "</div>"
      ],
      "text/plain": [
       "                      ntaname boro_name  count  2020-01-31  2020-02-29  \\\n",
       "194  park-cemetery-etc-Queens    Queens      0           0           0   \n",
       "\n",
       "     2020-03-31  2020-04-30  2020-05-31  2020-06-30  2020-07-31  2020-08-31  \\\n",
       "194           0           0           0           0           0           0   \n",
       "\n",
       "     2020-09-30  2020-10-31  \n",
       "194           0           0  "
      ]
     },
     "execution_count": 82,
     "metadata": {},
     "output_type": "execute_result"
    }
   ],
   "source": [
    "new_frame.loc[new_frame['ntaname'] == 'park-cemetery-etc-Queens']"
   ]
  },
  {
   "cell_type": "code",
   "execution_count": 83,
   "metadata": {},
   "outputs": [],
   "source": [
    "not_mapped = []\n",
    "\n",
    "for n in neigh_boro:\n",
    "    not_mapped.append(n)\n",
    "    \n",
    "    if has_parts.count(n) > 0:\n",
    "        for i in range(len(new_frame.index)):\n",
    "            row = new_frame.iloc[i:i+1, :]\n",
    "            if n[0] in row.ntaname[i]:\n",
    "                if row.boro_name[i] == n[1]:\n",
    "                    curr_count = new_frame.iloc[i:i+1, 2]\n",
    "                    new_frame.iloc[i:i+1, 2] = curr_count + 1\n",
    "                    \n",
    "                    for c in range(len(dates)):\n",
    "                        curr_val = new_frame.iloc[i:i+1, len(new_frame.columns)-len(dates)+c]\n",
    "                        curr_row = df.loc[(df['RegionName'] == n[0]) & (df['CountyName'] == n[1])]\n",
    "                        addend = curr_row.iloc[0, len(curr_row.columns)-len(dates)+c]\n",
    "                        new_frame.iloc[i:i+1, len(new_frame.columns)-len(dates)+c] = addend + curr_val\n",
    "                    \n",
    "        not_mapped.remove(n)\n",
    "        \n",
    "    elif len(isPartOf(n)) > 0:\n",
    "        line = isPartOf(n)\n",
    "        region = line[0][0]\n",
    "        county = line[0][1]\n",
    "        parts = line[1:]\n",
    "        \n",
    "        for p in parts:\n",
    "            curr_count = new_frame.loc[(new_frame['ntaname'] == p) & (new_frame['boro_name'] == county), 'count']\n",
    "            new_frame.loc[(new_frame['ntaname'] == p) & (new_frame['boro_name'] == county), 'count'] = curr_count + 1\n",
    "            \n",
    "            for c in range(len(dates)):\n",
    "                curr_val = new_frame.loc[(new_frame['ntaname'] == p) & (new_frame['boro_name'] == county), new_frame.columns[len(new_frame.columns)-len(dates)+c]]\n",
    "                curr_row = df.loc[(df['RegionName'] == n[0]) & (df['CountyName'] == n[1])]\n",
    "                addend = curr_row.iloc[0, len(curr_row.columns)-len(dates)+c]\n",
    "                new_frame.loc[(new_frame['ntaname'] == p) & (new_frame['boro_name'] == county), new_frame.columns[len(new_frame.columns)-len(dates)+c]] = addend + curr_val\n",
    "            \n",
    "        not_mapped.remove(n)\n",
    "        \n",
    "    else:\n",
    "        for i in range(len(new_frame.index)):\n",
    "            row = new_frame.iloc[i:i+1, :]\n",
    "            if contains(row.ntaname[i], n[0]):\n",
    "                if row.boro_name[i] == n[1]:\n",
    "                    curr_count = new_frame.iloc[i:i+1, 2]\n",
    "                    new_frame.iloc[i:i+1, 2] = curr_count + 1\n",
    "                    \n",
    "                    for c in range(len(dates)):\n",
    "                        curr_val = new_frame.iloc[i:i+1, len(new_frame.columns)-len(dates)+c]\n",
    "                        curr_row = df.loc[(df['RegionName'] == n[0]) & (df['CountyName'] == n[1])]\n",
    "                        addend = curr_row.iloc[0, len(curr_row.columns)-len(dates)+c]\n",
    "                        new_frame.iloc[i:i+1, len(new_frame.columns)-len(dates)+c] = addend + curr_val\n",
    "                    \n",
    "                    not_mapped.remove(n)\n",
    "                    break\n",
    "\n",
    "                    \n",
    "for r in range(len(new_frame)):\n",
    "    if new_frame.iloc[r, 2] > 1:\n",
    "        for c in range(len(dates)):\n",
    "            curr = new_frame.iloc[r, len(new_frame.columns)-len(dates)+c]\n",
    "            count = new_frame.iloc[r, 2]\n",
    "            new_frame.iloc[r, len(new_frame.columns)-len(dates)+c] = curr / count"
   ]
  },
  {
   "cell_type": "code",
   "execution_count": 84,
   "metadata": {},
   "outputs": [
    {
     "data": {
      "text/html": [
       "<div>\n",
       "<style scoped>\n",
       "    .dataframe tbody tr th:only-of-type {\n",
       "        vertical-align: middle;\n",
       "    }\n",
       "\n",
       "    .dataframe tbody tr th {\n",
       "        vertical-align: top;\n",
       "    }\n",
       "\n",
       "    .dataframe thead th {\n",
       "        text-align: right;\n",
       "    }\n",
       "</style>\n",
       "<table border=\"1\" class=\"dataframe\">\n",
       "  <thead>\n",
       "    <tr style=\"text-align: right;\">\n",
       "      <th></th>\n",
       "      <th>ntaname</th>\n",
       "      <th>boro_name</th>\n",
       "      <th>count</th>\n",
       "      <th>2020-01-31</th>\n",
       "      <th>2020-02-29</th>\n",
       "      <th>2020-03-31</th>\n",
       "      <th>2020-04-30</th>\n",
       "      <th>2020-05-31</th>\n",
       "      <th>2020-06-30</th>\n",
       "      <th>2020-07-31</th>\n",
       "      <th>2020-08-31</th>\n",
       "      <th>2020-09-30</th>\n",
       "      <th>2020-10-31</th>\n",
       "    </tr>\n",
       "  </thead>\n",
       "  <tbody>\n",
       "    <tr>\n",
       "      <th>0</th>\n",
       "      <td>Borough Park</td>\n",
       "      <td>Brooklyn</td>\n",
       "      <td>1</td>\n",
       "      <td>800107.000000</td>\n",
       "      <td>794346.0</td>\n",
       "      <td>792962.000000</td>\n",
       "      <td>792549.000000</td>\n",
       "      <td>792589.000000</td>\n",
       "      <td>791801.000000</td>\n",
       "      <td>790573.000000</td>\n",
       "      <td>792553.0</td>\n",
       "      <td>794147.000000</td>\n",
       "      <td>792330.0</td>\n",
       "    </tr>\n",
       "    <tr>\n",
       "      <th>1</th>\n",
       "      <td>Murray Hill</td>\n",
       "      <td>Queens</td>\n",
       "      <td>1</td>\n",
       "      <td>384721.000000</td>\n",
       "      <td>384396.0</td>\n",
       "      <td>383443.000000</td>\n",
       "      <td>383618.000000</td>\n",
       "      <td>383362.000000</td>\n",
       "      <td>383960.000000</td>\n",
       "      <td>384397.000000</td>\n",
       "      <td>384940.0</td>\n",
       "      <td>386321.000000</td>\n",
       "      <td>388206.0</td>\n",
       "    </tr>\n",
       "    <tr>\n",
       "      <th>2</th>\n",
       "      <td>East Elmhurst</td>\n",
       "      <td>Queens</td>\n",
       "      <td>1</td>\n",
       "      <td>663453.000000</td>\n",
       "      <td>665648.0</td>\n",
       "      <td>667851.000000</td>\n",
       "      <td>669964.000000</td>\n",
       "      <td>671708.000000</td>\n",
       "      <td>672445.000000</td>\n",
       "      <td>672120.000000</td>\n",
       "      <td>672802.0</td>\n",
       "      <td>676621.000000</td>\n",
       "      <td>681728.0</td>\n",
       "    </tr>\n",
       "    <tr>\n",
       "      <th>3</th>\n",
       "      <td>Erasmus</td>\n",
       "      <td>Brooklyn</td>\n",
       "      <td>0</td>\n",
       "      <td>0.000000</td>\n",
       "      <td>0.0</td>\n",
       "      <td>0.000000</td>\n",
       "      <td>0.000000</td>\n",
       "      <td>0.000000</td>\n",
       "      <td>0.000000</td>\n",
       "      <td>0.000000</td>\n",
       "      <td>0.0</td>\n",
       "      <td>0.000000</td>\n",
       "      <td>0.0</td>\n",
       "    </tr>\n",
       "    <tr>\n",
       "      <th>4</th>\n",
       "      <td>Hollis</td>\n",
       "      <td>Queens</td>\n",
       "      <td>1</td>\n",
       "      <td>554907.000000</td>\n",
       "      <td>555797.0</td>\n",
       "      <td>556189.000000</td>\n",
       "      <td>557034.000000</td>\n",
       "      <td>557172.000000</td>\n",
       "      <td>558160.000000</td>\n",
       "      <td>560169.000000</td>\n",
       "      <td>562641.0</td>\n",
       "      <td>566751.000000</td>\n",
       "      <td>568297.0</td>\n",
       "    </tr>\n",
       "    <tr>\n",
       "      <th>...</th>\n",
       "      <td>...</td>\n",
       "      <td>...</td>\n",
       "      <td>...</td>\n",
       "      <td>...</td>\n",
       "      <td>...</td>\n",
       "      <td>...</td>\n",
       "      <td>...</td>\n",
       "      <td>...</td>\n",
       "      <td>...</td>\n",
       "      <td>...</td>\n",
       "      <td>...</td>\n",
       "      <td>...</td>\n",
       "      <td>...</td>\n",
       "    </tr>\n",
       "    <tr>\n",
       "      <th>190</th>\n",
       "      <td>park-cemetery-etc-Brooklyn</td>\n",
       "      <td>Brooklyn</td>\n",
       "      <td>0</td>\n",
       "      <td>0.000000</td>\n",
       "      <td>0.0</td>\n",
       "      <td>0.000000</td>\n",
       "      <td>0.000000</td>\n",
       "      <td>0.000000</td>\n",
       "      <td>0.000000</td>\n",
       "      <td>0.000000</td>\n",
       "      <td>0.0</td>\n",
       "      <td>0.000000</td>\n",
       "      <td>0.0</td>\n",
       "    </tr>\n",
       "    <tr>\n",
       "      <th>191</th>\n",
       "      <td>Richmond Hill</td>\n",
       "      <td>Queens</td>\n",
       "      <td>1</td>\n",
       "      <td>571840.000000</td>\n",
       "      <td>572333.0</td>\n",
       "      <td>572168.000000</td>\n",
       "      <td>572098.000000</td>\n",
       "      <td>571145.000000</td>\n",
       "      <td>572393.000000</td>\n",
       "      <td>574503.000000</td>\n",
       "      <td>577717.0</td>\n",
       "      <td>581482.000000</td>\n",
       "      <td>583228.0</td>\n",
       "    </tr>\n",
       "    <tr>\n",
       "      <th>192</th>\n",
       "      <td>Jamaica</td>\n",
       "      <td>Queens</td>\n",
       "      <td>1</td>\n",
       "      <td>439332.000000</td>\n",
       "      <td>440256.0</td>\n",
       "      <td>441169.000000</td>\n",
       "      <td>442618.000000</td>\n",
       "      <td>443684.000000</td>\n",
       "      <td>445890.000000</td>\n",
       "      <td>448625.000000</td>\n",
       "      <td>451519.0</td>\n",
       "      <td>455501.000000</td>\n",
       "      <td>458605.0</td>\n",
       "    </tr>\n",
       "    <tr>\n",
       "      <th>193</th>\n",
       "      <td>Breezy Point-Belle Harbor-Rockaway Park-Broad ...</td>\n",
       "      <td>Queens</td>\n",
       "      <td>3</td>\n",
       "      <td>531565.333333</td>\n",
       "      <td>533002.0</td>\n",
       "      <td>533948.666667</td>\n",
       "      <td>536517.666667</td>\n",
       "      <td>537704.666667</td>\n",
       "      <td>539185.333333</td>\n",
       "      <td>539979.666667</td>\n",
       "      <td>541870.0</td>\n",
       "      <td>544999.666667</td>\n",
       "      <td>548942.0</td>\n",
       "    </tr>\n",
       "    <tr>\n",
       "      <th>194</th>\n",
       "      <td>park-cemetery-etc-Queens</td>\n",
       "      <td>Queens</td>\n",
       "      <td>0</td>\n",
       "      <td>0.000000</td>\n",
       "      <td>0.0</td>\n",
       "      <td>0.000000</td>\n",
       "      <td>0.000000</td>\n",
       "      <td>0.000000</td>\n",
       "      <td>0.000000</td>\n",
       "      <td>0.000000</td>\n",
       "      <td>0.0</td>\n",
       "      <td>0.000000</td>\n",
       "      <td>0.0</td>\n",
       "    </tr>\n",
       "  </tbody>\n",
       "</table>\n",
       "<p>195 rows × 13 columns</p>\n",
       "</div>"
      ],
      "text/plain": [
       "                                               ntaname boro_name  count  \\\n",
       "0                                         Borough Park  Brooklyn      1   \n",
       "1                                          Murray Hill    Queens      1   \n",
       "2                                        East Elmhurst    Queens      1   \n",
       "3                                              Erasmus  Brooklyn      0   \n",
       "4                                               Hollis    Queens      1   \n",
       "..                                                 ...       ...    ...   \n",
       "190                         park-cemetery-etc-Brooklyn  Brooklyn      0   \n",
       "191                                      Richmond Hill    Queens      1   \n",
       "192                                            Jamaica    Queens      1   \n",
       "193  Breezy Point-Belle Harbor-Rockaway Park-Broad ...    Queens      3   \n",
       "194                           park-cemetery-etc-Queens    Queens      0   \n",
       "\n",
       "        2020-01-31  2020-02-29     2020-03-31     2020-04-30     2020-05-31  \\\n",
       "0    800107.000000    794346.0  792962.000000  792549.000000  792589.000000   \n",
       "1    384721.000000    384396.0  383443.000000  383618.000000  383362.000000   \n",
       "2    663453.000000    665648.0  667851.000000  669964.000000  671708.000000   \n",
       "3         0.000000         0.0       0.000000       0.000000       0.000000   \n",
       "4    554907.000000    555797.0  556189.000000  557034.000000  557172.000000   \n",
       "..             ...         ...            ...            ...            ...   \n",
       "190       0.000000         0.0       0.000000       0.000000       0.000000   \n",
       "191  571840.000000    572333.0  572168.000000  572098.000000  571145.000000   \n",
       "192  439332.000000    440256.0  441169.000000  442618.000000  443684.000000   \n",
       "193  531565.333333    533002.0  533948.666667  536517.666667  537704.666667   \n",
       "194       0.000000         0.0       0.000000       0.000000       0.000000   \n",
       "\n",
       "        2020-06-30     2020-07-31  2020-08-31     2020-09-30  2020-10-31  \n",
       "0    791801.000000  790573.000000    792553.0  794147.000000    792330.0  \n",
       "1    383960.000000  384397.000000    384940.0  386321.000000    388206.0  \n",
       "2    672445.000000  672120.000000    672802.0  676621.000000    681728.0  \n",
       "3         0.000000       0.000000         0.0       0.000000         0.0  \n",
       "4    558160.000000  560169.000000    562641.0  566751.000000    568297.0  \n",
       "..             ...            ...         ...            ...         ...  \n",
       "190       0.000000       0.000000         0.0       0.000000         0.0  \n",
       "191  572393.000000  574503.000000    577717.0  581482.000000    583228.0  \n",
       "192  445890.000000  448625.000000    451519.0  455501.000000    458605.0  \n",
       "193  539185.333333  539979.666667    541870.0  544999.666667    548942.0  \n",
       "194       0.000000       0.000000         0.0       0.000000         0.0  \n",
       "\n",
       "[195 rows x 13 columns]"
      ]
     },
     "execution_count": 84,
     "metadata": {},
     "output_type": "execute_result"
    }
   ],
   "source": [
    "new_frame"
   ]
  },
  {
   "cell_type": "code",
   "execution_count": 85,
   "metadata": {},
   "outputs": [
    {
     "data": {
      "text/html": [
       "<div>\n",
       "<style scoped>\n",
       "    .dataframe tbody tr th:only-of-type {\n",
       "        vertical-align: middle;\n",
       "    }\n",
       "\n",
       "    .dataframe tbody tr th {\n",
       "        vertical-align: top;\n",
       "    }\n",
       "\n",
       "    .dataframe thead th {\n",
       "        text-align: right;\n",
       "    }\n",
       "</style>\n",
       "<table border=\"1\" class=\"dataframe\">\n",
       "  <thead>\n",
       "    <tr style=\"text-align: right;\">\n",
       "      <th></th>\n",
       "      <th>ntaname</th>\n",
       "      <th>boro_name</th>\n",
       "      <th>count</th>\n",
       "      <th>2020-01-31</th>\n",
       "      <th>2020-02-29</th>\n",
       "      <th>2020-03-31</th>\n",
       "      <th>2020-04-30</th>\n",
       "      <th>2020-05-31</th>\n",
       "      <th>2020-06-30</th>\n",
       "      <th>2020-07-31</th>\n",
       "      <th>2020-08-31</th>\n",
       "      <th>2020-09-30</th>\n",
       "      <th>2020-10-31</th>\n",
       "    </tr>\n",
       "  </thead>\n",
       "  <tbody>\n",
       "    <tr>\n",
       "      <th>151</th>\n",
       "      <td>Whitestone</td>\n",
       "      <td>Queens</td>\n",
       "      <td>2</td>\n",
       "      <td>716150.5</td>\n",
       "      <td>714378.5</td>\n",
       "      <td>712513.5</td>\n",
       "      <td>712687.0</td>\n",
       "      <td>712395.5</td>\n",
       "      <td>714074.5</td>\n",
       "      <td>716273.0</td>\n",
       "      <td>719226.5</td>\n",
       "      <td>722598.0</td>\n",
       "      <td>725292.0</td>\n",
       "    </tr>\n",
       "  </tbody>\n",
       "</table>\n",
       "</div>"
      ],
      "text/plain": [
       "        ntaname boro_name  count  2020-01-31  2020-02-29  2020-03-31  \\\n",
       "151  Whitestone    Queens      2    716150.5    714378.5    712513.5   \n",
       "\n",
       "     2020-04-30  2020-05-31  2020-06-30  2020-07-31  2020-08-31  2020-09-30  \\\n",
       "151    712687.0    712395.5    714074.5    716273.0    719226.5    722598.0   \n",
       "\n",
       "     2020-10-31  \n",
       "151    725292.0  "
      ]
     },
     "execution_count": 85,
     "metadata": {},
     "output_type": "execute_result"
    }
   ],
   "source": [
    "new_frame.loc[new_frame['ntaname'] == 'Whitestone']"
   ]
  },
  {
   "cell_type": "code",
   "execution_count": 14,
   "metadata": {},
   "outputs": [
    {
     "data": {
      "text/html": [
       "<div>\n",
       "<style scoped>\n",
       "    .dataframe tbody tr th:only-of-type {\n",
       "        vertical-align: middle;\n",
       "    }\n",
       "\n",
       "    .dataframe tbody tr th {\n",
       "        vertical-align: top;\n",
       "    }\n",
       "\n",
       "    .dataframe thead th {\n",
       "        text-align: right;\n",
       "    }\n",
       "</style>\n",
       "<table border=\"1\" class=\"dataframe\">\n",
       "  <thead>\n",
       "    <tr style=\"text-align: right;\">\n",
       "      <th></th>\n",
       "      <th>RegionID</th>\n",
       "      <th>SizeRank</th>\n",
       "      <th>RegionName</th>\n",
       "      <th>RegionType</th>\n",
       "      <th>StateName</th>\n",
       "      <th>State</th>\n",
       "      <th>City</th>\n",
       "      <th>Metro</th>\n",
       "      <th>CountyName</th>\n",
       "      <th>1996-01-31</th>\n",
       "      <th>...</th>\n",
       "      <th>2020-01-31</th>\n",
       "      <th>2020-02-29</th>\n",
       "      <th>2020-03-31</th>\n",
       "      <th>2020-04-30</th>\n",
       "      <th>2020-05-31</th>\n",
       "      <th>2020-06-30</th>\n",
       "      <th>2020-07-31</th>\n",
       "      <th>2020-08-31</th>\n",
       "      <th>2020-09-30</th>\n",
       "      <th>2020-10-31</th>\n",
       "    </tr>\n",
       "  </thead>\n",
       "  <tbody>\n",
       "    <tr>\n",
       "      <th>337</th>\n",
       "      <td>403221</td>\n",
       "      <td>350</td>\n",
       "      <td>Prospect Lefferts Gardens</td>\n",
       "      <td>Neighborhood</td>\n",
       "      <td>NY</td>\n",
       "      <td>NY</td>\n",
       "      <td>New York</td>\n",
       "      <td>New York-Newark-Jersey City</td>\n",
       "      <td>Brooklyn</td>\n",
       "      <td>116114.0</td>\n",
       "      <td>...</td>\n",
       "      <td>728109.0</td>\n",
       "      <td>722240.0</td>\n",
       "      <td>717533.0</td>\n",
       "      <td>716227.0</td>\n",
       "      <td>714956.0</td>\n",
       "      <td>716838.0</td>\n",
       "      <td>719266.0</td>\n",
       "      <td>724660.0</td>\n",
       "      <td>725096.0</td>\n",
       "      <td>725565.0</td>\n",
       "    </tr>\n",
       "  </tbody>\n",
       "</table>\n",
       "<p>1 rows × 307 columns</p>\n",
       "</div>"
      ],
      "text/plain": [
       "     RegionID  SizeRank                 RegionName    RegionType StateName  \\\n",
       "337    403221       350  Prospect Lefferts Gardens  Neighborhood        NY   \n",
       "\n",
       "    State      City                        Metro CountyName  1996-01-31  ...  \\\n",
       "337    NY  New York  New York-Newark-Jersey City   Brooklyn    116114.0  ...   \n",
       "\n",
       "     2020-01-31  2020-02-29  2020-03-31  2020-04-30  2020-05-31  2020-06-30  \\\n",
       "337    728109.0    722240.0    717533.0    716227.0    714956.0    716838.0   \n",
       "\n",
       "     2020-07-31  2020-08-31  2020-09-30  2020-10-31  \n",
       "337    719266.0    724660.0    725096.0    725565.0  \n",
       "\n",
       "[1 rows x 307 columns]"
      ]
     },
     "execution_count": 14,
     "metadata": {},
     "output_type": "execute_result"
    }
   ],
   "source": [
    "df.loc[df['RegionName'] == 'Prospect Lefferts Gardens']"
   ]
  },
  {
   "cell_type": "code",
   "execution_count": 15,
   "metadata": {},
   "outputs": [
    {
     "data": {
      "text/html": [
       "<div>\n",
       "<style scoped>\n",
       "    .dataframe tbody tr th:only-of-type {\n",
       "        vertical-align: middle;\n",
       "    }\n",
       "\n",
       "    .dataframe tbody tr th {\n",
       "        vertical-align: top;\n",
       "    }\n",
       "\n",
       "    .dataframe thead th {\n",
       "        text-align: right;\n",
       "    }\n",
       "</style>\n",
       "<table border=\"1\" class=\"dataframe\">\n",
       "  <thead>\n",
       "    <tr style=\"text-align: right;\">\n",
       "      <th></th>\n",
       "      <th>ntaname</th>\n",
       "      <th>boro_name</th>\n",
       "      <th>count</th>\n",
       "      <th>2020-01-31</th>\n",
       "      <th>2020-02-29</th>\n",
       "      <th>2020-03-31</th>\n",
       "      <th>2020-04-30</th>\n",
       "      <th>2020-05-31</th>\n",
       "      <th>2020-06-30</th>\n",
       "      <th>2020-07-31</th>\n",
       "      <th>2020-08-31</th>\n",
       "      <th>2020-09-30</th>\n",
       "      <th>2020-10-31</th>\n",
       "    </tr>\n",
       "  </thead>\n",
       "  <tbody>\n",
       "    <tr>\n",
       "      <th>3</th>\n",
       "      <td>Erasmus</td>\n",
       "      <td>Brooklyn</td>\n",
       "      <td>0</td>\n",
       "      <td>0.0</td>\n",
       "      <td>0.0</td>\n",
       "      <td>0.0</td>\n",
       "      <td>0.0</td>\n",
       "      <td>0.0</td>\n",
       "      <td>0.0</td>\n",
       "      <td>0.0</td>\n",
       "      <td>0.0</td>\n",
       "      <td>0.0</td>\n",
       "      <td>0.0</td>\n",
       "    </tr>\n",
       "    <tr>\n",
       "      <th>13</th>\n",
       "      <td>Starrett City</td>\n",
       "      <td>Brooklyn</td>\n",
       "      <td>0</td>\n",
       "      <td>0.0</td>\n",
       "      <td>0.0</td>\n",
       "      <td>0.0</td>\n",
       "      <td>0.0</td>\n",
       "      <td>0.0</td>\n",
       "      <td>0.0</td>\n",
       "      <td>0.0</td>\n",
       "      <td>0.0</td>\n",
       "      <td>0.0</td>\n",
       "      <td>0.0</td>\n",
       "    </tr>\n",
       "    <tr>\n",
       "      <th>15</th>\n",
       "      <td>Madison</td>\n",
       "      <td>Brooklyn</td>\n",
       "      <td>0</td>\n",
       "      <td>0.0</td>\n",
       "      <td>0.0</td>\n",
       "      <td>0.0</td>\n",
       "      <td>0.0</td>\n",
       "      <td>0.0</td>\n",
       "      <td>0.0</td>\n",
       "      <td>0.0</td>\n",
       "      <td>0.0</td>\n",
       "      <td>0.0</td>\n",
       "      <td>0.0</td>\n",
       "    </tr>\n",
       "    <tr>\n",
       "      <th>25</th>\n",
       "      <td>Rugby-Remsen Village</td>\n",
       "      <td>Brooklyn</td>\n",
       "      <td>0</td>\n",
       "      <td>0.0</td>\n",
       "      <td>0.0</td>\n",
       "      <td>0.0</td>\n",
       "      <td>0.0</td>\n",
       "      <td>0.0</td>\n",
       "      <td>0.0</td>\n",
       "      <td>0.0</td>\n",
       "      <td>0.0</td>\n",
       "      <td>0.0</td>\n",
       "      <td>0.0</td>\n",
       "    </tr>\n",
       "    <tr>\n",
       "      <th>31</th>\n",
       "      <td>Ocean Parkway South</td>\n",
       "      <td>Brooklyn</td>\n",
       "      <td>0</td>\n",
       "      <td>0.0</td>\n",
       "      <td>0.0</td>\n",
       "      <td>0.0</td>\n",
       "      <td>0.0</td>\n",
       "      <td>0.0</td>\n",
       "      <td>0.0</td>\n",
       "      <td>0.0</td>\n",
       "      <td>0.0</td>\n",
       "      <td>0.0</td>\n",
       "      <td>0.0</td>\n",
       "    </tr>\n",
       "    <tr>\n",
       "      <th>33</th>\n",
       "      <td>Queensbridge-Ravenswood-Long Island City</td>\n",
       "      <td>Queens</td>\n",
       "      <td>0</td>\n",
       "      <td>0.0</td>\n",
       "      <td>0.0</td>\n",
       "      <td>0.0</td>\n",
       "      <td>0.0</td>\n",
       "      <td>0.0</td>\n",
       "      <td>0.0</td>\n",
       "      <td>0.0</td>\n",
       "      <td>0.0</td>\n",
       "      <td>0.0</td>\n",
       "      <td>0.0</td>\n",
       "    </tr>\n",
       "    <tr>\n",
       "      <th>38</th>\n",
       "      <td>Van Cortlandt Village</td>\n",
       "      <td>Bronx</td>\n",
       "      <td>0</td>\n",
       "      <td>0.0</td>\n",
       "      <td>0.0</td>\n",
       "      <td>0.0</td>\n",
       "      <td>0.0</td>\n",
       "      <td>0.0</td>\n",
       "      <td>0.0</td>\n",
       "      <td>0.0</td>\n",
       "      <td>0.0</td>\n",
       "      <td>0.0</td>\n",
       "      <td>0.0</td>\n",
       "    </tr>\n",
       "    <tr>\n",
       "      <th>40</th>\n",
       "      <td>Clinton</td>\n",
       "      <td>Manhattan</td>\n",
       "      <td>0</td>\n",
       "      <td>0.0</td>\n",
       "      <td>0.0</td>\n",
       "      <td>0.0</td>\n",
       "      <td>0.0</td>\n",
       "      <td>0.0</td>\n",
       "      <td>0.0</td>\n",
       "      <td>0.0</td>\n",
       "      <td>0.0</td>\n",
       "      <td>0.0</td>\n",
       "      <td>0.0</td>\n",
       "    </tr>\n",
       "    <tr>\n",
       "      <th>44</th>\n",
       "      <td>East New York (Pennsylvania Ave)</td>\n",
       "      <td>Brooklyn</td>\n",
       "      <td>0</td>\n",
       "      <td>0.0</td>\n",
       "      <td>0.0</td>\n",
       "      <td>0.0</td>\n",
       "      <td>0.0</td>\n",
       "      <td>0.0</td>\n",
       "      <td>0.0</td>\n",
       "      <td>0.0</td>\n",
       "      <td>0.0</td>\n",
       "      <td>0.0</td>\n",
       "      <td>0.0</td>\n",
       "    </tr>\n",
       "    <tr>\n",
       "      <th>47</th>\n",
       "      <td>Bronxdale</td>\n",
       "      <td>Bronx</td>\n",
       "      <td>0</td>\n",
       "      <td>0.0</td>\n",
       "      <td>0.0</td>\n",
       "      <td>0.0</td>\n",
       "      <td>0.0</td>\n",
       "      <td>0.0</td>\n",
       "      <td>0.0</td>\n",
       "      <td>0.0</td>\n",
       "      <td>0.0</td>\n",
       "      <td>0.0</td>\n",
       "      <td>0.0</td>\n",
       "    </tr>\n",
       "    <tr>\n",
       "      <th>53</th>\n",
       "      <td>Elmhurst-Maspeth</td>\n",
       "      <td>Queens</td>\n",
       "      <td>0</td>\n",
       "      <td>0.0</td>\n",
       "      <td>0.0</td>\n",
       "      <td>0.0</td>\n",
       "      <td>0.0</td>\n",
       "      <td>0.0</td>\n",
       "      <td>0.0</td>\n",
       "      <td>0.0</td>\n",
       "      <td>0.0</td>\n",
       "      <td>0.0</td>\n",
       "      <td>0.0</td>\n",
       "    </tr>\n",
       "    <tr>\n",
       "      <th>55</th>\n",
       "      <td>North Side-South Side</td>\n",
       "      <td>Brooklyn</td>\n",
       "      <td>0</td>\n",
       "      <td>0.0</td>\n",
       "      <td>0.0</td>\n",
       "      <td>0.0</td>\n",
       "      <td>0.0</td>\n",
       "      <td>0.0</td>\n",
       "      <td>0.0</td>\n",
       "      <td>0.0</td>\n",
       "      <td>0.0</td>\n",
       "      <td>0.0</td>\n",
       "      <td>0.0</td>\n",
       "    </tr>\n",
       "    <tr>\n",
       "      <th>56</th>\n",
       "      <td>Rikers Island</td>\n",
       "      <td>Bronx</td>\n",
       "      <td>0</td>\n",
       "      <td>0.0</td>\n",
       "      <td>0.0</td>\n",
       "      <td>0.0</td>\n",
       "      <td>0.0</td>\n",
       "      <td>0.0</td>\n",
       "      <td>0.0</td>\n",
       "      <td>0.0</td>\n",
       "      <td>0.0</td>\n",
       "      <td>0.0</td>\n",
       "      <td>0.0</td>\n",
       "    </tr>\n",
       "    <tr>\n",
       "      <th>61</th>\n",
       "      <td>Lincoln Square</td>\n",
       "      <td>Manhattan</td>\n",
       "      <td>0</td>\n",
       "      <td>0.0</td>\n",
       "      <td>0.0</td>\n",
       "      <td>0.0</td>\n",
       "      <td>0.0</td>\n",
       "      <td>0.0</td>\n",
       "      <td>0.0</td>\n",
       "      <td>0.0</td>\n",
       "      <td>0.0</td>\n",
       "      <td>0.0</td>\n",
       "      <td>0.0</td>\n",
       "    </tr>\n",
       "    <tr>\n",
       "      <th>64</th>\n",
       "      <td>Highbridge</td>\n",
       "      <td>Bronx</td>\n",
       "      <td>0</td>\n",
       "      <td>0.0</td>\n",
       "      <td>0.0</td>\n",
       "      <td>0.0</td>\n",
       "      <td>0.0</td>\n",
       "      <td>0.0</td>\n",
       "      <td>0.0</td>\n",
       "      <td>0.0</td>\n",
       "      <td>0.0</td>\n",
       "      <td>0.0</td>\n",
       "      <td>0.0</td>\n",
       "    </tr>\n",
       "    <tr>\n",
       "      <th>79</th>\n",
       "      <td>Yorkville</td>\n",
       "      <td>Manhattan</td>\n",
       "      <td>0</td>\n",
       "      <td>0.0</td>\n",
       "      <td>0.0</td>\n",
       "      <td>0.0</td>\n",
       "      <td>0.0</td>\n",
       "      <td>0.0</td>\n",
       "      <td>0.0</td>\n",
       "      <td>0.0</td>\n",
       "      <td>0.0</td>\n",
       "      <td>0.0</td>\n",
       "      <td>0.0</td>\n",
       "    </tr>\n",
       "    <tr>\n",
       "      <th>81</th>\n",
       "      <td>East Flushing</td>\n",
       "      <td>Queens</td>\n",
       "      <td>0</td>\n",
       "      <td>0.0</td>\n",
       "      <td>0.0</td>\n",
       "      <td>0.0</td>\n",
       "      <td>0.0</td>\n",
       "      <td>0.0</td>\n",
       "      <td>0.0</td>\n",
       "      <td>0.0</td>\n",
       "      <td>0.0</td>\n",
       "      <td>0.0</td>\n",
       "      <td>0.0</td>\n",
       "    </tr>\n",
       "    <tr>\n",
       "      <th>85</th>\n",
       "      <td>West Brighton</td>\n",
       "      <td>Brooklyn</td>\n",
       "      <td>0</td>\n",
       "      <td>0.0</td>\n",
       "      <td>0.0</td>\n",
       "      <td>0.0</td>\n",
       "      <td>0.0</td>\n",
       "      <td>0.0</td>\n",
       "      <td>0.0</td>\n",
       "      <td>0.0</td>\n",
       "      <td>0.0</td>\n",
       "      <td>0.0</td>\n",
       "      <td>0.0</td>\n",
       "    </tr>\n",
       "    <tr>\n",
       "      <th>91</th>\n",
       "      <td>Mount Hope</td>\n",
       "      <td>Bronx</td>\n",
       "      <td>0</td>\n",
       "      <td>0.0</td>\n",
       "      <td>0.0</td>\n",
       "      <td>0.0</td>\n",
       "      <td>0.0</td>\n",
       "      <td>0.0</td>\n",
       "      <td>0.0</td>\n",
       "      <td>0.0</td>\n",
       "      <td>0.0</td>\n",
       "      <td>0.0</td>\n",
       "      <td>0.0</td>\n",
       "    </tr>\n",
       "    <tr>\n",
       "      <th>99</th>\n",
       "      <td>East Williamsburg</td>\n",
       "      <td>Brooklyn</td>\n",
       "      <td>0</td>\n",
       "      <td>0.0</td>\n",
       "      <td>0.0</td>\n",
       "      <td>0.0</td>\n",
       "      <td>0.0</td>\n",
       "      <td>0.0</td>\n",
       "      <td>0.0</td>\n",
       "      <td>0.0</td>\n",
       "      <td>0.0</td>\n",
       "      <td>0.0</td>\n",
       "      <td>0.0</td>\n",
       "    </tr>\n",
       "    <tr>\n",
       "      <th>100</th>\n",
       "      <td>West Concourse</td>\n",
       "      <td>Bronx</td>\n",
       "      <td>0</td>\n",
       "      <td>0.0</td>\n",
       "      <td>0.0</td>\n",
       "      <td>0.0</td>\n",
       "      <td>0.0</td>\n",
       "      <td>0.0</td>\n",
       "      <td>0.0</td>\n",
       "      <td>0.0</td>\n",
       "      <td>0.0</td>\n",
       "      <td>0.0</td>\n",
       "      <td>0.0</td>\n",
       "    </tr>\n",
       "    <tr>\n",
       "      <th>104</th>\n",
       "      <td>Pelham Parkway</td>\n",
       "      <td>Bronx</td>\n",
       "      <td>0</td>\n",
       "      <td>0.0</td>\n",
       "      <td>0.0</td>\n",
       "      <td>0.0</td>\n",
       "      <td>0.0</td>\n",
       "      <td>0.0</td>\n",
       "      <td>0.0</td>\n",
       "      <td>0.0</td>\n",
       "      <td>0.0</td>\n",
       "      <td>0.0</td>\n",
       "      <td>0.0</td>\n",
       "    </tr>\n",
       "    <tr>\n",
       "      <th>109</th>\n",
       "      <td>Old Astoria</td>\n",
       "      <td>Queens</td>\n",
       "      <td>0</td>\n",
       "      <td>0.0</td>\n",
       "      <td>0.0</td>\n",
       "      <td>0.0</td>\n",
       "      <td>0.0</td>\n",
       "      <td>0.0</td>\n",
       "      <td>0.0</td>\n",
       "      <td>0.0</td>\n",
       "      <td>0.0</td>\n",
       "      <td>0.0</td>\n",
       "      <td>0.0</td>\n",
       "    </tr>\n",
       "    <tr>\n",
       "      <th>110</th>\n",
       "      <td>park-cemetery-etc-Manhattan</td>\n",
       "      <td>Manhattan</td>\n",
       "      <td>0</td>\n",
       "      <td>0.0</td>\n",
       "      <td>0.0</td>\n",
       "      <td>0.0</td>\n",
       "      <td>0.0</td>\n",
       "      <td>0.0</td>\n",
       "      <td>0.0</td>\n",
       "      <td>0.0</td>\n",
       "      <td>0.0</td>\n",
       "      <td>0.0</td>\n",
       "      <td>0.0</td>\n",
       "    </tr>\n",
       "    <tr>\n",
       "      <th>116</th>\n",
       "      <td>North Corona</td>\n",
       "      <td>Queens</td>\n",
       "      <td>0</td>\n",
       "      <td>0.0</td>\n",
       "      <td>0.0</td>\n",
       "      <td>0.0</td>\n",
       "      <td>0.0</td>\n",
       "      <td>0.0</td>\n",
       "      <td>0.0</td>\n",
       "      <td>0.0</td>\n",
       "      <td>0.0</td>\n",
       "      <td>0.0</td>\n",
       "      <td>0.0</td>\n",
       "    </tr>\n",
       "    <tr>\n",
       "      <th>122</th>\n",
       "      <td>Kingsbridge Heights</td>\n",
       "      <td>Bronx</td>\n",
       "      <td>0</td>\n",
       "      <td>0.0</td>\n",
       "      <td>0.0</td>\n",
       "      <td>0.0</td>\n",
       "      <td>0.0</td>\n",
       "      <td>0.0</td>\n",
       "      <td>0.0</td>\n",
       "      <td>0.0</td>\n",
       "      <td>0.0</td>\n",
       "      <td>0.0</td>\n",
       "      <td>0.0</td>\n",
       "    </tr>\n",
       "    <tr>\n",
       "      <th>128</th>\n",
       "      <td>park-cemetery-etc-Staten Island</td>\n",
       "      <td>Staten Island</td>\n",
       "      <td>0</td>\n",
       "      <td>0.0</td>\n",
       "      <td>0.0</td>\n",
       "      <td>0.0</td>\n",
       "      <td>0.0</td>\n",
       "      <td>0.0</td>\n",
       "      <td>0.0</td>\n",
       "      <td>0.0</td>\n",
       "      <td>0.0</td>\n",
       "      <td>0.0</td>\n",
       "      <td>0.0</td>\n",
       "    </tr>\n",
       "    <tr>\n",
       "      <th>129</th>\n",
       "      <td>Crotona Park East</td>\n",
       "      <td>Bronx</td>\n",
       "      <td>0</td>\n",
       "      <td>0.0</td>\n",
       "      <td>0.0</td>\n",
       "      <td>0.0</td>\n",
       "      <td>0.0</td>\n",
       "      <td>0.0</td>\n",
       "      <td>0.0</td>\n",
       "      <td>0.0</td>\n",
       "      <td>0.0</td>\n",
       "      <td>0.0</td>\n",
       "      <td>0.0</td>\n",
       "    </tr>\n",
       "    <tr>\n",
       "      <th>130</th>\n",
       "      <td>Hunts Point</td>\n",
       "      <td>Bronx</td>\n",
       "      <td>0</td>\n",
       "      <td>0.0</td>\n",
       "      <td>0.0</td>\n",
       "      <td>0.0</td>\n",
       "      <td>0.0</td>\n",
       "      <td>0.0</td>\n",
       "      <td>0.0</td>\n",
       "      <td>0.0</td>\n",
       "      <td>0.0</td>\n",
       "      <td>0.0</td>\n",
       "      <td>0.0</td>\n",
       "    </tr>\n",
       "    <tr>\n",
       "      <th>138</th>\n",
       "      <td>park-cemetery-etc-Bronx</td>\n",
       "      <td>Bronx</td>\n",
       "      <td>0</td>\n",
       "      <td>0.0</td>\n",
       "      <td>0.0</td>\n",
       "      <td>0.0</td>\n",
       "      <td>0.0</td>\n",
       "      <td>0.0</td>\n",
       "      <td>0.0</td>\n",
       "      <td>0.0</td>\n",
       "      <td>0.0</td>\n",
       "      <td>0.0</td>\n",
       "      <td>0.0</td>\n",
       "    </tr>\n",
       "    <tr>\n",
       "      <th>144</th>\n",
       "      <td>East Concourse-Concourse Village</td>\n",
       "      <td>Bronx</td>\n",
       "      <td>0</td>\n",
       "      <td>0.0</td>\n",
       "      <td>0.0</td>\n",
       "      <td>0.0</td>\n",
       "      <td>0.0</td>\n",
       "      <td>0.0</td>\n",
       "      <td>0.0</td>\n",
       "      <td>0.0</td>\n",
       "      <td>0.0</td>\n",
       "      <td>0.0</td>\n",
       "      <td>0.0</td>\n",
       "    </tr>\n",
       "    <tr>\n",
       "      <th>147</th>\n",
       "      <td>Queensboro Hill</td>\n",
       "      <td>Queens</td>\n",
       "      <td>0</td>\n",
       "      <td>0.0</td>\n",
       "      <td>0.0</td>\n",
       "      <td>0.0</td>\n",
       "      <td>0.0</td>\n",
       "      <td>0.0</td>\n",
       "      <td>0.0</td>\n",
       "      <td>0.0</td>\n",
       "      <td>0.0</td>\n",
       "      <td>0.0</td>\n",
       "      <td>0.0</td>\n",
       "    </tr>\n",
       "    <tr>\n",
       "      <th>148</th>\n",
       "      <td>Stuyvesant Town-Cooper Village</td>\n",
       "      <td>Manhattan</td>\n",
       "      <td>0</td>\n",
       "      <td>0.0</td>\n",
       "      <td>0.0</td>\n",
       "      <td>0.0</td>\n",
       "      <td>0.0</td>\n",
       "      <td>0.0</td>\n",
       "      <td>0.0</td>\n",
       "      <td>0.0</td>\n",
       "      <td>0.0</td>\n",
       "      <td>0.0</td>\n",
       "      <td>0.0</td>\n",
       "    </tr>\n",
       "    <tr>\n",
       "      <th>158</th>\n",
       "      <td>Chinatown</td>\n",
       "      <td>Manhattan</td>\n",
       "      <td>0</td>\n",
       "      <td>0.0</td>\n",
       "      <td>0.0</td>\n",
       "      <td>0.0</td>\n",
       "      <td>0.0</td>\n",
       "      <td>0.0</td>\n",
       "      <td>0.0</td>\n",
       "      <td>0.0</td>\n",
       "      <td>0.0</td>\n",
       "      <td>0.0</td>\n",
       "      <td>0.0</td>\n",
       "    </tr>\n",
       "    <tr>\n",
       "      <th>159</th>\n",
       "      <td>Claremont-Bathgate</td>\n",
       "      <td>Bronx</td>\n",
       "      <td>0</td>\n",
       "      <td>0.0</td>\n",
       "      <td>0.0</td>\n",
       "      <td>0.0</td>\n",
       "      <td>0.0</td>\n",
       "      <td>0.0</td>\n",
       "      <td>0.0</td>\n",
       "      <td>0.0</td>\n",
       "      <td>0.0</td>\n",
       "      <td>0.0</td>\n",
       "      <td>0.0</td>\n",
       "    </tr>\n",
       "    <tr>\n",
       "      <th>163</th>\n",
       "      <td>Prospect Heights</td>\n",
       "      <td>Brooklyn</td>\n",
       "      <td>0</td>\n",
       "      <td>0.0</td>\n",
       "      <td>0.0</td>\n",
       "      <td>0.0</td>\n",
       "      <td>0.0</td>\n",
       "      <td>0.0</td>\n",
       "      <td>0.0</td>\n",
       "      <td>0.0</td>\n",
       "      <td>0.0</td>\n",
       "      <td>0.0</td>\n",
       "      <td>0.0</td>\n",
       "    </tr>\n",
       "    <tr>\n",
       "      <th>166</th>\n",
       "      <td>Melrose South-Mott Haven North</td>\n",
       "      <td>Bronx</td>\n",
       "      <td>0</td>\n",
       "      <td>0.0</td>\n",
       "      <td>0.0</td>\n",
       "      <td>0.0</td>\n",
       "      <td>0.0</td>\n",
       "      <td>0.0</td>\n",
       "      <td>0.0</td>\n",
       "      <td>0.0</td>\n",
       "      <td>0.0</td>\n",
       "      <td>0.0</td>\n",
       "      <td>0.0</td>\n",
       "    </tr>\n",
       "    <tr>\n",
       "      <th>178</th>\n",
       "      <td>South Jamaica</td>\n",
       "      <td>Queens</td>\n",
       "      <td>0</td>\n",
       "      <td>0.0</td>\n",
       "      <td>0.0</td>\n",
       "      <td>0.0</td>\n",
       "      <td>0.0</td>\n",
       "      <td>0.0</td>\n",
       "      <td>0.0</td>\n",
       "      <td>0.0</td>\n",
       "      <td>0.0</td>\n",
       "      <td>0.0</td>\n",
       "      <td>0.0</td>\n",
       "    </tr>\n",
       "    <tr>\n",
       "      <th>179</th>\n",
       "      <td>Baisley Park</td>\n",
       "      <td>Queens</td>\n",
       "      <td>0</td>\n",
       "      <td>0.0</td>\n",
       "      <td>0.0</td>\n",
       "      <td>0.0</td>\n",
       "      <td>0.0</td>\n",
       "      <td>0.0</td>\n",
       "      <td>0.0</td>\n",
       "      <td>0.0</td>\n",
       "      <td>0.0</td>\n",
       "      <td>0.0</td>\n",
       "      <td>0.0</td>\n",
       "    </tr>\n",
       "    <tr>\n",
       "      <th>186</th>\n",
       "      <td>Cypress Hills-City Line</td>\n",
       "      <td>Brooklyn</td>\n",
       "      <td>0</td>\n",
       "      <td>0.0</td>\n",
       "      <td>0.0</td>\n",
       "      <td>0.0</td>\n",
       "      <td>0.0</td>\n",
       "      <td>0.0</td>\n",
       "      <td>0.0</td>\n",
       "      <td>0.0</td>\n",
       "      <td>0.0</td>\n",
       "      <td>0.0</td>\n",
       "      <td>0.0</td>\n",
       "    </tr>\n",
       "    <tr>\n",
       "      <th>190</th>\n",
       "      <td>park-cemetery-etc-Brooklyn</td>\n",
       "      <td>Brooklyn</td>\n",
       "      <td>0</td>\n",
       "      <td>0.0</td>\n",
       "      <td>0.0</td>\n",
       "      <td>0.0</td>\n",
       "      <td>0.0</td>\n",
       "      <td>0.0</td>\n",
       "      <td>0.0</td>\n",
       "      <td>0.0</td>\n",
       "      <td>0.0</td>\n",
       "      <td>0.0</td>\n",
       "      <td>0.0</td>\n",
       "    </tr>\n",
       "    <tr>\n",
       "      <th>194</th>\n",
       "      <td>park-cemetery-etc-Queens</td>\n",
       "      <td>Queens</td>\n",
       "      <td>0</td>\n",
       "      <td>0.0</td>\n",
       "      <td>0.0</td>\n",
       "      <td>0.0</td>\n",
       "      <td>0.0</td>\n",
       "      <td>0.0</td>\n",
       "      <td>0.0</td>\n",
       "      <td>0.0</td>\n",
       "      <td>0.0</td>\n",
       "      <td>0.0</td>\n",
       "      <td>0.0</td>\n",
       "    </tr>\n",
       "  </tbody>\n",
       "</table>\n",
       "</div>"
      ],
      "text/plain": [
       "                                      ntaname      boro_name  count  \\\n",
       "3                                     Erasmus       Brooklyn      0   \n",
       "13                              Starrett City       Brooklyn      0   \n",
       "15                                    Madison       Brooklyn      0   \n",
       "25                       Rugby-Remsen Village       Brooklyn      0   \n",
       "31                        Ocean Parkway South       Brooklyn      0   \n",
       "33   Queensbridge-Ravenswood-Long Island City         Queens      0   \n",
       "38                      Van Cortlandt Village          Bronx      0   \n",
       "40                                    Clinton      Manhattan      0   \n",
       "44           East New York (Pennsylvania Ave)       Brooklyn      0   \n",
       "47                                  Bronxdale          Bronx      0   \n",
       "53                           Elmhurst-Maspeth         Queens      0   \n",
       "55                      North Side-South Side       Brooklyn      0   \n",
       "56                              Rikers Island          Bronx      0   \n",
       "61                             Lincoln Square      Manhattan      0   \n",
       "64                                 Highbridge          Bronx      0   \n",
       "79                                  Yorkville      Manhattan      0   \n",
       "81                              East Flushing         Queens      0   \n",
       "85                              West Brighton       Brooklyn      0   \n",
       "91                                 Mount Hope          Bronx      0   \n",
       "99                          East Williamsburg       Brooklyn      0   \n",
       "100                            West Concourse          Bronx      0   \n",
       "104                            Pelham Parkway          Bronx      0   \n",
       "109                               Old Astoria         Queens      0   \n",
       "110               park-cemetery-etc-Manhattan      Manhattan      0   \n",
       "116                              North Corona         Queens      0   \n",
       "122                       Kingsbridge Heights          Bronx      0   \n",
       "128           park-cemetery-etc-Staten Island  Staten Island      0   \n",
       "129                         Crotona Park East          Bronx      0   \n",
       "130                               Hunts Point          Bronx      0   \n",
       "138                   park-cemetery-etc-Bronx          Bronx      0   \n",
       "144          East Concourse-Concourse Village          Bronx      0   \n",
       "147                           Queensboro Hill         Queens      0   \n",
       "148            Stuyvesant Town-Cooper Village      Manhattan      0   \n",
       "158                                 Chinatown      Manhattan      0   \n",
       "159                        Claremont-Bathgate          Bronx      0   \n",
       "163                          Prospect Heights       Brooklyn      0   \n",
       "166            Melrose South-Mott Haven North          Bronx      0   \n",
       "178                             South Jamaica         Queens      0   \n",
       "179                              Baisley Park         Queens      0   \n",
       "186                   Cypress Hills-City Line       Brooklyn      0   \n",
       "190                park-cemetery-etc-Brooklyn       Brooklyn      0   \n",
       "194                  park-cemetery-etc-Queens         Queens      0   \n",
       "\n",
       "     2020-01-31  2020-02-29  2020-03-31  2020-04-30  2020-05-31  2020-06-30  \\\n",
       "3           0.0         0.0         0.0         0.0         0.0         0.0   \n",
       "13          0.0         0.0         0.0         0.0         0.0         0.0   \n",
       "15          0.0         0.0         0.0         0.0         0.0         0.0   \n",
       "25          0.0         0.0         0.0         0.0         0.0         0.0   \n",
       "31          0.0         0.0         0.0         0.0         0.0         0.0   \n",
       "33          0.0         0.0         0.0         0.0         0.0         0.0   \n",
       "38          0.0         0.0         0.0         0.0         0.0         0.0   \n",
       "40          0.0         0.0         0.0         0.0         0.0         0.0   \n",
       "44          0.0         0.0         0.0         0.0         0.0         0.0   \n",
       "47          0.0         0.0         0.0         0.0         0.0         0.0   \n",
       "53          0.0         0.0         0.0         0.0         0.0         0.0   \n",
       "55          0.0         0.0         0.0         0.0         0.0         0.0   \n",
       "56          0.0         0.0         0.0         0.0         0.0         0.0   \n",
       "61          0.0         0.0         0.0         0.0         0.0         0.0   \n",
       "64          0.0         0.0         0.0         0.0         0.0         0.0   \n",
       "79          0.0         0.0         0.0         0.0         0.0         0.0   \n",
       "81          0.0         0.0         0.0         0.0         0.0         0.0   \n",
       "85          0.0         0.0         0.0         0.0         0.0         0.0   \n",
       "91          0.0         0.0         0.0         0.0         0.0         0.0   \n",
       "99          0.0         0.0         0.0         0.0         0.0         0.0   \n",
       "100         0.0         0.0         0.0         0.0         0.0         0.0   \n",
       "104         0.0         0.0         0.0         0.0         0.0         0.0   \n",
       "109         0.0         0.0         0.0         0.0         0.0         0.0   \n",
       "110         0.0         0.0         0.0         0.0         0.0         0.0   \n",
       "116         0.0         0.0         0.0         0.0         0.0         0.0   \n",
       "122         0.0         0.0         0.0         0.0         0.0         0.0   \n",
       "128         0.0         0.0         0.0         0.0         0.0         0.0   \n",
       "129         0.0         0.0         0.0         0.0         0.0         0.0   \n",
       "130         0.0         0.0         0.0         0.0         0.0         0.0   \n",
       "138         0.0         0.0         0.0         0.0         0.0         0.0   \n",
       "144         0.0         0.0         0.0         0.0         0.0         0.0   \n",
       "147         0.0         0.0         0.0         0.0         0.0         0.0   \n",
       "148         0.0         0.0         0.0         0.0         0.0         0.0   \n",
       "158         0.0         0.0         0.0         0.0         0.0         0.0   \n",
       "159         0.0         0.0         0.0         0.0         0.0         0.0   \n",
       "163         0.0         0.0         0.0         0.0         0.0         0.0   \n",
       "166         0.0         0.0         0.0         0.0         0.0         0.0   \n",
       "178         0.0         0.0         0.0         0.0         0.0         0.0   \n",
       "179         0.0         0.0         0.0         0.0         0.0         0.0   \n",
       "186         0.0         0.0         0.0         0.0         0.0         0.0   \n",
       "190         0.0         0.0         0.0         0.0         0.0         0.0   \n",
       "194         0.0         0.0         0.0         0.0         0.0         0.0   \n",
       "\n",
       "     2020-07-31  2020-08-31  2020-09-30  2020-10-31  \n",
       "3           0.0         0.0         0.0         0.0  \n",
       "13          0.0         0.0         0.0         0.0  \n",
       "15          0.0         0.0         0.0         0.0  \n",
       "25          0.0         0.0         0.0         0.0  \n",
       "31          0.0         0.0         0.0         0.0  \n",
       "33          0.0         0.0         0.0         0.0  \n",
       "38          0.0         0.0         0.0         0.0  \n",
       "40          0.0         0.0         0.0         0.0  \n",
       "44          0.0         0.0         0.0         0.0  \n",
       "47          0.0         0.0         0.0         0.0  \n",
       "53          0.0         0.0         0.0         0.0  \n",
       "55          0.0         0.0         0.0         0.0  \n",
       "56          0.0         0.0         0.0         0.0  \n",
       "61          0.0         0.0         0.0         0.0  \n",
       "64          0.0         0.0         0.0         0.0  \n",
       "79          0.0         0.0         0.0         0.0  \n",
       "81          0.0         0.0         0.0         0.0  \n",
       "85          0.0         0.0         0.0         0.0  \n",
       "91          0.0         0.0         0.0         0.0  \n",
       "99          0.0         0.0         0.0         0.0  \n",
       "100         0.0         0.0         0.0         0.0  \n",
       "104         0.0         0.0         0.0         0.0  \n",
       "109         0.0         0.0         0.0         0.0  \n",
       "110         0.0         0.0         0.0         0.0  \n",
       "116         0.0         0.0         0.0         0.0  \n",
       "122         0.0         0.0         0.0         0.0  \n",
       "128         0.0         0.0         0.0         0.0  \n",
       "129         0.0         0.0         0.0         0.0  \n",
       "130         0.0         0.0         0.0         0.0  \n",
       "138         0.0         0.0         0.0         0.0  \n",
       "144         0.0         0.0         0.0         0.0  \n",
       "147         0.0         0.0         0.0         0.0  \n",
       "148         0.0         0.0         0.0         0.0  \n",
       "158         0.0         0.0         0.0         0.0  \n",
       "159         0.0         0.0         0.0         0.0  \n",
       "163         0.0         0.0         0.0         0.0  \n",
       "166         0.0         0.0         0.0         0.0  \n",
       "178         0.0         0.0         0.0         0.0  \n",
       "179         0.0         0.0         0.0         0.0  \n",
       "186         0.0         0.0         0.0         0.0  \n",
       "190         0.0         0.0         0.0         0.0  \n",
       "194         0.0         0.0         0.0         0.0  "
      ]
     },
     "execution_count": 15,
     "metadata": {},
     "output_type": "execute_result"
    }
   ],
   "source": [
    "new_frame.loc[new_frame['count'] == 0]"
   ]
  },
  {
   "cell_type": "code",
   "execution_count": 178,
   "metadata": {},
   "outputs": [
    {
     "ename": "IndexError",
     "evalue": "index 306 is out of bounds for axis 0 with size 13",
     "output_type": "error",
     "traceback": [
      "\u001b[1;31m---------------------------------------------------------------------------\u001b[0m",
      "\u001b[1;31mIndexError\u001b[0m                                Traceback (most recent call last)",
      "\u001b[1;32m<ipython-input-178-db1951759609>\u001b[0m in \u001b[0;36m<module>\u001b[1;34m\u001b[0m\n\u001b[0;32m      1\u001b[0m \u001b[0mnew_frame\u001b[0m\u001b[1;33m.\u001b[0m\u001b[0mcolumns\u001b[0m\u001b[1;33m[\u001b[0m\u001b[1;36m4\u001b[0m\u001b[1;33m]\u001b[0m\u001b[1;33m\u001b[0m\u001b[1;33m\u001b[0m\u001b[0m\n\u001b[0;32m      2\u001b[0m \u001b[1;33m\u001b[0m\u001b[0m\n\u001b[1;32m----> 3\u001b[1;33m \u001b[0mnew_frame\u001b[0m\u001b[1;33m.\u001b[0m\u001b[0mcolumns\u001b[0m\u001b[1;33m[\u001b[0m\u001b[0mlen\u001b[0m\u001b[1;33m(\u001b[0m\u001b[0mcurr_row\u001b[0m\u001b[1;33m.\u001b[0m\u001b[0mcolumns\u001b[0m\u001b[1;33m)\u001b[0m\u001b[1;33m-\u001b[0m\u001b[0mlen\u001b[0m\u001b[1;33m(\u001b[0m\u001b[0mdates\u001b[0m\u001b[1;33m)\u001b[0m\u001b[1;33m+\u001b[0m\u001b[0mc\u001b[0m\u001b[1;33m]\u001b[0m\u001b[1;33m\u001b[0m\u001b[1;33m\u001b[0m\u001b[0m\n\u001b[0m",
      "\u001b[1;32m~\\.conda\\envs\\prog\\lib\\site-packages\\pandas\\core\\indexes\\base.py\u001b[0m in \u001b[0;36m__getitem__\u001b[1;34m(self, key)\u001b[0m\n\u001b[0;32m   4099\u001b[0m         \u001b[1;32mif\u001b[0m \u001b[0mis_scalar\u001b[0m\u001b[1;33m(\u001b[0m\u001b[0mkey\u001b[0m\u001b[1;33m)\u001b[0m\u001b[1;33m:\u001b[0m\u001b[1;33m\u001b[0m\u001b[1;33m\u001b[0m\u001b[0m\n\u001b[0;32m   4100\u001b[0m             \u001b[0mkey\u001b[0m \u001b[1;33m=\u001b[0m \u001b[0mcom\u001b[0m\u001b[1;33m.\u001b[0m\u001b[0mcast_scalar_indexer\u001b[0m\u001b[1;33m(\u001b[0m\u001b[0mkey\u001b[0m\u001b[1;33m,\u001b[0m \u001b[0mwarn_float\u001b[0m\u001b[1;33m=\u001b[0m\u001b[1;32mTrue\u001b[0m\u001b[1;33m)\u001b[0m\u001b[1;33m\u001b[0m\u001b[1;33m\u001b[0m\u001b[0m\n\u001b[1;32m-> 4101\u001b[1;33m             \u001b[1;32mreturn\u001b[0m \u001b[0mgetitem\u001b[0m\u001b[1;33m(\u001b[0m\u001b[0mkey\u001b[0m\u001b[1;33m)\u001b[0m\u001b[1;33m\u001b[0m\u001b[1;33m\u001b[0m\u001b[0m\n\u001b[0m\u001b[0;32m   4102\u001b[0m \u001b[1;33m\u001b[0m\u001b[0m\n\u001b[0;32m   4103\u001b[0m         \u001b[1;32mif\u001b[0m \u001b[0misinstance\u001b[0m\u001b[1;33m(\u001b[0m\u001b[0mkey\u001b[0m\u001b[1;33m,\u001b[0m \u001b[0mslice\u001b[0m\u001b[1;33m)\u001b[0m\u001b[1;33m:\u001b[0m\u001b[1;33m\u001b[0m\u001b[1;33m\u001b[0m\u001b[0m\n",
      "\u001b[1;31mIndexError\u001b[0m: index 306 is out of bounds for axis 0 with size 13"
     ]
    }
   ],
   "source": [
    "new_frame.columns[4]\n",
    "\n",
    "new_frame.columns[len(curr_row.columns)-len(dates)+c]"
   ]
  },
  {
   "cell_type": "code",
   "execution_count": null,
   "metadata": {},
   "outputs": [],
   "source": [
    "#wrong borough, typo, \n",
    "'''['Brooklyn Heights', 'Manhattan'], #brooklyn\n",
    "['Throggs Neck', 'Bronx'], #Throgs\n",
    "['Rochdale', 'Queens'], Springfield Gardens North\n",
    "['Springfield Gardens', 'Queens'], Springfield Gardens South\n",
    "['Financial District', 'Manhattan'], Lower Manhattan\n",
    "['Flatiron District', 'Manhattan'], Flatiron\n",
    "['West Brighton', 'Staten Island'], West New Brighton\n",
    "['Battery Park', 'Manhattan'], Battery Park City\n",
    "['Downtown', 'Brooklyn'], Downtown Brooklyn\n",
    "['Grasmere - Concord', 'Staten Island'], Grasmere\n",
    "['Columbia Street Waterfront District', 'Brooklyn'], Columbia Street\n",
    "['Fort Wadsworth', 'Staten Island'], Wadsworth\n",
    "['Chelsea-Travis', 'Staten Island'], Travis\n",
    "['Blissville', 'Queens'], West Maspeth\n",
    "['John F. Kennedy International Airport', 'Queens'], Airport'''"
   ]
  },
  {
   "cell_type": "code",
   "execution_count": null,
   "metadata": {},
   "outputs": [],
   "source": [
    "not_mapped\n",
    "\n",
    "'''ignore\n",
    "['South Bronx', 'Bronx'],\n",
    "['Central Park', 'Manhattan'],\n",
    "['Navy Yard', 'Brooklyn']]'''"
   ]
  },
  {
   "cell_type": "code",
   "execution_count": null,
   "metadata": {},
   "outputs": [],
   "source": [
    "corr_list = [['Washington Heights', 'Manhattan'],\n",
    " ['Bedford Stuyvesant', 'Brooklyn'],\n",
    " ['Crown Heights', 'Brooklyn'],\n",
    " ['Harlem', 'Manhattan'],\n",
    " ['Bushwick', 'Brooklyn'],\n",
    " ['Sunset Park', 'Brooklyn'],\n",
    " ['Bensonhurst', 'Brooklyn'],\n",
    " ['South Bronx', 'Bronx'],\n",
    " ['Tremont', 'Bronx'],\n",
    " ['Fordham', 'Bronx'],\n",
    " ['Greenwich Village', 'Manhattan'],\n",
    " ['Co-op City', 'Bronx'],\n",
    " ['Throggs Neck', 'Bronx'],\n",
    " ['Rochdale', 'Queens'],\n",
    " ['Financial District', 'Manhattan'],\n",
    " ['Fort Hamilton', 'Brooklyn'],\n",
    " ['Flatiron District', 'Manhattan'],\n",
    " ['Douglaston-Little Neck', 'Queens'],\n",
    " ['Brooklyn Heights', 'Manhattan'],\n",
    " ['Sutton Place', 'Manhattan'],\n",
    " ['West Brighton', 'Staten Island'],\n",
    " ['Springfield Gardens', 'Queens'],\n",
    " ['New Utrecht', 'Brooklyn'],\n",
    " ['Greenwood', 'Brooklyn'],\n",
    " ['Battery Park', 'Manhattan'],\n",
    " ['Westchester Heights', 'Bronx'],\n",
    " ['Bulls Head', 'Staten Island'],\n",
    " ['Downtown', 'Brooklyn'],\n",
    " ['Willowbrook', 'Staten Island'],\n",
    " ['Park Hill', 'Staten Island'],\n",
    " ['Greenridge', 'Staten Island'],\n",
    " ['Richmond Town', 'Staten Island'],\n",
    " ['Grant City', 'Staten Island'],\n",
    " ['Castleton Corners', 'Staten Island'],\n",
    " ['Grasmere - Concord', 'Staten Island'],\n",
    " ['Bay Terrace', 'Staten Island'],\n",
    " ['Meiers Corners', 'Staten Island'],\n",
    " ['Tompkinsville', 'Staten Island'],\n",
    " ['NoHo', 'Manhattan'],\n",
    " ['Astoria Heights', 'Queens'],\n",
    " ['Garment District', 'Manhattan'],\n",
    " ['Columbia Street Waterfront District', 'Brooklyn'],\n",
    " ['Forest Hills Gardens', 'Queens'],\n",
    " ['Pleasant Plains', 'Staten Island'],\n",
    " ['Sunnyside', 'Staten Island'],\n",
    " ['New Dorp Beach', 'Staten Island'],\n",
    " ['Elm Park', 'Staten Island'],\n",
    " ['Prospect Park South', 'Brooklyn'],\n",
    " ['Butler Manor', 'Staten Island'],\n",
    " ['Chelsea-Travis', 'Staten Island'],\n",
    " ['Central Park', 'Manhattan'],\n",
    " ['Fort Wadsworth', 'Staten Island'],\n",
    " ['Malba', 'Queens'],\n",
    " ['Pelham Bay Park', 'Bronx'],\n",
    " ['Neponsit', 'Queens'],\n",
    " ['Shore Acres', 'Staten Island'],\n",
    " ['Blissville', 'Queens'],\n",
    " ['John F. Kennedy International Airport', 'Queens'],\n",
    " ['Navy Yard', 'Brooklyn']]"
   ]
  },
  {
   "cell_type": "code",
   "execution_count": 50,
   "metadata": {},
   "outputs": [],
   "source": [
    "hover_data = [('Whitestone', 'Queens')]"
   ]
  },
  {
   "cell_type": "code",
   "execution_count": 51,
   "metadata": {},
   "outputs": [
    {
     "data": {
      "text/plain": [
       "'Whitestone'"
      ]
     },
     "execution_count": 51,
     "metadata": {},
     "output_type": "execute_result"
    }
   ],
   "source": [
    " hover_data[0][0]"
   ]
  },
  {
   "cell_type": "code",
   "execution_count": 52,
   "metadata": {},
   "outputs": [
    {
     "data": {
      "text/html": [
       "<div>\n",
       "<style scoped>\n",
       "    .dataframe tbody tr th:only-of-type {\n",
       "        vertical-align: middle;\n",
       "    }\n",
       "\n",
       "    .dataframe tbody tr th {\n",
       "        vertical-align: top;\n",
       "    }\n",
       "\n",
       "    .dataframe thead th {\n",
       "        text-align: right;\n",
       "    }\n",
       "</style>\n",
       "<table border=\"1\" class=\"dataframe\">\n",
       "  <thead>\n",
       "    <tr style=\"text-align: right;\">\n",
       "      <th></th>\n",
       "      <th>ntaname</th>\n",
       "      <th>boro_name</th>\n",
       "      <th>count</th>\n",
       "      <th>2020-01-31</th>\n",
       "      <th>2020-02-29</th>\n",
       "      <th>2020-03-31</th>\n",
       "      <th>2020-04-30</th>\n",
       "      <th>2020-05-31</th>\n",
       "      <th>2020-06-30</th>\n",
       "      <th>2020-07-31</th>\n",
       "      <th>2020-08-31</th>\n",
       "      <th>2020-09-30</th>\n",
       "      <th>2020-10-31</th>\n",
       "    </tr>\n",
       "  </thead>\n",
       "  <tbody>\n",
       "    <tr>\n",
       "      <th>151</th>\n",
       "      <td>Whitestone</td>\n",
       "      <td>Queens</td>\n",
       "      <td>2</td>\n",
       "      <td>716150.5</td>\n",
       "      <td>714378.5</td>\n",
       "      <td>712513.5</td>\n",
       "      <td>712687.0</td>\n",
       "      <td>712395.5</td>\n",
       "      <td>714074.5</td>\n",
       "      <td>716273.0</td>\n",
       "      <td>719226.5</td>\n",
       "      <td>722598.0</td>\n",
       "      <td>725292.0</td>\n",
       "    </tr>\n",
       "  </tbody>\n",
       "</table>\n",
       "</div>"
      ],
      "text/plain": [
       "        ntaname boro_name  count  2020-01-31  2020-02-29  2020-03-31  \\\n",
       "151  Whitestone    Queens      2    716150.5    714378.5    712513.5   \n",
       "\n",
       "     2020-04-30  2020-05-31  2020-06-30  2020-07-31  2020-08-31  2020-09-30  \\\n",
       "151    712687.0    712395.5    714074.5    716273.0    719226.5    722598.0   \n",
       "\n",
       "     2020-10-31  \n",
       "151    725292.0  "
      ]
     },
     "execution_count": 52,
     "metadata": {},
     "output_type": "execute_result"
    }
   ],
   "source": [
    "frame = new_frame.loc[(new_frame['ntaname'] == hover_data[0][0]) & (new_frame['boro_name'] == hover_data[0][1])]\n",
    "\n",
    "frame"
   ]
  },
  {
   "cell_type": "code",
   "execution_count": 53,
   "metadata": {},
   "outputs": [
    {
     "data": {
      "application/vnd.plotly.v1+json": {
       "config": {
        "plotlyServerURL": "https://plot.ly"
       },
       "data": [
        {
         "hovertemplate": "ntaname=Hamilton Heights<br>date=%{x}<br>price=%{y}<extra></extra>",
         "legendgroup": "Hamilton Heights",
         "line": {
          "color": "#636efa",
          "dash": "solid"
         },
         "mode": "lines",
         "name": "Hamilton Heights",
         "orientation": "v",
         "showlegend": true,
         "type": "scatter",
         "x": [
          "2020-01-31",
          "2020-02-29",
          "2020-03-31",
          "2020-04-30",
          "2020-05-31",
          "2020-06-30",
          "2020-07-31",
          "2020-08-31",
          "2020-09-30",
          "2020-10-31"
         ],
         "xaxis": "x",
         "y": [
          571840,
          572333,
          572168,
          572098,
          571145,
          572393,
          574503,
          577717,
          581482,
          583228
         ],
         "yaxis": "y"
        }
       ],
       "layout": {
        "legend": {
         "title": {
          "text": "ntaname"
         },
         "tracegroupgap": 0
        },
        "margin": {
         "t": 60
        },
        "template": {
         "data": {
          "bar": [
           {
            "error_x": {
             "color": "#2a3f5f"
            },
            "error_y": {
             "color": "#2a3f5f"
            },
            "marker": {
             "line": {
              "color": "#E5ECF6",
              "width": 0.5
             }
            },
            "type": "bar"
           }
          ],
          "barpolar": [
           {
            "marker": {
             "line": {
              "color": "#E5ECF6",
              "width": 0.5
             }
            },
            "type": "barpolar"
           }
          ],
          "carpet": [
           {
            "aaxis": {
             "endlinecolor": "#2a3f5f",
             "gridcolor": "white",
             "linecolor": "white",
             "minorgridcolor": "white",
             "startlinecolor": "#2a3f5f"
            },
            "baxis": {
             "endlinecolor": "#2a3f5f",
             "gridcolor": "white",
             "linecolor": "white",
             "minorgridcolor": "white",
             "startlinecolor": "#2a3f5f"
            },
            "type": "carpet"
           }
          ],
          "choropleth": [
           {
            "colorbar": {
             "outlinewidth": 0,
             "ticks": ""
            },
            "type": "choropleth"
           }
          ],
          "contour": [
           {
            "colorbar": {
             "outlinewidth": 0,
             "ticks": ""
            },
            "colorscale": [
             [
              0,
              "#0d0887"
             ],
             [
              0.1111111111111111,
              "#46039f"
             ],
             [
              0.2222222222222222,
              "#7201a8"
             ],
             [
              0.3333333333333333,
              "#9c179e"
             ],
             [
              0.4444444444444444,
              "#bd3786"
             ],
             [
              0.5555555555555556,
              "#d8576b"
             ],
             [
              0.6666666666666666,
              "#ed7953"
             ],
             [
              0.7777777777777778,
              "#fb9f3a"
             ],
             [
              0.8888888888888888,
              "#fdca26"
             ],
             [
              1,
              "#f0f921"
             ]
            ],
            "type": "contour"
           }
          ],
          "contourcarpet": [
           {
            "colorbar": {
             "outlinewidth": 0,
             "ticks": ""
            },
            "type": "contourcarpet"
           }
          ],
          "heatmap": [
           {
            "colorbar": {
             "outlinewidth": 0,
             "ticks": ""
            },
            "colorscale": [
             [
              0,
              "#0d0887"
             ],
             [
              0.1111111111111111,
              "#46039f"
             ],
             [
              0.2222222222222222,
              "#7201a8"
             ],
             [
              0.3333333333333333,
              "#9c179e"
             ],
             [
              0.4444444444444444,
              "#bd3786"
             ],
             [
              0.5555555555555556,
              "#d8576b"
             ],
             [
              0.6666666666666666,
              "#ed7953"
             ],
             [
              0.7777777777777778,
              "#fb9f3a"
             ],
             [
              0.8888888888888888,
              "#fdca26"
             ],
             [
              1,
              "#f0f921"
             ]
            ],
            "type": "heatmap"
           }
          ],
          "heatmapgl": [
           {
            "colorbar": {
             "outlinewidth": 0,
             "ticks": ""
            },
            "colorscale": [
             [
              0,
              "#0d0887"
             ],
             [
              0.1111111111111111,
              "#46039f"
             ],
             [
              0.2222222222222222,
              "#7201a8"
             ],
             [
              0.3333333333333333,
              "#9c179e"
             ],
             [
              0.4444444444444444,
              "#bd3786"
             ],
             [
              0.5555555555555556,
              "#d8576b"
             ],
             [
              0.6666666666666666,
              "#ed7953"
             ],
             [
              0.7777777777777778,
              "#fb9f3a"
             ],
             [
              0.8888888888888888,
              "#fdca26"
             ],
             [
              1,
              "#f0f921"
             ]
            ],
            "type": "heatmapgl"
           }
          ],
          "histogram": [
           {
            "marker": {
             "colorbar": {
              "outlinewidth": 0,
              "ticks": ""
             }
            },
            "type": "histogram"
           }
          ],
          "histogram2d": [
           {
            "colorbar": {
             "outlinewidth": 0,
             "ticks": ""
            },
            "colorscale": [
             [
              0,
              "#0d0887"
             ],
             [
              0.1111111111111111,
              "#46039f"
             ],
             [
              0.2222222222222222,
              "#7201a8"
             ],
             [
              0.3333333333333333,
              "#9c179e"
             ],
             [
              0.4444444444444444,
              "#bd3786"
             ],
             [
              0.5555555555555556,
              "#d8576b"
             ],
             [
              0.6666666666666666,
              "#ed7953"
             ],
             [
              0.7777777777777778,
              "#fb9f3a"
             ],
             [
              0.8888888888888888,
              "#fdca26"
             ],
             [
              1,
              "#f0f921"
             ]
            ],
            "type": "histogram2d"
           }
          ],
          "histogram2dcontour": [
           {
            "colorbar": {
             "outlinewidth": 0,
             "ticks": ""
            },
            "colorscale": [
             [
              0,
              "#0d0887"
             ],
             [
              0.1111111111111111,
              "#46039f"
             ],
             [
              0.2222222222222222,
              "#7201a8"
             ],
             [
              0.3333333333333333,
              "#9c179e"
             ],
             [
              0.4444444444444444,
              "#bd3786"
             ],
             [
              0.5555555555555556,
              "#d8576b"
             ],
             [
              0.6666666666666666,
              "#ed7953"
             ],
             [
              0.7777777777777778,
              "#fb9f3a"
             ],
             [
              0.8888888888888888,
              "#fdca26"
             ],
             [
              1,
              "#f0f921"
             ]
            ],
            "type": "histogram2dcontour"
           }
          ],
          "mesh3d": [
           {
            "colorbar": {
             "outlinewidth": 0,
             "ticks": ""
            },
            "type": "mesh3d"
           }
          ],
          "parcoords": [
           {
            "line": {
             "colorbar": {
              "outlinewidth": 0,
              "ticks": ""
             }
            },
            "type": "parcoords"
           }
          ],
          "pie": [
           {
            "automargin": true,
            "type": "pie"
           }
          ],
          "scatter": [
           {
            "marker": {
             "colorbar": {
              "outlinewidth": 0,
              "ticks": ""
             }
            },
            "type": "scatter"
           }
          ],
          "scatter3d": [
           {
            "line": {
             "colorbar": {
              "outlinewidth": 0,
              "ticks": ""
             }
            },
            "marker": {
             "colorbar": {
              "outlinewidth": 0,
              "ticks": ""
             }
            },
            "type": "scatter3d"
           }
          ],
          "scattercarpet": [
           {
            "marker": {
             "colorbar": {
              "outlinewidth": 0,
              "ticks": ""
             }
            },
            "type": "scattercarpet"
           }
          ],
          "scattergeo": [
           {
            "marker": {
             "colorbar": {
              "outlinewidth": 0,
              "ticks": ""
             }
            },
            "type": "scattergeo"
           }
          ],
          "scattergl": [
           {
            "marker": {
             "colorbar": {
              "outlinewidth": 0,
              "ticks": ""
             }
            },
            "type": "scattergl"
           }
          ],
          "scattermapbox": [
           {
            "marker": {
             "colorbar": {
              "outlinewidth": 0,
              "ticks": ""
             }
            },
            "type": "scattermapbox"
           }
          ],
          "scatterpolar": [
           {
            "marker": {
             "colorbar": {
              "outlinewidth": 0,
              "ticks": ""
             }
            },
            "type": "scatterpolar"
           }
          ],
          "scatterpolargl": [
           {
            "marker": {
             "colorbar": {
              "outlinewidth": 0,
              "ticks": ""
             }
            },
            "type": "scatterpolargl"
           }
          ],
          "scatterternary": [
           {
            "marker": {
             "colorbar": {
              "outlinewidth": 0,
              "ticks": ""
             }
            },
            "type": "scatterternary"
           }
          ],
          "surface": [
           {
            "colorbar": {
             "outlinewidth": 0,
             "ticks": ""
            },
            "colorscale": [
             [
              0,
              "#0d0887"
             ],
             [
              0.1111111111111111,
              "#46039f"
             ],
             [
              0.2222222222222222,
              "#7201a8"
             ],
             [
              0.3333333333333333,
              "#9c179e"
             ],
             [
              0.4444444444444444,
              "#bd3786"
             ],
             [
              0.5555555555555556,
              "#d8576b"
             ],
             [
              0.6666666666666666,
              "#ed7953"
             ],
             [
              0.7777777777777778,
              "#fb9f3a"
             ],
             [
              0.8888888888888888,
              "#fdca26"
             ],
             [
              1,
              "#f0f921"
             ]
            ],
            "type": "surface"
           }
          ],
          "table": [
           {
            "cells": {
             "fill": {
              "color": "#EBF0F8"
             },
             "line": {
              "color": "white"
             }
            },
            "header": {
             "fill": {
              "color": "#C8D4E3"
             },
             "line": {
              "color": "white"
             }
            },
            "type": "table"
           }
          ]
         },
         "layout": {
          "annotationdefaults": {
           "arrowcolor": "#2a3f5f",
           "arrowhead": 0,
           "arrowwidth": 1
          },
          "coloraxis": {
           "colorbar": {
            "outlinewidth": 0,
            "ticks": ""
           }
          },
          "colorscale": {
           "diverging": [
            [
             0,
             "#8e0152"
            ],
            [
             0.1,
             "#c51b7d"
            ],
            [
             0.2,
             "#de77ae"
            ],
            [
             0.3,
             "#f1b6da"
            ],
            [
             0.4,
             "#fde0ef"
            ],
            [
             0.5,
             "#f7f7f7"
            ],
            [
             0.6,
             "#e6f5d0"
            ],
            [
             0.7,
             "#b8e186"
            ],
            [
             0.8,
             "#7fbc41"
            ],
            [
             0.9,
             "#4d9221"
            ],
            [
             1,
             "#276419"
            ]
           ],
           "sequential": [
            [
             0,
             "#0d0887"
            ],
            [
             0.1111111111111111,
             "#46039f"
            ],
            [
             0.2222222222222222,
             "#7201a8"
            ],
            [
             0.3333333333333333,
             "#9c179e"
            ],
            [
             0.4444444444444444,
             "#bd3786"
            ],
            [
             0.5555555555555556,
             "#d8576b"
            ],
            [
             0.6666666666666666,
             "#ed7953"
            ],
            [
             0.7777777777777778,
             "#fb9f3a"
            ],
            [
             0.8888888888888888,
             "#fdca26"
            ],
            [
             1,
             "#f0f921"
            ]
           ],
           "sequentialminus": [
            [
             0,
             "#0d0887"
            ],
            [
             0.1111111111111111,
             "#46039f"
            ],
            [
             0.2222222222222222,
             "#7201a8"
            ],
            [
             0.3333333333333333,
             "#9c179e"
            ],
            [
             0.4444444444444444,
             "#bd3786"
            ],
            [
             0.5555555555555556,
             "#d8576b"
            ],
            [
             0.6666666666666666,
             "#ed7953"
            ],
            [
             0.7777777777777778,
             "#fb9f3a"
            ],
            [
             0.8888888888888888,
             "#fdca26"
            ],
            [
             1,
             "#f0f921"
            ]
           ]
          },
          "colorway": [
           "#636efa",
           "#EF553B",
           "#00cc96",
           "#ab63fa",
           "#FFA15A",
           "#19d3f3",
           "#FF6692",
           "#B6E880",
           "#FF97FF",
           "#FECB52"
          ],
          "font": {
           "color": "#2a3f5f"
          },
          "geo": {
           "bgcolor": "white",
           "lakecolor": "white",
           "landcolor": "#E5ECF6",
           "showlakes": true,
           "showland": true,
           "subunitcolor": "white"
          },
          "hoverlabel": {
           "align": "left"
          },
          "hovermode": "closest",
          "mapbox": {
           "style": "light"
          },
          "paper_bgcolor": "white",
          "plot_bgcolor": "#E5ECF6",
          "polar": {
           "angularaxis": {
            "gridcolor": "white",
            "linecolor": "white",
            "ticks": ""
           },
           "bgcolor": "#E5ECF6",
           "radialaxis": {
            "gridcolor": "white",
            "linecolor": "white",
            "ticks": ""
           }
          },
          "scene": {
           "xaxis": {
            "backgroundcolor": "#E5ECF6",
            "gridcolor": "white",
            "gridwidth": 2,
            "linecolor": "white",
            "showbackground": true,
            "ticks": "",
            "zerolinecolor": "white"
           },
           "yaxis": {
            "backgroundcolor": "#E5ECF6",
            "gridcolor": "white",
            "gridwidth": 2,
            "linecolor": "white",
            "showbackground": true,
            "ticks": "",
            "zerolinecolor": "white"
           },
           "zaxis": {
            "backgroundcolor": "#E5ECF6",
            "gridcolor": "white",
            "gridwidth": 2,
            "linecolor": "white",
            "showbackground": true,
            "ticks": "",
            "zerolinecolor": "white"
           }
          },
          "shapedefaults": {
           "line": {
            "color": "#2a3f5f"
           }
          },
          "ternary": {
           "aaxis": {
            "gridcolor": "white",
            "linecolor": "white",
            "ticks": ""
           },
           "baxis": {
            "gridcolor": "white",
            "linecolor": "white",
            "ticks": ""
           },
           "bgcolor": "#E5ECF6",
           "caxis": {
            "gridcolor": "white",
            "linecolor": "white",
            "ticks": ""
           }
          },
          "title": {
           "x": 0.05
          },
          "xaxis": {
           "automargin": true,
           "gridcolor": "white",
           "linecolor": "white",
           "ticks": "",
           "title": {
            "standoff": 15
           },
           "zerolinecolor": "white",
           "zerolinewidth": 2
          },
          "yaxis": {
           "automargin": true,
           "gridcolor": "white",
           "linecolor": "white",
           "ticks": "",
           "title": {
            "standoff": 15
           },
           "zerolinecolor": "white",
           "zerolinewidth": 2
          }
         }
        },
        "xaxis": {
         "anchor": "y",
         "domain": [
          0,
          1
         ],
         "title": {
          "text": "date"
         }
        },
        "yaxis": {
         "anchor": "x",
         "domain": [
          0,
          1
         ],
         "title": {
          "text": "price"
         }
        }
       }
      },
      "text/html": [
       "<div>                            <div id=\"7969fe23-9f45-46e3-b64f-5504457c53f4\" class=\"plotly-graph-div\" style=\"height:525px; width:100%;\"></div>            <script type=\"text/javascript\">                require([\"plotly\"], function(Plotly) {                    window.PLOTLYENV=window.PLOTLYENV || {};                                    if (document.getElementById(\"7969fe23-9f45-46e3-b64f-5504457c53f4\")) {                    Plotly.newPlot(                        \"7969fe23-9f45-46e3-b64f-5504457c53f4\",                        [{\"hovertemplate\": \"ntaname=Hamilton Heights<br>date=%{x}<br>price=%{y}<extra></extra>\", \"legendgroup\": \"Hamilton Heights\", \"line\": {\"color\": \"#636efa\", \"dash\": \"solid\"}, \"mode\": \"lines\", \"name\": \"Hamilton Heights\", \"orientation\": \"v\", \"showlegend\": true, \"type\": \"scatter\", \"x\": [\"2020-01-31\", \"2020-02-29\", \"2020-03-31\", \"2020-04-30\", \"2020-05-31\", \"2020-06-30\", \"2020-07-31\", \"2020-08-31\", \"2020-09-30\", \"2020-10-31\"], \"xaxis\": \"x\", \"y\": [571840.0, 572333.0, 572168.0, 572098.0, 571145.0, 572393.0, 574503.0, 577717.0, 581482.0, 583228.0], \"yaxis\": \"y\"}],                        {\"legend\": {\"title\": {\"text\": \"ntaname\"}, \"tracegroupgap\": 0}, \"margin\": {\"t\": 60}, \"template\": {\"data\": {\"bar\": [{\"error_x\": {\"color\": \"#2a3f5f\"}, \"error_y\": {\"color\": \"#2a3f5f\"}, \"marker\": {\"line\": {\"color\": \"#E5ECF6\", \"width\": 0.5}}, \"type\": \"bar\"}], \"barpolar\": [{\"marker\": {\"line\": {\"color\": \"#E5ECF6\", \"width\": 0.5}}, \"type\": \"barpolar\"}], \"carpet\": [{\"aaxis\": {\"endlinecolor\": \"#2a3f5f\", \"gridcolor\": \"white\", \"linecolor\": \"white\", \"minorgridcolor\": \"white\", \"startlinecolor\": \"#2a3f5f\"}, \"baxis\": {\"endlinecolor\": \"#2a3f5f\", \"gridcolor\": \"white\", \"linecolor\": \"white\", \"minorgridcolor\": \"white\", \"startlinecolor\": \"#2a3f5f\"}, \"type\": \"carpet\"}], \"choropleth\": [{\"colorbar\": {\"outlinewidth\": 0, \"ticks\": \"\"}, \"type\": \"choropleth\"}], \"contour\": [{\"colorbar\": {\"outlinewidth\": 0, \"ticks\": \"\"}, \"colorscale\": [[0.0, \"#0d0887\"], [0.1111111111111111, \"#46039f\"], [0.2222222222222222, \"#7201a8\"], [0.3333333333333333, \"#9c179e\"], [0.4444444444444444, \"#bd3786\"], [0.5555555555555556, \"#d8576b\"], [0.6666666666666666, \"#ed7953\"], [0.7777777777777778, \"#fb9f3a\"], [0.8888888888888888, \"#fdca26\"], [1.0, \"#f0f921\"]], \"type\": \"contour\"}], \"contourcarpet\": [{\"colorbar\": {\"outlinewidth\": 0, \"ticks\": \"\"}, \"type\": \"contourcarpet\"}], \"heatmap\": [{\"colorbar\": {\"outlinewidth\": 0, \"ticks\": \"\"}, \"colorscale\": [[0.0, \"#0d0887\"], [0.1111111111111111, \"#46039f\"], [0.2222222222222222, \"#7201a8\"], [0.3333333333333333, \"#9c179e\"], [0.4444444444444444, \"#bd3786\"], [0.5555555555555556, \"#d8576b\"], [0.6666666666666666, \"#ed7953\"], [0.7777777777777778, \"#fb9f3a\"], [0.8888888888888888, \"#fdca26\"], [1.0, \"#f0f921\"]], \"type\": \"heatmap\"}], \"heatmapgl\": [{\"colorbar\": {\"outlinewidth\": 0, \"ticks\": \"\"}, \"colorscale\": [[0.0, \"#0d0887\"], [0.1111111111111111, \"#46039f\"], [0.2222222222222222, \"#7201a8\"], [0.3333333333333333, \"#9c179e\"], [0.4444444444444444, \"#bd3786\"], [0.5555555555555556, \"#d8576b\"], [0.6666666666666666, \"#ed7953\"], [0.7777777777777778, \"#fb9f3a\"], [0.8888888888888888, \"#fdca26\"], [1.0, \"#f0f921\"]], \"type\": \"heatmapgl\"}], \"histogram\": [{\"marker\": {\"colorbar\": {\"outlinewidth\": 0, \"ticks\": \"\"}}, \"type\": \"histogram\"}], \"histogram2d\": [{\"colorbar\": {\"outlinewidth\": 0, \"ticks\": \"\"}, \"colorscale\": [[0.0, \"#0d0887\"], [0.1111111111111111, \"#46039f\"], [0.2222222222222222, \"#7201a8\"], [0.3333333333333333, \"#9c179e\"], [0.4444444444444444, \"#bd3786\"], [0.5555555555555556, \"#d8576b\"], [0.6666666666666666, \"#ed7953\"], [0.7777777777777778, \"#fb9f3a\"], [0.8888888888888888, \"#fdca26\"], [1.0, \"#f0f921\"]], \"type\": \"histogram2d\"}], \"histogram2dcontour\": [{\"colorbar\": {\"outlinewidth\": 0, \"ticks\": \"\"}, \"colorscale\": [[0.0, \"#0d0887\"], [0.1111111111111111, \"#46039f\"], [0.2222222222222222, \"#7201a8\"], [0.3333333333333333, \"#9c179e\"], [0.4444444444444444, \"#bd3786\"], [0.5555555555555556, \"#d8576b\"], [0.6666666666666666, \"#ed7953\"], [0.7777777777777778, \"#fb9f3a\"], [0.8888888888888888, \"#fdca26\"], [1.0, \"#f0f921\"]], \"type\": \"histogram2dcontour\"}], \"mesh3d\": [{\"colorbar\": {\"outlinewidth\": 0, \"ticks\": \"\"}, \"type\": \"mesh3d\"}], \"parcoords\": [{\"line\": {\"colorbar\": {\"outlinewidth\": 0, \"ticks\": \"\"}}, \"type\": \"parcoords\"}], \"pie\": [{\"automargin\": true, \"type\": \"pie\"}], \"scatter\": [{\"marker\": {\"colorbar\": {\"outlinewidth\": 0, \"ticks\": \"\"}}, \"type\": \"scatter\"}], \"scatter3d\": [{\"line\": {\"colorbar\": {\"outlinewidth\": 0, \"ticks\": \"\"}}, \"marker\": {\"colorbar\": {\"outlinewidth\": 0, \"ticks\": \"\"}}, \"type\": \"scatter3d\"}], \"scattercarpet\": [{\"marker\": {\"colorbar\": {\"outlinewidth\": 0, \"ticks\": \"\"}}, \"type\": \"scattercarpet\"}], \"scattergeo\": [{\"marker\": {\"colorbar\": {\"outlinewidth\": 0, \"ticks\": \"\"}}, \"type\": \"scattergeo\"}], \"scattergl\": [{\"marker\": {\"colorbar\": {\"outlinewidth\": 0, \"ticks\": \"\"}}, \"type\": \"scattergl\"}], \"scattermapbox\": [{\"marker\": {\"colorbar\": {\"outlinewidth\": 0, \"ticks\": \"\"}}, \"type\": \"scattermapbox\"}], \"scatterpolar\": [{\"marker\": {\"colorbar\": {\"outlinewidth\": 0, \"ticks\": \"\"}}, \"type\": \"scatterpolar\"}], \"scatterpolargl\": [{\"marker\": {\"colorbar\": {\"outlinewidth\": 0, \"ticks\": \"\"}}, \"type\": \"scatterpolargl\"}], \"scatterternary\": [{\"marker\": {\"colorbar\": {\"outlinewidth\": 0, \"ticks\": \"\"}}, \"type\": \"scatterternary\"}], \"surface\": [{\"colorbar\": {\"outlinewidth\": 0, \"ticks\": \"\"}, \"colorscale\": [[0.0, \"#0d0887\"], [0.1111111111111111, \"#46039f\"], [0.2222222222222222, \"#7201a8\"], [0.3333333333333333, \"#9c179e\"], [0.4444444444444444, \"#bd3786\"], [0.5555555555555556, \"#d8576b\"], [0.6666666666666666, \"#ed7953\"], [0.7777777777777778, \"#fb9f3a\"], [0.8888888888888888, \"#fdca26\"], [1.0, \"#f0f921\"]], \"type\": \"surface\"}], \"table\": [{\"cells\": {\"fill\": {\"color\": \"#EBF0F8\"}, \"line\": {\"color\": \"white\"}}, \"header\": {\"fill\": {\"color\": \"#C8D4E3\"}, \"line\": {\"color\": \"white\"}}, \"type\": \"table\"}]}, \"layout\": {\"annotationdefaults\": {\"arrowcolor\": \"#2a3f5f\", \"arrowhead\": 0, \"arrowwidth\": 1}, \"coloraxis\": {\"colorbar\": {\"outlinewidth\": 0, \"ticks\": \"\"}}, \"colorscale\": {\"diverging\": [[0, \"#8e0152\"], [0.1, \"#c51b7d\"], [0.2, \"#de77ae\"], [0.3, \"#f1b6da\"], [0.4, \"#fde0ef\"], [0.5, \"#f7f7f7\"], [0.6, \"#e6f5d0\"], [0.7, \"#b8e186\"], [0.8, \"#7fbc41\"], [0.9, \"#4d9221\"], [1, \"#276419\"]], \"sequential\": [[0.0, \"#0d0887\"], [0.1111111111111111, \"#46039f\"], [0.2222222222222222, \"#7201a8\"], [0.3333333333333333, \"#9c179e\"], [0.4444444444444444, \"#bd3786\"], [0.5555555555555556, \"#d8576b\"], [0.6666666666666666, \"#ed7953\"], [0.7777777777777778, \"#fb9f3a\"], [0.8888888888888888, \"#fdca26\"], [1.0, \"#f0f921\"]], \"sequentialminus\": [[0.0, \"#0d0887\"], [0.1111111111111111, \"#46039f\"], [0.2222222222222222, \"#7201a8\"], [0.3333333333333333, \"#9c179e\"], [0.4444444444444444, \"#bd3786\"], [0.5555555555555556, \"#d8576b\"], [0.6666666666666666, \"#ed7953\"], [0.7777777777777778, \"#fb9f3a\"], [0.8888888888888888, \"#fdca26\"], [1.0, \"#f0f921\"]]}, \"colorway\": [\"#636efa\", \"#EF553B\", \"#00cc96\", \"#ab63fa\", \"#FFA15A\", \"#19d3f3\", \"#FF6692\", \"#B6E880\", \"#FF97FF\", \"#FECB52\"], \"font\": {\"color\": \"#2a3f5f\"}, \"geo\": {\"bgcolor\": \"white\", \"lakecolor\": \"white\", \"landcolor\": \"#E5ECF6\", \"showlakes\": true, \"showland\": true, \"subunitcolor\": \"white\"}, \"hoverlabel\": {\"align\": \"left\"}, \"hovermode\": \"closest\", \"mapbox\": {\"style\": \"light\"}, \"paper_bgcolor\": \"white\", \"plot_bgcolor\": \"#E5ECF6\", \"polar\": {\"angularaxis\": {\"gridcolor\": \"white\", \"linecolor\": \"white\", \"ticks\": \"\"}, \"bgcolor\": \"#E5ECF6\", \"radialaxis\": {\"gridcolor\": \"white\", \"linecolor\": \"white\", \"ticks\": \"\"}}, \"scene\": {\"xaxis\": {\"backgroundcolor\": \"#E5ECF6\", \"gridcolor\": \"white\", \"gridwidth\": 2, \"linecolor\": \"white\", \"showbackground\": true, \"ticks\": \"\", \"zerolinecolor\": \"white\"}, \"yaxis\": {\"backgroundcolor\": \"#E5ECF6\", \"gridcolor\": \"white\", \"gridwidth\": 2, \"linecolor\": \"white\", \"showbackground\": true, \"ticks\": \"\", \"zerolinecolor\": \"white\"}, \"zaxis\": {\"backgroundcolor\": \"#E5ECF6\", \"gridcolor\": \"white\", \"gridwidth\": 2, \"linecolor\": \"white\", \"showbackground\": true, \"ticks\": \"\", \"zerolinecolor\": \"white\"}}, \"shapedefaults\": {\"line\": {\"color\": \"#2a3f5f\"}}, \"ternary\": {\"aaxis\": {\"gridcolor\": \"white\", \"linecolor\": \"white\", \"ticks\": \"\"}, \"baxis\": {\"gridcolor\": \"white\", \"linecolor\": \"white\", \"ticks\": \"\"}, \"bgcolor\": \"#E5ECF6\", \"caxis\": {\"gridcolor\": \"white\", \"linecolor\": \"white\", \"ticks\": \"\"}}, \"title\": {\"x\": 0.05}, \"xaxis\": {\"automargin\": true, \"gridcolor\": \"white\", \"linecolor\": \"white\", \"ticks\": \"\", \"title\": {\"standoff\": 15}, \"zerolinecolor\": \"white\", \"zerolinewidth\": 2}, \"yaxis\": {\"automargin\": true, \"gridcolor\": \"white\", \"linecolor\": \"white\", \"ticks\": \"\", \"title\": {\"standoff\": 15}, \"zerolinecolor\": \"white\", \"zerolinewidth\": 2}}}, \"xaxis\": {\"anchor\": \"y\", \"domain\": [0.0, 1.0], \"title\": {\"text\": \"date\"}}, \"yaxis\": {\"anchor\": \"x\", \"domain\": [0.0, 1.0], \"title\": {\"text\": \"price\"}}},                        {\"responsive\": true}                    ).then(function(){\n",
       "                            \n",
       "var gd = document.getElementById('7969fe23-9f45-46e3-b64f-5504457c53f4');\n",
       "var x = new MutationObserver(function (mutations, observer) {{\n",
       "        var display = window.getComputedStyle(gd).display;\n",
       "        if (!display || display === 'none') {{\n",
       "            console.log([gd, 'removed!']);\n",
       "            Plotly.purge(gd);\n",
       "            observer.disconnect();\n",
       "        }}\n",
       "}});\n",
       "\n",
       "// Listen for the removal of the full notebook cells\n",
       "var notebookContainer = gd.closest('#notebook-container');\n",
       "if (notebookContainer) {{\n",
       "    x.observe(notebookContainer, {childList: true});\n",
       "}}\n",
       "\n",
       "// Listen for the clearing of the current output cell\n",
       "var outputEl = gd.closest('.output');\n",
       "if (outputEl) {{\n",
       "    x.observe(outputEl, {childList: true});\n",
       "}}\n",
       "\n",
       "                        })                };                });            </script>        </div>"
      ]
     },
     "metadata": {},
     "output_type": "display_data"
    }
   ],
   "source": [
    "default_sf = new_frame.loc[(new_frame[\"ntaname\"] == 'Hamilton Heights') & (new_frame[\"boro_name\"] == 'Manhattan')]\n",
    "tr = sf.iloc[:, len(default_sf.columns)-len(dates):].T\n",
    "tr.reset_index(inplace=True)\n",
    "tr.columns = ['date', 'price']\n",
    "tr['ntaname'] = 'Hamilton Heights'\n",
    "tr['boro_name'] = 'Manhattan'\n",
    "\n",
    "scatter_fig = px.line(tr, x='date', y='price', color='ntaname')\n",
    "\n",
    "scatter_fig.show()"
   ]
  },
  {
   "cell_type": "code",
   "execution_count": 54,
   "metadata": {},
   "outputs": [
    {
     "data": {
      "text/html": [
       "<div>\n",
       "<style scoped>\n",
       "    .dataframe tbody tr th:only-of-type {\n",
       "        vertical-align: middle;\n",
       "    }\n",
       "\n",
       "    .dataframe tbody tr th {\n",
       "        vertical-align: top;\n",
       "    }\n",
       "\n",
       "    .dataframe thead th {\n",
       "        text-align: right;\n",
       "    }\n",
       "</style>\n",
       "<table border=\"1\" class=\"dataframe\">\n",
       "  <thead>\n",
       "    <tr style=\"text-align: right;\">\n",
       "      <th></th>\n",
       "      <th>date</th>\n",
       "      <th>price</th>\n",
       "      <th>ntaname</th>\n",
       "      <th>boro_name</th>\n",
       "    </tr>\n",
       "  </thead>\n",
       "  <tbody>\n",
       "    <tr>\n",
       "      <th>0</th>\n",
       "      <td>2020-01-31</td>\n",
       "      <td>716150.5</td>\n",
       "      <td>Whitestone</td>\n",
       "      <td>Queens</td>\n",
       "    </tr>\n",
       "    <tr>\n",
       "      <th>1</th>\n",
       "      <td>2020-02-29</td>\n",
       "      <td>714378.5</td>\n",
       "      <td>Whitestone</td>\n",
       "      <td>Queens</td>\n",
       "    </tr>\n",
       "    <tr>\n",
       "      <th>2</th>\n",
       "      <td>2020-03-31</td>\n",
       "      <td>712513.5</td>\n",
       "      <td>Whitestone</td>\n",
       "      <td>Queens</td>\n",
       "    </tr>\n",
       "    <tr>\n",
       "      <th>3</th>\n",
       "      <td>2020-04-30</td>\n",
       "      <td>712687.0</td>\n",
       "      <td>Whitestone</td>\n",
       "      <td>Queens</td>\n",
       "    </tr>\n",
       "    <tr>\n",
       "      <th>4</th>\n",
       "      <td>2020-05-31</td>\n",
       "      <td>712395.5</td>\n",
       "      <td>Whitestone</td>\n",
       "      <td>Queens</td>\n",
       "    </tr>\n",
       "    <tr>\n",
       "      <th>5</th>\n",
       "      <td>2020-06-30</td>\n",
       "      <td>714074.5</td>\n",
       "      <td>Whitestone</td>\n",
       "      <td>Queens</td>\n",
       "    </tr>\n",
       "    <tr>\n",
       "      <th>6</th>\n",
       "      <td>2020-07-31</td>\n",
       "      <td>716273.0</td>\n",
       "      <td>Whitestone</td>\n",
       "      <td>Queens</td>\n",
       "    </tr>\n",
       "    <tr>\n",
       "      <th>7</th>\n",
       "      <td>2020-08-31</td>\n",
       "      <td>719226.5</td>\n",
       "      <td>Whitestone</td>\n",
       "      <td>Queens</td>\n",
       "    </tr>\n",
       "    <tr>\n",
       "      <th>8</th>\n",
       "      <td>2020-09-30</td>\n",
       "      <td>722598.0</td>\n",
       "      <td>Whitestone</td>\n",
       "      <td>Queens</td>\n",
       "    </tr>\n",
       "    <tr>\n",
       "      <th>9</th>\n",
       "      <td>2020-10-31</td>\n",
       "      <td>725292.0</td>\n",
       "      <td>Whitestone</td>\n",
       "      <td>Queens</td>\n",
       "    </tr>\n",
       "  </tbody>\n",
       "</table>\n",
       "</div>"
      ],
      "text/plain": [
       "         date     price     ntaname boro_name\n",
       "0  2020-01-31  716150.5  Whitestone    Queens\n",
       "1  2020-02-29  714378.5  Whitestone    Queens\n",
       "2  2020-03-31  712513.5  Whitestone    Queens\n",
       "3  2020-04-30  712687.0  Whitestone    Queens\n",
       "4  2020-05-31  712395.5  Whitestone    Queens\n",
       "5  2020-06-30  714074.5  Whitestone    Queens\n",
       "6  2020-07-31  716273.0  Whitestone    Queens\n",
       "7  2020-08-31  719226.5  Whitestone    Queens\n",
       "8  2020-09-30  722598.0  Whitestone    Queens\n",
       "9  2020-10-31  725292.0  Whitestone    Queens"
      ]
     },
     "execution_count": 54,
     "metadata": {},
     "output_type": "execute_result"
    }
   ],
   "source": [
    "selected_frame = pd.DataFrame()\n",
    "\n",
    "for d in hover_data:\n",
    "    sf = new_frame.loc[(new_frame['ntaname'] == d[0]) & (new_frame['boro_name'] == d[1])]\n",
    "    transposed = sf.iloc[:, len(sf.columns)-len(dates):].T\n",
    "    transposed.reset_index(inplace=True)\n",
    "    transposed.columns = ['date', 'price']\n",
    "    transposed['ntaname'] = d[0]\n",
    "    transposed['boro_name'] = d[1]\n",
    "    selected_frame = pd.concat([selected_frame, transposed])\n",
    "    \n",
    "selected_frame"
   ]
  },
  {
   "cell_type": "code",
   "execution_count": 55,
   "metadata": {},
   "outputs": [
    {
     "name": "stdout",
     "output_type": "stream",
     "text": [
      "         date     price     ntaname boro_name\n",
      "0  2020-01-31  716150.5  Whitestone    Queens\n",
      "1  2020-02-29  714378.5  Whitestone    Queens\n",
      "2  2020-03-31  712513.5  Whitestone    Queens\n",
      "3  2020-04-30  712687.0  Whitestone    Queens\n",
      "4  2020-05-31  712395.5  Whitestone    Queens\n",
      "5  2020-06-30  714074.5  Whitestone    Queens\n",
      "6  2020-07-31  716273.0  Whitestone    Queens\n",
      "7  2020-08-31  719226.5  Whitestone    Queens\n",
      "8  2020-09-30  722598.0  Whitestone    Queens\n",
      "9  2020-10-31  725292.0  Whitestone    Queens\n"
     ]
    }
   ],
   "source": [
    "print(selected_frame)"
   ]
  },
  {
   "cell_type": "code",
   "execution_count": 57,
   "metadata": {},
   "outputs": [
    {
     "data": {
      "application/vnd.plotly.v1+json": {
       "config": {
        "plotlyServerURL": "https://plot.ly"
       },
       "data": [
        {
         "hovertemplate": "ntaname=Whitestone<br>date=%{x}<br>price=%{y}<extra></extra>",
         "legendgroup": "Whitestone",
         "line": {
          "color": "#636efa",
          "dash": "solid"
         },
         "mode": "lines",
         "name": "Whitestone",
         "orientation": "v",
         "showlegend": true,
         "type": "scatter",
         "x": [
          "2020-01-31",
          "2020-02-29",
          "2020-03-31",
          "2020-04-30",
          "2020-05-31",
          "2020-06-30",
          "2020-07-31",
          "2020-08-31",
          "2020-09-30",
          "2020-10-31"
         ],
         "xaxis": "x",
         "y": [
          716150.5,
          714378.5,
          712513.5,
          712687,
          712395.5,
          714074.5,
          716273,
          719226.5,
          722598,
          725292
         ],
         "yaxis": "y"
        }
       ],
       "layout": {
        "height": 400,
        "legend": {
         "title": {
          "text": "ntaname"
         },
         "tracegroupgap": 0
        },
        "margin": {
         "t": 60
        },
        "template": {
         "data": {
          "bar": [
           {
            "error_x": {
             "color": "#2a3f5f"
            },
            "error_y": {
             "color": "#2a3f5f"
            },
            "marker": {
             "line": {
              "color": "#E5ECF6",
              "width": 0.5
             }
            },
            "type": "bar"
           }
          ],
          "barpolar": [
           {
            "marker": {
             "line": {
              "color": "#E5ECF6",
              "width": 0.5
             }
            },
            "type": "barpolar"
           }
          ],
          "carpet": [
           {
            "aaxis": {
             "endlinecolor": "#2a3f5f",
             "gridcolor": "white",
             "linecolor": "white",
             "minorgridcolor": "white",
             "startlinecolor": "#2a3f5f"
            },
            "baxis": {
             "endlinecolor": "#2a3f5f",
             "gridcolor": "white",
             "linecolor": "white",
             "minorgridcolor": "white",
             "startlinecolor": "#2a3f5f"
            },
            "type": "carpet"
           }
          ],
          "choropleth": [
           {
            "colorbar": {
             "outlinewidth": 0,
             "ticks": ""
            },
            "type": "choropleth"
           }
          ],
          "contour": [
           {
            "colorbar": {
             "outlinewidth": 0,
             "ticks": ""
            },
            "colorscale": [
             [
              0,
              "#0d0887"
             ],
             [
              0.1111111111111111,
              "#46039f"
             ],
             [
              0.2222222222222222,
              "#7201a8"
             ],
             [
              0.3333333333333333,
              "#9c179e"
             ],
             [
              0.4444444444444444,
              "#bd3786"
             ],
             [
              0.5555555555555556,
              "#d8576b"
             ],
             [
              0.6666666666666666,
              "#ed7953"
             ],
             [
              0.7777777777777778,
              "#fb9f3a"
             ],
             [
              0.8888888888888888,
              "#fdca26"
             ],
             [
              1,
              "#f0f921"
             ]
            ],
            "type": "contour"
           }
          ],
          "contourcarpet": [
           {
            "colorbar": {
             "outlinewidth": 0,
             "ticks": ""
            },
            "type": "contourcarpet"
           }
          ],
          "heatmap": [
           {
            "colorbar": {
             "outlinewidth": 0,
             "ticks": ""
            },
            "colorscale": [
             [
              0,
              "#0d0887"
             ],
             [
              0.1111111111111111,
              "#46039f"
             ],
             [
              0.2222222222222222,
              "#7201a8"
             ],
             [
              0.3333333333333333,
              "#9c179e"
             ],
             [
              0.4444444444444444,
              "#bd3786"
             ],
             [
              0.5555555555555556,
              "#d8576b"
             ],
             [
              0.6666666666666666,
              "#ed7953"
             ],
             [
              0.7777777777777778,
              "#fb9f3a"
             ],
             [
              0.8888888888888888,
              "#fdca26"
             ],
             [
              1,
              "#f0f921"
             ]
            ],
            "type": "heatmap"
           }
          ],
          "heatmapgl": [
           {
            "colorbar": {
             "outlinewidth": 0,
             "ticks": ""
            },
            "colorscale": [
             [
              0,
              "#0d0887"
             ],
             [
              0.1111111111111111,
              "#46039f"
             ],
             [
              0.2222222222222222,
              "#7201a8"
             ],
             [
              0.3333333333333333,
              "#9c179e"
             ],
             [
              0.4444444444444444,
              "#bd3786"
             ],
             [
              0.5555555555555556,
              "#d8576b"
             ],
             [
              0.6666666666666666,
              "#ed7953"
             ],
             [
              0.7777777777777778,
              "#fb9f3a"
             ],
             [
              0.8888888888888888,
              "#fdca26"
             ],
             [
              1,
              "#f0f921"
             ]
            ],
            "type": "heatmapgl"
           }
          ],
          "histogram": [
           {
            "marker": {
             "colorbar": {
              "outlinewidth": 0,
              "ticks": ""
             }
            },
            "type": "histogram"
           }
          ],
          "histogram2d": [
           {
            "colorbar": {
             "outlinewidth": 0,
             "ticks": ""
            },
            "colorscale": [
             [
              0,
              "#0d0887"
             ],
             [
              0.1111111111111111,
              "#46039f"
             ],
             [
              0.2222222222222222,
              "#7201a8"
             ],
             [
              0.3333333333333333,
              "#9c179e"
             ],
             [
              0.4444444444444444,
              "#bd3786"
             ],
             [
              0.5555555555555556,
              "#d8576b"
             ],
             [
              0.6666666666666666,
              "#ed7953"
             ],
             [
              0.7777777777777778,
              "#fb9f3a"
             ],
             [
              0.8888888888888888,
              "#fdca26"
             ],
             [
              1,
              "#f0f921"
             ]
            ],
            "type": "histogram2d"
           }
          ],
          "histogram2dcontour": [
           {
            "colorbar": {
             "outlinewidth": 0,
             "ticks": ""
            },
            "colorscale": [
             [
              0,
              "#0d0887"
             ],
             [
              0.1111111111111111,
              "#46039f"
             ],
             [
              0.2222222222222222,
              "#7201a8"
             ],
             [
              0.3333333333333333,
              "#9c179e"
             ],
             [
              0.4444444444444444,
              "#bd3786"
             ],
             [
              0.5555555555555556,
              "#d8576b"
             ],
             [
              0.6666666666666666,
              "#ed7953"
             ],
             [
              0.7777777777777778,
              "#fb9f3a"
             ],
             [
              0.8888888888888888,
              "#fdca26"
             ],
             [
              1,
              "#f0f921"
             ]
            ],
            "type": "histogram2dcontour"
           }
          ],
          "mesh3d": [
           {
            "colorbar": {
             "outlinewidth": 0,
             "ticks": ""
            },
            "type": "mesh3d"
           }
          ],
          "parcoords": [
           {
            "line": {
             "colorbar": {
              "outlinewidth": 0,
              "ticks": ""
             }
            },
            "type": "parcoords"
           }
          ],
          "pie": [
           {
            "automargin": true,
            "type": "pie"
           }
          ],
          "scatter": [
           {
            "marker": {
             "colorbar": {
              "outlinewidth": 0,
              "ticks": ""
             }
            },
            "type": "scatter"
           }
          ],
          "scatter3d": [
           {
            "line": {
             "colorbar": {
              "outlinewidth": 0,
              "ticks": ""
             }
            },
            "marker": {
             "colorbar": {
              "outlinewidth": 0,
              "ticks": ""
             }
            },
            "type": "scatter3d"
           }
          ],
          "scattercarpet": [
           {
            "marker": {
             "colorbar": {
              "outlinewidth": 0,
              "ticks": ""
             }
            },
            "type": "scattercarpet"
           }
          ],
          "scattergeo": [
           {
            "marker": {
             "colorbar": {
              "outlinewidth": 0,
              "ticks": ""
             }
            },
            "type": "scattergeo"
           }
          ],
          "scattergl": [
           {
            "marker": {
             "colorbar": {
              "outlinewidth": 0,
              "ticks": ""
             }
            },
            "type": "scattergl"
           }
          ],
          "scattermapbox": [
           {
            "marker": {
             "colorbar": {
              "outlinewidth": 0,
              "ticks": ""
             }
            },
            "type": "scattermapbox"
           }
          ],
          "scatterpolar": [
           {
            "marker": {
             "colorbar": {
              "outlinewidth": 0,
              "ticks": ""
             }
            },
            "type": "scatterpolar"
           }
          ],
          "scatterpolargl": [
           {
            "marker": {
             "colorbar": {
              "outlinewidth": 0,
              "ticks": ""
             }
            },
            "type": "scatterpolargl"
           }
          ],
          "scatterternary": [
           {
            "marker": {
             "colorbar": {
              "outlinewidth": 0,
              "ticks": ""
             }
            },
            "type": "scatterternary"
           }
          ],
          "surface": [
           {
            "colorbar": {
             "outlinewidth": 0,
             "ticks": ""
            },
            "colorscale": [
             [
              0,
              "#0d0887"
             ],
             [
              0.1111111111111111,
              "#46039f"
             ],
             [
              0.2222222222222222,
              "#7201a8"
             ],
             [
              0.3333333333333333,
              "#9c179e"
             ],
             [
              0.4444444444444444,
              "#bd3786"
             ],
             [
              0.5555555555555556,
              "#d8576b"
             ],
             [
              0.6666666666666666,
              "#ed7953"
             ],
             [
              0.7777777777777778,
              "#fb9f3a"
             ],
             [
              0.8888888888888888,
              "#fdca26"
             ],
             [
              1,
              "#f0f921"
             ]
            ],
            "type": "surface"
           }
          ],
          "table": [
           {
            "cells": {
             "fill": {
              "color": "#EBF0F8"
             },
             "line": {
              "color": "white"
             }
            },
            "header": {
             "fill": {
              "color": "#C8D4E3"
             },
             "line": {
              "color": "white"
             }
            },
            "type": "table"
           }
          ]
         },
         "layout": {
          "annotationdefaults": {
           "arrowcolor": "#2a3f5f",
           "arrowhead": 0,
           "arrowwidth": 1
          },
          "coloraxis": {
           "colorbar": {
            "outlinewidth": 0,
            "ticks": ""
           }
          },
          "colorscale": {
           "diverging": [
            [
             0,
             "#8e0152"
            ],
            [
             0.1,
             "#c51b7d"
            ],
            [
             0.2,
             "#de77ae"
            ],
            [
             0.3,
             "#f1b6da"
            ],
            [
             0.4,
             "#fde0ef"
            ],
            [
             0.5,
             "#f7f7f7"
            ],
            [
             0.6,
             "#e6f5d0"
            ],
            [
             0.7,
             "#b8e186"
            ],
            [
             0.8,
             "#7fbc41"
            ],
            [
             0.9,
             "#4d9221"
            ],
            [
             1,
             "#276419"
            ]
           ],
           "sequential": [
            [
             0,
             "#0d0887"
            ],
            [
             0.1111111111111111,
             "#46039f"
            ],
            [
             0.2222222222222222,
             "#7201a8"
            ],
            [
             0.3333333333333333,
             "#9c179e"
            ],
            [
             0.4444444444444444,
             "#bd3786"
            ],
            [
             0.5555555555555556,
             "#d8576b"
            ],
            [
             0.6666666666666666,
             "#ed7953"
            ],
            [
             0.7777777777777778,
             "#fb9f3a"
            ],
            [
             0.8888888888888888,
             "#fdca26"
            ],
            [
             1,
             "#f0f921"
            ]
           ],
           "sequentialminus": [
            [
             0,
             "#0d0887"
            ],
            [
             0.1111111111111111,
             "#46039f"
            ],
            [
             0.2222222222222222,
             "#7201a8"
            ],
            [
             0.3333333333333333,
             "#9c179e"
            ],
            [
             0.4444444444444444,
             "#bd3786"
            ],
            [
             0.5555555555555556,
             "#d8576b"
            ],
            [
             0.6666666666666666,
             "#ed7953"
            ],
            [
             0.7777777777777778,
             "#fb9f3a"
            ],
            [
             0.8888888888888888,
             "#fdca26"
            ],
            [
             1,
             "#f0f921"
            ]
           ]
          },
          "colorway": [
           "#636efa",
           "#EF553B",
           "#00cc96",
           "#ab63fa",
           "#FFA15A",
           "#19d3f3",
           "#FF6692",
           "#B6E880",
           "#FF97FF",
           "#FECB52"
          ],
          "font": {
           "color": "#2a3f5f"
          },
          "geo": {
           "bgcolor": "white",
           "lakecolor": "white",
           "landcolor": "#E5ECF6",
           "showlakes": true,
           "showland": true,
           "subunitcolor": "white"
          },
          "hoverlabel": {
           "align": "left"
          },
          "hovermode": "closest",
          "mapbox": {
           "style": "light"
          },
          "paper_bgcolor": "white",
          "plot_bgcolor": "#E5ECF6",
          "polar": {
           "angularaxis": {
            "gridcolor": "white",
            "linecolor": "white",
            "ticks": ""
           },
           "bgcolor": "#E5ECF6",
           "radialaxis": {
            "gridcolor": "white",
            "linecolor": "white",
            "ticks": ""
           }
          },
          "scene": {
           "xaxis": {
            "backgroundcolor": "#E5ECF6",
            "gridcolor": "white",
            "gridwidth": 2,
            "linecolor": "white",
            "showbackground": true,
            "ticks": "",
            "zerolinecolor": "white"
           },
           "yaxis": {
            "backgroundcolor": "#E5ECF6",
            "gridcolor": "white",
            "gridwidth": 2,
            "linecolor": "white",
            "showbackground": true,
            "ticks": "",
            "zerolinecolor": "white"
           },
           "zaxis": {
            "backgroundcolor": "#E5ECF6",
            "gridcolor": "white",
            "gridwidth": 2,
            "linecolor": "white",
            "showbackground": true,
            "ticks": "",
            "zerolinecolor": "white"
           }
          },
          "shapedefaults": {
           "line": {
            "color": "#2a3f5f"
           }
          },
          "ternary": {
           "aaxis": {
            "gridcolor": "white",
            "linecolor": "white",
            "ticks": ""
           },
           "baxis": {
            "gridcolor": "white",
            "linecolor": "white",
            "ticks": ""
           },
           "bgcolor": "#E5ECF6",
           "caxis": {
            "gridcolor": "white",
            "linecolor": "white",
            "ticks": ""
           }
          },
          "title": {
           "x": 0.05
          },
          "xaxis": {
           "automargin": true,
           "gridcolor": "white",
           "linecolor": "white",
           "ticks": "",
           "title": {
            "standoff": 15
           },
           "zerolinecolor": "white",
           "zerolinewidth": 2
          },
          "yaxis": {
           "automargin": true,
           "gridcolor": "white",
           "linecolor": "white",
           "ticks": "",
           "title": {
            "standoff": 15
           },
           "zerolinecolor": "white",
           "zerolinewidth": 2
          }
         }
        },
        "width": 1200,
        "xaxis": {
         "anchor": "y",
         "domain": [
          0,
          1
         ],
         "title": {
          "text": "date"
         }
        },
        "yaxis": {
         "anchor": "x",
         "domain": [
          0,
          1
         ],
         "title": {
          "text": "price"
         }
        }
       }
      },
      "text/html": [
       "<div>                            <div id=\"3f85481a-95e7-4cdd-9e0d-323ac70f2cf1\" class=\"plotly-graph-div\" style=\"height:400px; width:1200px;\"></div>            <script type=\"text/javascript\">                require([\"plotly\"], function(Plotly) {                    window.PLOTLYENV=window.PLOTLYENV || {};                                    if (document.getElementById(\"3f85481a-95e7-4cdd-9e0d-323ac70f2cf1\")) {                    Plotly.newPlot(                        \"3f85481a-95e7-4cdd-9e0d-323ac70f2cf1\",                        [{\"hovertemplate\": \"ntaname=Whitestone<br>date=%{x}<br>price=%{y}<extra></extra>\", \"legendgroup\": \"Whitestone\", \"line\": {\"color\": \"#636efa\", \"dash\": \"solid\"}, \"mode\": \"lines\", \"name\": \"Whitestone\", \"orientation\": \"v\", \"showlegend\": true, \"type\": \"scatter\", \"x\": [\"2020-01-31\", \"2020-02-29\", \"2020-03-31\", \"2020-04-30\", \"2020-05-31\", \"2020-06-30\", \"2020-07-31\", \"2020-08-31\", \"2020-09-30\", \"2020-10-31\"], \"xaxis\": \"x\", \"y\": [716150.5, 714378.5, 712513.5, 712687.0, 712395.5, 714074.5, 716273.0, 719226.5, 722598.0, 725292.0], \"yaxis\": \"y\"}],                        {\"height\": 400, \"legend\": {\"title\": {\"text\": \"ntaname\"}, \"tracegroupgap\": 0}, \"margin\": {\"t\": 60}, \"template\": {\"data\": {\"bar\": [{\"error_x\": {\"color\": \"#2a3f5f\"}, \"error_y\": {\"color\": \"#2a3f5f\"}, \"marker\": {\"line\": {\"color\": \"#E5ECF6\", \"width\": 0.5}}, \"type\": \"bar\"}], \"barpolar\": [{\"marker\": {\"line\": {\"color\": \"#E5ECF6\", \"width\": 0.5}}, \"type\": \"barpolar\"}], \"carpet\": [{\"aaxis\": {\"endlinecolor\": \"#2a3f5f\", \"gridcolor\": \"white\", \"linecolor\": \"white\", \"minorgridcolor\": \"white\", \"startlinecolor\": \"#2a3f5f\"}, \"baxis\": {\"endlinecolor\": \"#2a3f5f\", \"gridcolor\": \"white\", \"linecolor\": \"white\", \"minorgridcolor\": \"white\", \"startlinecolor\": \"#2a3f5f\"}, \"type\": \"carpet\"}], \"choropleth\": [{\"colorbar\": {\"outlinewidth\": 0, \"ticks\": \"\"}, \"type\": \"choropleth\"}], \"contour\": [{\"colorbar\": {\"outlinewidth\": 0, \"ticks\": \"\"}, \"colorscale\": [[0.0, \"#0d0887\"], [0.1111111111111111, \"#46039f\"], [0.2222222222222222, \"#7201a8\"], [0.3333333333333333, \"#9c179e\"], [0.4444444444444444, \"#bd3786\"], [0.5555555555555556, \"#d8576b\"], [0.6666666666666666, \"#ed7953\"], [0.7777777777777778, \"#fb9f3a\"], [0.8888888888888888, \"#fdca26\"], [1.0, \"#f0f921\"]], \"type\": \"contour\"}], \"contourcarpet\": [{\"colorbar\": {\"outlinewidth\": 0, \"ticks\": \"\"}, \"type\": \"contourcarpet\"}], \"heatmap\": [{\"colorbar\": {\"outlinewidth\": 0, \"ticks\": \"\"}, \"colorscale\": [[0.0, \"#0d0887\"], [0.1111111111111111, \"#46039f\"], [0.2222222222222222, \"#7201a8\"], [0.3333333333333333, \"#9c179e\"], [0.4444444444444444, \"#bd3786\"], [0.5555555555555556, \"#d8576b\"], [0.6666666666666666, \"#ed7953\"], [0.7777777777777778, \"#fb9f3a\"], [0.8888888888888888, \"#fdca26\"], [1.0, \"#f0f921\"]], \"type\": \"heatmap\"}], \"heatmapgl\": [{\"colorbar\": {\"outlinewidth\": 0, \"ticks\": \"\"}, \"colorscale\": [[0.0, \"#0d0887\"], [0.1111111111111111, \"#46039f\"], [0.2222222222222222, \"#7201a8\"], [0.3333333333333333, \"#9c179e\"], [0.4444444444444444, \"#bd3786\"], [0.5555555555555556, \"#d8576b\"], [0.6666666666666666, \"#ed7953\"], [0.7777777777777778, \"#fb9f3a\"], [0.8888888888888888, \"#fdca26\"], [1.0, \"#f0f921\"]], \"type\": \"heatmapgl\"}], \"histogram\": [{\"marker\": {\"colorbar\": {\"outlinewidth\": 0, \"ticks\": \"\"}}, \"type\": \"histogram\"}], \"histogram2d\": [{\"colorbar\": {\"outlinewidth\": 0, \"ticks\": \"\"}, \"colorscale\": [[0.0, \"#0d0887\"], [0.1111111111111111, \"#46039f\"], [0.2222222222222222, \"#7201a8\"], [0.3333333333333333, \"#9c179e\"], [0.4444444444444444, \"#bd3786\"], [0.5555555555555556, \"#d8576b\"], [0.6666666666666666, \"#ed7953\"], [0.7777777777777778, \"#fb9f3a\"], [0.8888888888888888, \"#fdca26\"], [1.0, \"#f0f921\"]], \"type\": \"histogram2d\"}], \"histogram2dcontour\": [{\"colorbar\": {\"outlinewidth\": 0, \"ticks\": \"\"}, \"colorscale\": [[0.0, \"#0d0887\"], [0.1111111111111111, \"#46039f\"], [0.2222222222222222, \"#7201a8\"], [0.3333333333333333, \"#9c179e\"], [0.4444444444444444, \"#bd3786\"], [0.5555555555555556, \"#d8576b\"], [0.6666666666666666, \"#ed7953\"], [0.7777777777777778, \"#fb9f3a\"], [0.8888888888888888, \"#fdca26\"], [1.0, \"#f0f921\"]], \"type\": \"histogram2dcontour\"}], \"mesh3d\": [{\"colorbar\": {\"outlinewidth\": 0, \"ticks\": \"\"}, \"type\": \"mesh3d\"}], \"parcoords\": [{\"line\": {\"colorbar\": {\"outlinewidth\": 0, \"ticks\": \"\"}}, \"type\": \"parcoords\"}], \"pie\": [{\"automargin\": true, \"type\": \"pie\"}], \"scatter\": [{\"marker\": {\"colorbar\": {\"outlinewidth\": 0, \"ticks\": \"\"}}, \"type\": \"scatter\"}], \"scatter3d\": [{\"line\": {\"colorbar\": {\"outlinewidth\": 0, \"ticks\": \"\"}}, \"marker\": {\"colorbar\": {\"outlinewidth\": 0, \"ticks\": \"\"}}, \"type\": \"scatter3d\"}], \"scattercarpet\": [{\"marker\": {\"colorbar\": {\"outlinewidth\": 0, \"ticks\": \"\"}}, \"type\": \"scattercarpet\"}], \"scattergeo\": [{\"marker\": {\"colorbar\": {\"outlinewidth\": 0, \"ticks\": \"\"}}, \"type\": \"scattergeo\"}], \"scattergl\": [{\"marker\": {\"colorbar\": {\"outlinewidth\": 0, \"ticks\": \"\"}}, \"type\": \"scattergl\"}], \"scattermapbox\": [{\"marker\": {\"colorbar\": {\"outlinewidth\": 0, \"ticks\": \"\"}}, \"type\": \"scattermapbox\"}], \"scatterpolar\": [{\"marker\": {\"colorbar\": {\"outlinewidth\": 0, \"ticks\": \"\"}}, \"type\": \"scatterpolar\"}], \"scatterpolargl\": [{\"marker\": {\"colorbar\": {\"outlinewidth\": 0, \"ticks\": \"\"}}, \"type\": \"scatterpolargl\"}], \"scatterternary\": [{\"marker\": {\"colorbar\": {\"outlinewidth\": 0, \"ticks\": \"\"}}, \"type\": \"scatterternary\"}], \"surface\": [{\"colorbar\": {\"outlinewidth\": 0, \"ticks\": \"\"}, \"colorscale\": [[0.0, \"#0d0887\"], [0.1111111111111111, \"#46039f\"], [0.2222222222222222, \"#7201a8\"], [0.3333333333333333, \"#9c179e\"], [0.4444444444444444, \"#bd3786\"], [0.5555555555555556, \"#d8576b\"], [0.6666666666666666, \"#ed7953\"], [0.7777777777777778, \"#fb9f3a\"], [0.8888888888888888, \"#fdca26\"], [1.0, \"#f0f921\"]], \"type\": \"surface\"}], \"table\": [{\"cells\": {\"fill\": {\"color\": \"#EBF0F8\"}, \"line\": {\"color\": \"white\"}}, \"header\": {\"fill\": {\"color\": \"#C8D4E3\"}, \"line\": {\"color\": \"white\"}}, \"type\": \"table\"}]}, \"layout\": {\"annotationdefaults\": {\"arrowcolor\": \"#2a3f5f\", \"arrowhead\": 0, \"arrowwidth\": 1}, \"coloraxis\": {\"colorbar\": {\"outlinewidth\": 0, \"ticks\": \"\"}}, \"colorscale\": {\"diverging\": [[0, \"#8e0152\"], [0.1, \"#c51b7d\"], [0.2, \"#de77ae\"], [0.3, \"#f1b6da\"], [0.4, \"#fde0ef\"], [0.5, \"#f7f7f7\"], [0.6, \"#e6f5d0\"], [0.7, \"#b8e186\"], [0.8, \"#7fbc41\"], [0.9, \"#4d9221\"], [1, \"#276419\"]], \"sequential\": [[0.0, \"#0d0887\"], [0.1111111111111111, \"#46039f\"], [0.2222222222222222, \"#7201a8\"], [0.3333333333333333, \"#9c179e\"], [0.4444444444444444, \"#bd3786\"], [0.5555555555555556, \"#d8576b\"], [0.6666666666666666, \"#ed7953\"], [0.7777777777777778, \"#fb9f3a\"], [0.8888888888888888, \"#fdca26\"], [1.0, \"#f0f921\"]], \"sequentialminus\": [[0.0, \"#0d0887\"], [0.1111111111111111, \"#46039f\"], [0.2222222222222222, \"#7201a8\"], [0.3333333333333333, \"#9c179e\"], [0.4444444444444444, \"#bd3786\"], [0.5555555555555556, \"#d8576b\"], [0.6666666666666666, \"#ed7953\"], [0.7777777777777778, \"#fb9f3a\"], [0.8888888888888888, \"#fdca26\"], [1.0, \"#f0f921\"]]}, \"colorway\": [\"#636efa\", \"#EF553B\", \"#00cc96\", \"#ab63fa\", \"#FFA15A\", \"#19d3f3\", \"#FF6692\", \"#B6E880\", \"#FF97FF\", \"#FECB52\"], \"font\": {\"color\": \"#2a3f5f\"}, \"geo\": {\"bgcolor\": \"white\", \"lakecolor\": \"white\", \"landcolor\": \"#E5ECF6\", \"showlakes\": true, \"showland\": true, \"subunitcolor\": \"white\"}, \"hoverlabel\": {\"align\": \"left\"}, \"hovermode\": \"closest\", \"mapbox\": {\"style\": \"light\"}, \"paper_bgcolor\": \"white\", \"plot_bgcolor\": \"#E5ECF6\", \"polar\": {\"angularaxis\": {\"gridcolor\": \"white\", \"linecolor\": \"white\", \"ticks\": \"\"}, \"bgcolor\": \"#E5ECF6\", \"radialaxis\": {\"gridcolor\": \"white\", \"linecolor\": \"white\", \"ticks\": \"\"}}, \"scene\": {\"xaxis\": {\"backgroundcolor\": \"#E5ECF6\", \"gridcolor\": \"white\", \"gridwidth\": 2, \"linecolor\": \"white\", \"showbackground\": true, \"ticks\": \"\", \"zerolinecolor\": \"white\"}, \"yaxis\": {\"backgroundcolor\": \"#E5ECF6\", \"gridcolor\": \"white\", \"gridwidth\": 2, \"linecolor\": \"white\", \"showbackground\": true, \"ticks\": \"\", \"zerolinecolor\": \"white\"}, \"zaxis\": {\"backgroundcolor\": \"#E5ECF6\", \"gridcolor\": \"white\", \"gridwidth\": 2, \"linecolor\": \"white\", \"showbackground\": true, \"ticks\": \"\", \"zerolinecolor\": \"white\"}}, \"shapedefaults\": {\"line\": {\"color\": \"#2a3f5f\"}}, \"ternary\": {\"aaxis\": {\"gridcolor\": \"white\", \"linecolor\": \"white\", \"ticks\": \"\"}, \"baxis\": {\"gridcolor\": \"white\", \"linecolor\": \"white\", \"ticks\": \"\"}, \"bgcolor\": \"#E5ECF6\", \"caxis\": {\"gridcolor\": \"white\", \"linecolor\": \"white\", \"ticks\": \"\"}}, \"title\": {\"x\": 0.05}, \"xaxis\": {\"automargin\": true, \"gridcolor\": \"white\", \"linecolor\": \"white\", \"ticks\": \"\", \"title\": {\"standoff\": 15}, \"zerolinecolor\": \"white\", \"zerolinewidth\": 2}, \"yaxis\": {\"automargin\": true, \"gridcolor\": \"white\", \"linecolor\": \"white\", \"ticks\": \"\", \"title\": {\"standoff\": 15}, \"zerolinecolor\": \"white\", \"zerolinewidth\": 2}}}, \"width\": 1200, \"xaxis\": {\"anchor\": \"y\", \"domain\": [0.0, 1.0], \"title\": {\"text\": \"date\"}}, \"yaxis\": {\"anchor\": \"x\", \"domain\": [0.0, 1.0], \"title\": {\"text\": \"price\"}}},                        {\"responsive\": true}                    ).then(function(){\n",
       "                            \n",
       "var gd = document.getElementById('3f85481a-95e7-4cdd-9e0d-323ac70f2cf1');\n",
       "var x = new MutationObserver(function (mutations, observer) {{\n",
       "        var display = window.getComputedStyle(gd).display;\n",
       "        if (!display || display === 'none') {{\n",
       "            console.log([gd, 'removed!']);\n",
       "            Plotly.purge(gd);\n",
       "            observer.disconnect();\n",
       "        }}\n",
       "}});\n",
       "\n",
       "// Listen for the removal of the full notebook cells\n",
       "var notebookContainer = gd.closest('#notebook-container');\n",
       "if (notebookContainer) {{\n",
       "    x.observe(notebookContainer, {childList: true});\n",
       "}}\n",
       "\n",
       "// Listen for the clearing of the current output cell\n",
       "var outputEl = gd.closest('.output');\n",
       "if (outputEl) {{\n",
       "    x.observe(outputEl, {childList: true});\n",
       "}}\n",
       "\n",
       "                        })                };                });            </script>        </div>"
      ]
     },
     "metadata": {},
     "output_type": "display_data"
    }
   ],
   "source": [
    "scatter_fig = px.line(selected_frame,\n",
    "                      x='date',\n",
    "                      y='price',\n",
    "                      color='ntaname'\n",
    "                      )\n",
    "\n",
    "scatter_fig.update_layout(width=1200,\n",
    "                              height=400\n",
    "                              )\n",
    "scatter_fig.show()"
   ]
  },
  {
   "cell_type": "code",
   "execution_count": 58,
   "metadata": {},
   "outputs": [
    {
     "data": {
      "text/plain": [
       "712395.5"
      ]
     },
     "execution_count": 58,
     "metadata": {},
     "output_type": "execute_result"
    }
   ],
   "source": [
    "selected_frame['price'].min()"
   ]
  },
  {
   "cell_type": "code",
   "execution_count": 28,
   "metadata": {},
   "outputs": [
    {
     "data": {
      "text/html": [
       "<div>\n",
       "<style scoped>\n",
       "    .dataframe tbody tr th:only-of-type {\n",
       "        vertical-align: middle;\n",
       "    }\n",
       "\n",
       "    .dataframe tbody tr th {\n",
       "        vertical-align: top;\n",
       "    }\n",
       "\n",
       "    .dataframe thead th {\n",
       "        text-align: right;\n",
       "    }\n",
       "</style>\n",
       "<table border=\"1\" class=\"dataframe\">\n",
       "  <thead>\n",
       "    <tr style=\"text-align: right;\">\n",
       "      <th></th>\n",
       "      <th>ntaname</th>\n",
       "      <th>boro_name</th>\n",
       "      <th>count</th>\n",
       "      <th>2020-01-31</th>\n",
       "      <th>2020-02-29</th>\n",
       "      <th>2020-03-31</th>\n",
       "      <th>2020-04-30</th>\n",
       "      <th>2020-05-31</th>\n",
       "      <th>2020-06-30</th>\n",
       "      <th>2020-07-31</th>\n",
       "      <th>2020-08-31</th>\n",
       "      <th>2020-09-30</th>\n",
       "      <th>2020-10-31</th>\n",
       "    </tr>\n",
       "  </thead>\n",
       "  <tbody>\n",
       "  </tbody>\n",
       "</table>\n",
       "</div>"
      ],
      "text/plain": [
       "Empty DataFrame\n",
       "Columns: [ntaname, boro_name, count, 2020-01-31, 2020-02-29, 2020-03-31, 2020-04-30, 2020-05-31, 2020-06-30, 2020-07-31, 2020-08-31, 2020-09-30, 2020-10-31]\n",
       "Index: []"
      ]
     },
     "execution_count": 28,
     "metadata": {},
     "output_type": "execute_result"
    }
   ],
   "source": [
    "#hover_frame = new_frame.loc[new_frame['ntaname'].isin(hover_data)]\n",
    "hover_frame1 = new_frame.loc[new_frame['ntaname'] == hover_data[0]]\n",
    "\n",
    "hover_frame1"
   ]
  },
  {
   "cell_type": "code",
   "execution_count": 130,
   "metadata": {},
   "outputs": [
    {
     "data": {
      "text/html": [
       "<div>\n",
       "<style scoped>\n",
       "    .dataframe tbody tr th:only-of-type {\n",
       "        vertical-align: middle;\n",
       "    }\n",
       "\n",
       "    .dataframe tbody tr th {\n",
       "        vertical-align: top;\n",
       "    }\n",
       "\n",
       "    .dataframe thead th {\n",
       "        text-align: right;\n",
       "    }\n",
       "</style>\n",
       "<table border=\"1\" class=\"dataframe\">\n",
       "  <thead>\n",
       "    <tr style=\"text-align: right;\">\n",
       "      <th></th>\n",
       "      <th>ntaname</th>\n",
       "      <th>boro_name</th>\n",
       "      <th>count</th>\n",
       "      <th>2020-01-31</th>\n",
       "      <th>2020-02-29</th>\n",
       "      <th>2020-03-31</th>\n",
       "      <th>2020-04-30</th>\n",
       "      <th>2020-05-31</th>\n",
       "      <th>2020-06-30</th>\n",
       "      <th>2020-07-31</th>\n",
       "      <th>2020-08-31</th>\n",
       "      <th>2020-09-30</th>\n",
       "      <th>2020-10-31</th>\n",
       "    </tr>\n",
       "  </thead>\n",
       "  <tbody>\n",
       "    <tr>\n",
       "      <th>1</th>\n",
       "      <td>Murray Hill</td>\n",
       "      <td>Queens</td>\n",
       "      <td>1</td>\n",
       "      <td>384721.0</td>\n",
       "      <td>384396.0</td>\n",
       "      <td>383443.0</td>\n",
       "      <td>383618.0</td>\n",
       "      <td>383362.0</td>\n",
       "      <td>383960.0</td>\n",
       "      <td>384397.0</td>\n",
       "      <td>384940.0</td>\n",
       "      <td>386321.0</td>\n",
       "      <td>388206.0</td>\n",
       "    </tr>\n",
       "  </tbody>\n",
       "</table>\n",
       "</div>"
      ],
      "text/plain": [
       "       ntaname boro_name  count  2020-01-31  2020-02-29  2020-03-31  \\\n",
       "1  Murray Hill    Queens      1    384721.0    384396.0    383443.0   \n",
       "\n",
       "   2020-04-30  2020-05-31  2020-06-30  2020-07-31  2020-08-31  2020-09-30  \\\n",
       "1    383618.0    383362.0    383960.0    384397.0    384940.0    386321.0   \n",
       "\n",
       "   2020-10-31  \n",
       "1    388206.0  "
      ]
     },
     "execution_count": 130,
     "metadata": {},
     "output_type": "execute_result"
    }
   ],
   "source": [
    "hover_frame2 = new_frame.loc[new_frame['ntaname'] == hover_data[1]]\n",
    "\n",
    "hover_frame2"
   ]
  },
  {
   "cell_type": "code",
   "execution_count": 131,
   "metadata": {},
   "outputs": [
    {
     "data": {
      "text/html": [
       "<div>\n",
       "<style scoped>\n",
       "    .dataframe tbody tr th:only-of-type {\n",
       "        vertical-align: middle;\n",
       "    }\n",
       "\n",
       "    .dataframe tbody tr th {\n",
       "        vertical-align: top;\n",
       "    }\n",
       "\n",
       "    .dataframe thead th {\n",
       "        text-align: right;\n",
       "    }\n",
       "</style>\n",
       "<table border=\"1\" class=\"dataframe\">\n",
       "  <thead>\n",
       "    <tr style=\"text-align: right;\">\n",
       "      <th></th>\n",
       "      <th>ntaname</th>\n",
       "      <th>boro_name</th>\n",
       "      <th>count</th>\n",
       "      <th>2020-01-31</th>\n",
       "      <th>2020-02-29</th>\n",
       "      <th>2020-03-31</th>\n",
       "      <th>2020-04-30</th>\n",
       "      <th>2020-05-31</th>\n",
       "      <th>2020-06-30</th>\n",
       "      <th>2020-07-31</th>\n",
       "      <th>2020-08-31</th>\n",
       "      <th>2020-09-30</th>\n",
       "      <th>2020-10-31</th>\n",
       "    </tr>\n",
       "  </thead>\n",
       "  <tbody>\n",
       "    <tr>\n",
       "      <th>151</th>\n",
       "      <td>Whitestone</td>\n",
       "      <td>Queens</td>\n",
       "      <td>2</td>\n",
       "      <td>716150.5</td>\n",
       "      <td>714378.5</td>\n",
       "      <td>712513.5</td>\n",
       "      <td>712687.0</td>\n",
       "      <td>712395.5</td>\n",
       "      <td>714074.5</td>\n",
       "      <td>716273.0</td>\n",
       "      <td>719226.5</td>\n",
       "      <td>722598.0</td>\n",
       "      <td>725292.0</td>\n",
       "    </tr>\n",
       "    <tr>\n",
       "      <th>1</th>\n",
       "      <td>Murray Hill</td>\n",
       "      <td>Queens</td>\n",
       "      <td>1</td>\n",
       "      <td>384721.0</td>\n",
       "      <td>384396.0</td>\n",
       "      <td>383443.0</td>\n",
       "      <td>383618.0</td>\n",
       "      <td>383362.0</td>\n",
       "      <td>383960.0</td>\n",
       "      <td>384397.0</td>\n",
       "      <td>384940.0</td>\n",
       "      <td>386321.0</td>\n",
       "      <td>388206.0</td>\n",
       "    </tr>\n",
       "  </tbody>\n",
       "</table>\n",
       "</div>"
      ],
      "text/plain": [
       "         ntaname boro_name  count  2020-01-31  2020-02-29  2020-03-31  \\\n",
       "151   Whitestone    Queens      2    716150.5    714378.5    712513.5   \n",
       "1    Murray Hill    Queens      1    384721.0    384396.0    383443.0   \n",
       "\n",
       "     2020-04-30  2020-05-31  2020-06-30  2020-07-31  2020-08-31  2020-09-30  \\\n",
       "151    712687.0    712395.5    714074.5    716273.0    719226.5    722598.0   \n",
       "1      383618.0    383362.0    383960.0    384397.0    384940.0    386321.0   \n",
       "\n",
       "     2020-10-31  \n",
       "151    725292.0  \n",
       "1      388206.0  "
      ]
     },
     "execution_count": 131,
     "metadata": {},
     "output_type": "execute_result"
    }
   ],
   "source": [
    "concat = pd.concat([hover_frame1, hover_frame2])\n",
    "\n",
    "concat"
   ]
  },
  {
   "cell_type": "code",
   "execution_count": 132,
   "metadata": {},
   "outputs": [
    {
     "data": {
      "text/html": [
       "<div>\n",
       "<style scoped>\n",
       "    .dataframe tbody tr th:only-of-type {\n",
       "        vertical-align: middle;\n",
       "    }\n",
       "\n",
       "    .dataframe tbody tr th {\n",
       "        vertical-align: top;\n",
       "    }\n",
       "\n",
       "    .dataframe thead th {\n",
       "        text-align: right;\n",
       "    }\n",
       "</style>\n",
       "<table border=\"1\" class=\"dataframe\">\n",
       "  <thead>\n",
       "    <tr style=\"text-align: right;\">\n",
       "      <th></th>\n",
       "      <th>151</th>\n",
       "    </tr>\n",
       "  </thead>\n",
       "  <tbody>\n",
       "    <tr>\n",
       "      <th>2020-04-30</th>\n",
       "      <td>712687.0</td>\n",
       "    </tr>\n",
       "    <tr>\n",
       "      <th>2020-05-31</th>\n",
       "      <td>712395.5</td>\n",
       "    </tr>\n",
       "    <tr>\n",
       "      <th>2020-06-30</th>\n",
       "      <td>714074.5</td>\n",
       "    </tr>\n",
       "    <tr>\n",
       "      <th>2020-07-31</th>\n",
       "      <td>716273.0</td>\n",
       "    </tr>\n",
       "    <tr>\n",
       "      <th>2020-08-31</th>\n",
       "      <td>719226.5</td>\n",
       "    </tr>\n",
       "    <tr>\n",
       "      <th>2020-09-30</th>\n",
       "      <td>722598.0</td>\n",
       "    </tr>\n",
       "    <tr>\n",
       "      <th>2020-10-31</th>\n",
       "      <td>725292.0</td>\n",
       "    </tr>\n",
       "  </tbody>\n",
       "</table>\n",
       "</div>"
      ],
      "text/plain": [
       "                 151\n",
       "2020-04-30  712687.0\n",
       "2020-05-31  712395.5\n",
       "2020-06-30  714074.5\n",
       "2020-07-31  716273.0\n",
       "2020-08-31  719226.5\n",
       "2020-09-30  722598.0\n",
       "2020-10-31  725292.0"
      ]
     },
     "execution_count": 132,
     "metadata": {},
     "output_type": "execute_result"
    }
   ],
   "source": [
    "transposed = hover_frame1.iloc[:, len(hover_frame)-len(dates):].T\n",
    "\n",
    "transposed"
   ]
  },
  {
   "cell_type": "code",
   "execution_count": 133,
   "metadata": {},
   "outputs": [
    {
     "data": {
      "text/html": [
       "<div>\n",
       "<style scoped>\n",
       "    .dataframe tbody tr th:only-of-type {\n",
       "        vertical-align: middle;\n",
       "    }\n",
       "\n",
       "    .dataframe tbody tr th {\n",
       "        vertical-align: top;\n",
       "    }\n",
       "\n",
       "    .dataframe thead th {\n",
       "        text-align: right;\n",
       "    }\n",
       "</style>\n",
       "<table border=\"1\" class=\"dataframe\">\n",
       "  <thead>\n",
       "    <tr style=\"text-align: right;\">\n",
       "      <th></th>\n",
       "      <th>dates</th>\n",
       "      <th>prices</th>\n",
       "    </tr>\n",
       "  </thead>\n",
       "  <tbody>\n",
       "    <tr>\n",
       "      <th>0</th>\n",
       "      <td>2020-04-30</td>\n",
       "      <td>712687.0</td>\n",
       "    </tr>\n",
       "    <tr>\n",
       "      <th>1</th>\n",
       "      <td>2020-05-31</td>\n",
       "      <td>712395.5</td>\n",
       "    </tr>\n",
       "    <tr>\n",
       "      <th>2</th>\n",
       "      <td>2020-06-30</td>\n",
       "      <td>714074.5</td>\n",
       "    </tr>\n",
       "    <tr>\n",
       "      <th>3</th>\n",
       "      <td>2020-07-31</td>\n",
       "      <td>716273.0</td>\n",
       "    </tr>\n",
       "    <tr>\n",
       "      <th>4</th>\n",
       "      <td>2020-08-31</td>\n",
       "      <td>719226.5</td>\n",
       "    </tr>\n",
       "    <tr>\n",
       "      <th>5</th>\n",
       "      <td>2020-09-30</td>\n",
       "      <td>722598.0</td>\n",
       "    </tr>\n",
       "    <tr>\n",
       "      <th>6</th>\n",
       "      <td>2020-10-31</td>\n",
       "      <td>725292.0</td>\n",
       "    </tr>\n",
       "  </tbody>\n",
       "</table>\n",
       "</div>"
      ],
      "text/plain": [
       "        dates    prices\n",
       "0  2020-04-30  712687.0\n",
       "1  2020-05-31  712395.5\n",
       "2  2020-06-30  714074.5\n",
       "3  2020-07-31  716273.0\n",
       "4  2020-08-31  719226.5\n",
       "5  2020-09-30  722598.0\n",
       "6  2020-10-31  725292.0"
      ]
     },
     "execution_count": 133,
     "metadata": {},
     "output_type": "execute_result"
    }
   ],
   "source": [
    "transposed = hover_frame1.iloc[:, len(hover_frame)-len(dates):].T\n",
    "transposed.reset_index(inplace=True)\n",
    "transposed.columns = ['dates', 'prices']\n",
    "\n",
    "transposed\n"
   ]
  },
  {
   "cell_type": "code",
   "execution_count": 135,
   "metadata": {},
   "outputs": [
    {
     "data": {
      "text/html": [
       "<div>\n",
       "<style scoped>\n",
       "    .dataframe tbody tr th:only-of-type {\n",
       "        vertical-align: middle;\n",
       "    }\n",
       "\n",
       "    .dataframe tbody tr th {\n",
       "        vertical-align: top;\n",
       "    }\n",
       "\n",
       "    .dataframe thead th {\n",
       "        text-align: right;\n",
       "    }\n",
       "</style>\n",
       "<table border=\"1\" class=\"dataframe\">\n",
       "  <thead>\n",
       "    <tr style=\"text-align: right;\">\n",
       "      <th></th>\n",
       "      <th>dates</th>\n",
       "      <th>prices</th>\n",
       "      <th>name</th>\n",
       "    </tr>\n",
       "  </thead>\n",
       "  <tbody>\n",
       "    <tr>\n",
       "      <th>0</th>\n",
       "      <td>2020-04-30</td>\n",
       "      <td>712687.0</td>\n",
       "      <td>e</td>\n",
       "    </tr>\n",
       "    <tr>\n",
       "      <th>1</th>\n",
       "      <td>2020-05-31</td>\n",
       "      <td>712395.5</td>\n",
       "      <td>e</td>\n",
       "    </tr>\n",
       "    <tr>\n",
       "      <th>2</th>\n",
       "      <td>2020-06-30</td>\n",
       "      <td>714074.5</td>\n",
       "      <td>e</td>\n",
       "    </tr>\n",
       "    <tr>\n",
       "      <th>3</th>\n",
       "      <td>2020-07-31</td>\n",
       "      <td>716273.0</td>\n",
       "      <td>e</td>\n",
       "    </tr>\n",
       "    <tr>\n",
       "      <th>4</th>\n",
       "      <td>2020-08-31</td>\n",
       "      <td>719226.5</td>\n",
       "      <td>e</td>\n",
       "    </tr>\n",
       "    <tr>\n",
       "      <th>5</th>\n",
       "      <td>2020-09-30</td>\n",
       "      <td>722598.0</td>\n",
       "      <td>e</td>\n",
       "    </tr>\n",
       "    <tr>\n",
       "      <th>6</th>\n",
       "      <td>2020-10-31</td>\n",
       "      <td>725292.0</td>\n",
       "      <td>e</td>\n",
       "    </tr>\n",
       "  </tbody>\n",
       "</table>\n",
       "</div>"
      ],
      "text/plain": [
       "        dates    prices name\n",
       "0  2020-04-30  712687.0    e\n",
       "1  2020-05-31  712395.5    e\n",
       "2  2020-06-30  714074.5    e\n",
       "3  2020-07-31  716273.0    e\n",
       "4  2020-08-31  719226.5    e\n",
       "5  2020-09-30  722598.0    e\n",
       "6  2020-10-31  725292.0    e"
      ]
     },
     "execution_count": 135,
     "metadata": {},
     "output_type": "execute_result"
    }
   ],
   "source": [
    "transposed['name'] = 'e'\n",
    "\n",
    "transposed"
   ]
  },
  {
   "cell_type": "code",
   "execution_count": 108,
   "metadata": {},
   "outputs": [
    {
     "data": {
      "text/html": [
       "<div>\n",
       "<style scoped>\n",
       "    .dataframe tbody tr th:only-of-type {\n",
       "        vertical-align: middle;\n",
       "    }\n",
       "\n",
       "    .dataframe tbody tr th {\n",
       "        vertical-align: top;\n",
       "    }\n",
       "\n",
       "    .dataframe thead th {\n",
       "        text-align: right;\n",
       "    }\n",
       "</style>\n",
       "<table border=\"1\" class=\"dataframe\">\n",
       "  <thead>\n",
       "    <tr style=\"text-align: right;\">\n",
       "      <th></th>\n",
       "      <th>dates</th>\n",
       "      <th>prices</th>\n",
       "    </tr>\n",
       "  </thead>\n",
       "  <tbody>\n",
       "    <tr>\n",
       "      <th>0</th>\n",
       "      <td>2020-02-29</td>\n",
       "      <td>714378.5</td>\n",
       "    </tr>\n",
       "    <tr>\n",
       "      <th>1</th>\n",
       "      <td>2020-03-31</td>\n",
       "      <td>712513.5</td>\n",
       "    </tr>\n",
       "    <tr>\n",
       "      <th>2</th>\n",
       "      <td>2020-04-30</td>\n",
       "      <td>712687.0</td>\n",
       "    </tr>\n",
       "    <tr>\n",
       "      <th>3</th>\n",
       "      <td>2020-05-31</td>\n",
       "      <td>712395.5</td>\n",
       "    </tr>\n",
       "    <tr>\n",
       "      <th>4</th>\n",
       "      <td>2020-06-30</td>\n",
       "      <td>714074.5</td>\n",
       "    </tr>\n",
       "  </tbody>\n",
       "</table>\n",
       "</div>"
      ],
      "text/plain": [
       "        dates    prices\n",
       "0  2020-02-29  714378.5\n",
       "1  2020-03-31  712513.5\n",
       "2  2020-04-30  712687.0\n",
       "3  2020-05-31  712395.5\n",
       "4  2020-06-30  714074.5"
      ]
     },
     "execution_count": 108,
     "metadata": {},
     "output_type": "execute_result"
    }
   ],
   "source": [
    "transposed.head()"
   ]
  },
  {
   "cell_type": "code",
   "execution_count": 111,
   "metadata": {},
   "outputs": [
    {
     "data": {
      "application/vnd.plotly.v1+json": {
       "config": {
        "plotlyServerURL": "https://plot.ly"
       },
       "data": [
        {
         "hovertemplate": "dates=%{x}<br>prices=%{y}<extra></extra>",
         "legendgroup": "",
         "line": {
          "color": "#636efa",
          "dash": "solid"
         },
         "mode": "lines",
         "name": "",
         "orientation": "v",
         "showlegend": false,
         "type": "scatter",
         "x": [
          "2020-02-29",
          "2020-03-31",
          "2020-04-30",
          "2020-05-31",
          "2020-06-30",
          "2020-07-31",
          "2020-08-31",
          "2020-09-30",
          "2020-10-31"
         ],
         "xaxis": "x",
         "y": [
          714378.5,
          712513.5,
          712687,
          712395.5,
          714074.5,
          716273,
          719226.5,
          722598,
          725292
         ],
         "yaxis": "y"
        }
       ],
       "layout": {
        "legend": {
         "tracegroupgap": 0
        },
        "margin": {
         "t": 60
        },
        "template": {
         "data": {
          "bar": [
           {
            "error_x": {
             "color": "#2a3f5f"
            },
            "error_y": {
             "color": "#2a3f5f"
            },
            "marker": {
             "line": {
              "color": "#E5ECF6",
              "width": 0.5
             }
            },
            "type": "bar"
           }
          ],
          "barpolar": [
           {
            "marker": {
             "line": {
              "color": "#E5ECF6",
              "width": 0.5
             }
            },
            "type": "barpolar"
           }
          ],
          "carpet": [
           {
            "aaxis": {
             "endlinecolor": "#2a3f5f",
             "gridcolor": "white",
             "linecolor": "white",
             "minorgridcolor": "white",
             "startlinecolor": "#2a3f5f"
            },
            "baxis": {
             "endlinecolor": "#2a3f5f",
             "gridcolor": "white",
             "linecolor": "white",
             "minorgridcolor": "white",
             "startlinecolor": "#2a3f5f"
            },
            "type": "carpet"
           }
          ],
          "choropleth": [
           {
            "colorbar": {
             "outlinewidth": 0,
             "ticks": ""
            },
            "type": "choropleth"
           }
          ],
          "contour": [
           {
            "colorbar": {
             "outlinewidth": 0,
             "ticks": ""
            },
            "colorscale": [
             [
              0,
              "#0d0887"
             ],
             [
              0.1111111111111111,
              "#46039f"
             ],
             [
              0.2222222222222222,
              "#7201a8"
             ],
             [
              0.3333333333333333,
              "#9c179e"
             ],
             [
              0.4444444444444444,
              "#bd3786"
             ],
             [
              0.5555555555555556,
              "#d8576b"
             ],
             [
              0.6666666666666666,
              "#ed7953"
             ],
             [
              0.7777777777777778,
              "#fb9f3a"
             ],
             [
              0.8888888888888888,
              "#fdca26"
             ],
             [
              1,
              "#f0f921"
             ]
            ],
            "type": "contour"
           }
          ],
          "contourcarpet": [
           {
            "colorbar": {
             "outlinewidth": 0,
             "ticks": ""
            },
            "type": "contourcarpet"
           }
          ],
          "heatmap": [
           {
            "colorbar": {
             "outlinewidth": 0,
             "ticks": ""
            },
            "colorscale": [
             [
              0,
              "#0d0887"
             ],
             [
              0.1111111111111111,
              "#46039f"
             ],
             [
              0.2222222222222222,
              "#7201a8"
             ],
             [
              0.3333333333333333,
              "#9c179e"
             ],
             [
              0.4444444444444444,
              "#bd3786"
             ],
             [
              0.5555555555555556,
              "#d8576b"
             ],
             [
              0.6666666666666666,
              "#ed7953"
             ],
             [
              0.7777777777777778,
              "#fb9f3a"
             ],
             [
              0.8888888888888888,
              "#fdca26"
             ],
             [
              1,
              "#f0f921"
             ]
            ],
            "type": "heatmap"
           }
          ],
          "heatmapgl": [
           {
            "colorbar": {
             "outlinewidth": 0,
             "ticks": ""
            },
            "colorscale": [
             [
              0,
              "#0d0887"
             ],
             [
              0.1111111111111111,
              "#46039f"
             ],
             [
              0.2222222222222222,
              "#7201a8"
             ],
             [
              0.3333333333333333,
              "#9c179e"
             ],
             [
              0.4444444444444444,
              "#bd3786"
             ],
             [
              0.5555555555555556,
              "#d8576b"
             ],
             [
              0.6666666666666666,
              "#ed7953"
             ],
             [
              0.7777777777777778,
              "#fb9f3a"
             ],
             [
              0.8888888888888888,
              "#fdca26"
             ],
             [
              1,
              "#f0f921"
             ]
            ],
            "type": "heatmapgl"
           }
          ],
          "histogram": [
           {
            "marker": {
             "colorbar": {
              "outlinewidth": 0,
              "ticks": ""
             }
            },
            "type": "histogram"
           }
          ],
          "histogram2d": [
           {
            "colorbar": {
             "outlinewidth": 0,
             "ticks": ""
            },
            "colorscale": [
             [
              0,
              "#0d0887"
             ],
             [
              0.1111111111111111,
              "#46039f"
             ],
             [
              0.2222222222222222,
              "#7201a8"
             ],
             [
              0.3333333333333333,
              "#9c179e"
             ],
             [
              0.4444444444444444,
              "#bd3786"
             ],
             [
              0.5555555555555556,
              "#d8576b"
             ],
             [
              0.6666666666666666,
              "#ed7953"
             ],
             [
              0.7777777777777778,
              "#fb9f3a"
             ],
             [
              0.8888888888888888,
              "#fdca26"
             ],
             [
              1,
              "#f0f921"
             ]
            ],
            "type": "histogram2d"
           }
          ],
          "histogram2dcontour": [
           {
            "colorbar": {
             "outlinewidth": 0,
             "ticks": ""
            },
            "colorscale": [
             [
              0,
              "#0d0887"
             ],
             [
              0.1111111111111111,
              "#46039f"
             ],
             [
              0.2222222222222222,
              "#7201a8"
             ],
             [
              0.3333333333333333,
              "#9c179e"
             ],
             [
              0.4444444444444444,
              "#bd3786"
             ],
             [
              0.5555555555555556,
              "#d8576b"
             ],
             [
              0.6666666666666666,
              "#ed7953"
             ],
             [
              0.7777777777777778,
              "#fb9f3a"
             ],
             [
              0.8888888888888888,
              "#fdca26"
             ],
             [
              1,
              "#f0f921"
             ]
            ],
            "type": "histogram2dcontour"
           }
          ],
          "mesh3d": [
           {
            "colorbar": {
             "outlinewidth": 0,
             "ticks": ""
            },
            "type": "mesh3d"
           }
          ],
          "parcoords": [
           {
            "line": {
             "colorbar": {
              "outlinewidth": 0,
              "ticks": ""
             }
            },
            "type": "parcoords"
           }
          ],
          "pie": [
           {
            "automargin": true,
            "type": "pie"
           }
          ],
          "scatter": [
           {
            "marker": {
             "colorbar": {
              "outlinewidth": 0,
              "ticks": ""
             }
            },
            "type": "scatter"
           }
          ],
          "scatter3d": [
           {
            "line": {
             "colorbar": {
              "outlinewidth": 0,
              "ticks": ""
             }
            },
            "marker": {
             "colorbar": {
              "outlinewidth": 0,
              "ticks": ""
             }
            },
            "type": "scatter3d"
           }
          ],
          "scattercarpet": [
           {
            "marker": {
             "colorbar": {
              "outlinewidth": 0,
              "ticks": ""
             }
            },
            "type": "scattercarpet"
           }
          ],
          "scattergeo": [
           {
            "marker": {
             "colorbar": {
              "outlinewidth": 0,
              "ticks": ""
             }
            },
            "type": "scattergeo"
           }
          ],
          "scattergl": [
           {
            "marker": {
             "colorbar": {
              "outlinewidth": 0,
              "ticks": ""
             }
            },
            "type": "scattergl"
           }
          ],
          "scattermapbox": [
           {
            "marker": {
             "colorbar": {
              "outlinewidth": 0,
              "ticks": ""
             }
            },
            "type": "scattermapbox"
           }
          ],
          "scatterpolar": [
           {
            "marker": {
             "colorbar": {
              "outlinewidth": 0,
              "ticks": ""
             }
            },
            "type": "scatterpolar"
           }
          ],
          "scatterpolargl": [
           {
            "marker": {
             "colorbar": {
              "outlinewidth": 0,
              "ticks": ""
             }
            },
            "type": "scatterpolargl"
           }
          ],
          "scatterternary": [
           {
            "marker": {
             "colorbar": {
              "outlinewidth": 0,
              "ticks": ""
             }
            },
            "type": "scatterternary"
           }
          ],
          "surface": [
           {
            "colorbar": {
             "outlinewidth": 0,
             "ticks": ""
            },
            "colorscale": [
             [
              0,
              "#0d0887"
             ],
             [
              0.1111111111111111,
              "#46039f"
             ],
             [
              0.2222222222222222,
              "#7201a8"
             ],
             [
              0.3333333333333333,
              "#9c179e"
             ],
             [
              0.4444444444444444,
              "#bd3786"
             ],
             [
              0.5555555555555556,
              "#d8576b"
             ],
             [
              0.6666666666666666,
              "#ed7953"
             ],
             [
              0.7777777777777778,
              "#fb9f3a"
             ],
             [
              0.8888888888888888,
              "#fdca26"
             ],
             [
              1,
              "#f0f921"
             ]
            ],
            "type": "surface"
           }
          ],
          "table": [
           {
            "cells": {
             "fill": {
              "color": "#EBF0F8"
             },
             "line": {
              "color": "white"
             }
            },
            "header": {
             "fill": {
              "color": "#C8D4E3"
             },
             "line": {
              "color": "white"
             }
            },
            "type": "table"
           }
          ]
         },
         "layout": {
          "annotationdefaults": {
           "arrowcolor": "#2a3f5f",
           "arrowhead": 0,
           "arrowwidth": 1
          },
          "coloraxis": {
           "colorbar": {
            "outlinewidth": 0,
            "ticks": ""
           }
          },
          "colorscale": {
           "diverging": [
            [
             0,
             "#8e0152"
            ],
            [
             0.1,
             "#c51b7d"
            ],
            [
             0.2,
             "#de77ae"
            ],
            [
             0.3,
             "#f1b6da"
            ],
            [
             0.4,
             "#fde0ef"
            ],
            [
             0.5,
             "#f7f7f7"
            ],
            [
             0.6,
             "#e6f5d0"
            ],
            [
             0.7,
             "#b8e186"
            ],
            [
             0.8,
             "#7fbc41"
            ],
            [
             0.9,
             "#4d9221"
            ],
            [
             1,
             "#276419"
            ]
           ],
           "sequential": [
            [
             0,
             "#0d0887"
            ],
            [
             0.1111111111111111,
             "#46039f"
            ],
            [
             0.2222222222222222,
             "#7201a8"
            ],
            [
             0.3333333333333333,
             "#9c179e"
            ],
            [
             0.4444444444444444,
             "#bd3786"
            ],
            [
             0.5555555555555556,
             "#d8576b"
            ],
            [
             0.6666666666666666,
             "#ed7953"
            ],
            [
             0.7777777777777778,
             "#fb9f3a"
            ],
            [
             0.8888888888888888,
             "#fdca26"
            ],
            [
             1,
             "#f0f921"
            ]
           ],
           "sequentialminus": [
            [
             0,
             "#0d0887"
            ],
            [
             0.1111111111111111,
             "#46039f"
            ],
            [
             0.2222222222222222,
             "#7201a8"
            ],
            [
             0.3333333333333333,
             "#9c179e"
            ],
            [
             0.4444444444444444,
             "#bd3786"
            ],
            [
             0.5555555555555556,
             "#d8576b"
            ],
            [
             0.6666666666666666,
             "#ed7953"
            ],
            [
             0.7777777777777778,
             "#fb9f3a"
            ],
            [
             0.8888888888888888,
             "#fdca26"
            ],
            [
             1,
             "#f0f921"
            ]
           ]
          },
          "colorway": [
           "#636efa",
           "#EF553B",
           "#00cc96",
           "#ab63fa",
           "#FFA15A",
           "#19d3f3",
           "#FF6692",
           "#B6E880",
           "#FF97FF",
           "#FECB52"
          ],
          "font": {
           "color": "#2a3f5f"
          },
          "geo": {
           "bgcolor": "white",
           "lakecolor": "white",
           "landcolor": "#E5ECF6",
           "showlakes": true,
           "showland": true,
           "subunitcolor": "white"
          },
          "hoverlabel": {
           "align": "left"
          },
          "hovermode": "closest",
          "mapbox": {
           "style": "light"
          },
          "paper_bgcolor": "white",
          "plot_bgcolor": "#E5ECF6",
          "polar": {
           "angularaxis": {
            "gridcolor": "white",
            "linecolor": "white",
            "ticks": ""
           },
           "bgcolor": "#E5ECF6",
           "radialaxis": {
            "gridcolor": "white",
            "linecolor": "white",
            "ticks": ""
           }
          },
          "scene": {
           "xaxis": {
            "backgroundcolor": "#E5ECF6",
            "gridcolor": "white",
            "gridwidth": 2,
            "linecolor": "white",
            "showbackground": true,
            "ticks": "",
            "zerolinecolor": "white"
           },
           "yaxis": {
            "backgroundcolor": "#E5ECF6",
            "gridcolor": "white",
            "gridwidth": 2,
            "linecolor": "white",
            "showbackground": true,
            "ticks": "",
            "zerolinecolor": "white"
           },
           "zaxis": {
            "backgroundcolor": "#E5ECF6",
            "gridcolor": "white",
            "gridwidth": 2,
            "linecolor": "white",
            "showbackground": true,
            "ticks": "",
            "zerolinecolor": "white"
           }
          },
          "shapedefaults": {
           "line": {
            "color": "#2a3f5f"
           }
          },
          "ternary": {
           "aaxis": {
            "gridcolor": "white",
            "linecolor": "white",
            "ticks": ""
           },
           "baxis": {
            "gridcolor": "white",
            "linecolor": "white",
            "ticks": ""
           },
           "bgcolor": "#E5ECF6",
           "caxis": {
            "gridcolor": "white",
            "linecolor": "white",
            "ticks": ""
           }
          },
          "title": {
           "x": 0.05
          },
          "xaxis": {
           "automargin": true,
           "gridcolor": "white",
           "linecolor": "white",
           "ticks": "",
           "title": {
            "standoff": 15
           },
           "zerolinecolor": "white",
           "zerolinewidth": 2
          },
          "yaxis": {
           "automargin": true,
           "gridcolor": "white",
           "linecolor": "white",
           "ticks": "",
           "title": {
            "standoff": 15
           },
           "zerolinecolor": "white",
           "zerolinewidth": 2
          }
         }
        },
        "xaxis": {
         "anchor": "y",
         "domain": [
          0,
          1
         ],
         "title": {
          "text": "dates"
         }
        },
        "yaxis": {
         "anchor": "x",
         "domain": [
          0,
          1
         ],
         "title": {
          "text": "prices"
         }
        }
       }
      },
      "text/html": [
       "<div>                            <div id=\"cd271367-827e-4345-a879-38833b5d1481\" class=\"plotly-graph-div\" style=\"height:525px; width:100%;\"></div>            <script type=\"text/javascript\">                require([\"plotly\"], function(Plotly) {                    window.PLOTLYENV=window.PLOTLYENV || {};                                    if (document.getElementById(\"cd271367-827e-4345-a879-38833b5d1481\")) {                    Plotly.newPlot(                        \"cd271367-827e-4345-a879-38833b5d1481\",                        [{\"hovertemplate\": \"dates=%{x}<br>prices=%{y}<extra></extra>\", \"legendgroup\": \"\", \"line\": {\"color\": \"#636efa\", \"dash\": \"solid\"}, \"mode\": \"lines\", \"name\": \"\", \"orientation\": \"v\", \"showlegend\": false, \"type\": \"scatter\", \"x\": [\"2020-02-29\", \"2020-03-31\", \"2020-04-30\", \"2020-05-31\", \"2020-06-30\", \"2020-07-31\", \"2020-08-31\", \"2020-09-30\", \"2020-10-31\"], \"xaxis\": \"x\", \"y\": [714378.5, 712513.5, 712687.0, 712395.5, 714074.5, 716273.0, 719226.5, 722598.0, 725292.0], \"yaxis\": \"y\"}],                        {\"legend\": {\"tracegroupgap\": 0}, \"margin\": {\"t\": 60}, \"template\": {\"data\": {\"bar\": [{\"error_x\": {\"color\": \"#2a3f5f\"}, \"error_y\": {\"color\": \"#2a3f5f\"}, \"marker\": {\"line\": {\"color\": \"#E5ECF6\", \"width\": 0.5}}, \"type\": \"bar\"}], \"barpolar\": [{\"marker\": {\"line\": {\"color\": \"#E5ECF6\", \"width\": 0.5}}, \"type\": \"barpolar\"}], \"carpet\": [{\"aaxis\": {\"endlinecolor\": \"#2a3f5f\", \"gridcolor\": \"white\", \"linecolor\": \"white\", \"minorgridcolor\": \"white\", \"startlinecolor\": \"#2a3f5f\"}, \"baxis\": {\"endlinecolor\": \"#2a3f5f\", \"gridcolor\": \"white\", \"linecolor\": \"white\", \"minorgridcolor\": \"white\", \"startlinecolor\": \"#2a3f5f\"}, \"type\": \"carpet\"}], \"choropleth\": [{\"colorbar\": {\"outlinewidth\": 0, \"ticks\": \"\"}, \"type\": \"choropleth\"}], \"contour\": [{\"colorbar\": {\"outlinewidth\": 0, \"ticks\": \"\"}, \"colorscale\": [[0.0, \"#0d0887\"], [0.1111111111111111, \"#46039f\"], [0.2222222222222222, \"#7201a8\"], [0.3333333333333333, \"#9c179e\"], [0.4444444444444444, \"#bd3786\"], [0.5555555555555556, \"#d8576b\"], [0.6666666666666666, \"#ed7953\"], [0.7777777777777778, \"#fb9f3a\"], [0.8888888888888888, \"#fdca26\"], [1.0, \"#f0f921\"]], \"type\": \"contour\"}], \"contourcarpet\": [{\"colorbar\": {\"outlinewidth\": 0, \"ticks\": \"\"}, \"type\": \"contourcarpet\"}], \"heatmap\": [{\"colorbar\": {\"outlinewidth\": 0, \"ticks\": \"\"}, \"colorscale\": [[0.0, \"#0d0887\"], [0.1111111111111111, \"#46039f\"], [0.2222222222222222, \"#7201a8\"], [0.3333333333333333, \"#9c179e\"], [0.4444444444444444, \"#bd3786\"], [0.5555555555555556, \"#d8576b\"], [0.6666666666666666, \"#ed7953\"], [0.7777777777777778, \"#fb9f3a\"], [0.8888888888888888, \"#fdca26\"], [1.0, \"#f0f921\"]], \"type\": \"heatmap\"}], \"heatmapgl\": [{\"colorbar\": {\"outlinewidth\": 0, \"ticks\": \"\"}, \"colorscale\": [[0.0, \"#0d0887\"], [0.1111111111111111, \"#46039f\"], [0.2222222222222222, \"#7201a8\"], [0.3333333333333333, \"#9c179e\"], [0.4444444444444444, \"#bd3786\"], [0.5555555555555556, \"#d8576b\"], [0.6666666666666666, \"#ed7953\"], [0.7777777777777778, \"#fb9f3a\"], [0.8888888888888888, \"#fdca26\"], [1.0, \"#f0f921\"]], \"type\": \"heatmapgl\"}], \"histogram\": [{\"marker\": {\"colorbar\": {\"outlinewidth\": 0, \"ticks\": \"\"}}, \"type\": \"histogram\"}], \"histogram2d\": [{\"colorbar\": {\"outlinewidth\": 0, \"ticks\": \"\"}, \"colorscale\": [[0.0, \"#0d0887\"], [0.1111111111111111, \"#46039f\"], [0.2222222222222222, \"#7201a8\"], [0.3333333333333333, \"#9c179e\"], [0.4444444444444444, \"#bd3786\"], [0.5555555555555556, \"#d8576b\"], [0.6666666666666666, \"#ed7953\"], [0.7777777777777778, \"#fb9f3a\"], [0.8888888888888888, \"#fdca26\"], [1.0, \"#f0f921\"]], \"type\": \"histogram2d\"}], \"histogram2dcontour\": [{\"colorbar\": {\"outlinewidth\": 0, \"ticks\": \"\"}, \"colorscale\": [[0.0, \"#0d0887\"], [0.1111111111111111, \"#46039f\"], [0.2222222222222222, \"#7201a8\"], [0.3333333333333333, \"#9c179e\"], [0.4444444444444444, \"#bd3786\"], [0.5555555555555556, \"#d8576b\"], [0.6666666666666666, \"#ed7953\"], [0.7777777777777778, \"#fb9f3a\"], [0.8888888888888888, \"#fdca26\"], [1.0, \"#f0f921\"]], \"type\": \"histogram2dcontour\"}], \"mesh3d\": [{\"colorbar\": {\"outlinewidth\": 0, \"ticks\": \"\"}, \"type\": \"mesh3d\"}], \"parcoords\": [{\"line\": {\"colorbar\": {\"outlinewidth\": 0, \"ticks\": \"\"}}, \"type\": \"parcoords\"}], \"pie\": [{\"automargin\": true, \"type\": \"pie\"}], \"scatter\": [{\"marker\": {\"colorbar\": {\"outlinewidth\": 0, \"ticks\": \"\"}}, \"type\": \"scatter\"}], \"scatter3d\": [{\"line\": {\"colorbar\": {\"outlinewidth\": 0, \"ticks\": \"\"}}, \"marker\": {\"colorbar\": {\"outlinewidth\": 0, \"ticks\": \"\"}}, \"type\": \"scatter3d\"}], \"scattercarpet\": [{\"marker\": {\"colorbar\": {\"outlinewidth\": 0, \"ticks\": \"\"}}, \"type\": \"scattercarpet\"}], \"scattergeo\": [{\"marker\": {\"colorbar\": {\"outlinewidth\": 0, \"ticks\": \"\"}}, \"type\": \"scattergeo\"}], \"scattergl\": [{\"marker\": {\"colorbar\": {\"outlinewidth\": 0, \"ticks\": \"\"}}, \"type\": \"scattergl\"}], \"scattermapbox\": [{\"marker\": {\"colorbar\": {\"outlinewidth\": 0, \"ticks\": \"\"}}, \"type\": \"scattermapbox\"}], \"scatterpolar\": [{\"marker\": {\"colorbar\": {\"outlinewidth\": 0, \"ticks\": \"\"}}, \"type\": \"scatterpolar\"}], \"scatterpolargl\": [{\"marker\": {\"colorbar\": {\"outlinewidth\": 0, \"ticks\": \"\"}}, \"type\": \"scatterpolargl\"}], \"scatterternary\": [{\"marker\": {\"colorbar\": {\"outlinewidth\": 0, \"ticks\": \"\"}}, \"type\": \"scatterternary\"}], \"surface\": [{\"colorbar\": {\"outlinewidth\": 0, \"ticks\": \"\"}, \"colorscale\": [[0.0, \"#0d0887\"], [0.1111111111111111, \"#46039f\"], [0.2222222222222222, \"#7201a8\"], [0.3333333333333333, \"#9c179e\"], [0.4444444444444444, \"#bd3786\"], [0.5555555555555556, \"#d8576b\"], [0.6666666666666666, \"#ed7953\"], [0.7777777777777778, \"#fb9f3a\"], [0.8888888888888888, \"#fdca26\"], [1.0, \"#f0f921\"]], \"type\": \"surface\"}], \"table\": [{\"cells\": {\"fill\": {\"color\": \"#EBF0F8\"}, \"line\": {\"color\": \"white\"}}, \"header\": {\"fill\": {\"color\": \"#C8D4E3\"}, \"line\": {\"color\": \"white\"}}, \"type\": \"table\"}]}, \"layout\": {\"annotationdefaults\": {\"arrowcolor\": \"#2a3f5f\", \"arrowhead\": 0, \"arrowwidth\": 1}, \"coloraxis\": {\"colorbar\": {\"outlinewidth\": 0, \"ticks\": \"\"}}, \"colorscale\": {\"diverging\": [[0, \"#8e0152\"], [0.1, \"#c51b7d\"], [0.2, \"#de77ae\"], [0.3, \"#f1b6da\"], [0.4, \"#fde0ef\"], [0.5, \"#f7f7f7\"], [0.6, \"#e6f5d0\"], [0.7, \"#b8e186\"], [0.8, \"#7fbc41\"], [0.9, \"#4d9221\"], [1, \"#276419\"]], \"sequential\": [[0.0, \"#0d0887\"], [0.1111111111111111, \"#46039f\"], [0.2222222222222222, \"#7201a8\"], [0.3333333333333333, \"#9c179e\"], [0.4444444444444444, \"#bd3786\"], [0.5555555555555556, \"#d8576b\"], [0.6666666666666666, \"#ed7953\"], [0.7777777777777778, \"#fb9f3a\"], [0.8888888888888888, \"#fdca26\"], [1.0, \"#f0f921\"]], \"sequentialminus\": [[0.0, \"#0d0887\"], [0.1111111111111111, \"#46039f\"], [0.2222222222222222, \"#7201a8\"], [0.3333333333333333, \"#9c179e\"], [0.4444444444444444, \"#bd3786\"], [0.5555555555555556, \"#d8576b\"], [0.6666666666666666, \"#ed7953\"], [0.7777777777777778, \"#fb9f3a\"], [0.8888888888888888, \"#fdca26\"], [1.0, \"#f0f921\"]]}, \"colorway\": [\"#636efa\", \"#EF553B\", \"#00cc96\", \"#ab63fa\", \"#FFA15A\", \"#19d3f3\", \"#FF6692\", \"#B6E880\", \"#FF97FF\", \"#FECB52\"], \"font\": {\"color\": \"#2a3f5f\"}, \"geo\": {\"bgcolor\": \"white\", \"lakecolor\": \"white\", \"landcolor\": \"#E5ECF6\", \"showlakes\": true, \"showland\": true, \"subunitcolor\": \"white\"}, \"hoverlabel\": {\"align\": \"left\"}, \"hovermode\": \"closest\", \"mapbox\": {\"style\": \"light\"}, \"paper_bgcolor\": \"white\", \"plot_bgcolor\": \"#E5ECF6\", \"polar\": {\"angularaxis\": {\"gridcolor\": \"white\", \"linecolor\": \"white\", \"ticks\": \"\"}, \"bgcolor\": \"#E5ECF6\", \"radialaxis\": {\"gridcolor\": \"white\", \"linecolor\": \"white\", \"ticks\": \"\"}}, \"scene\": {\"xaxis\": {\"backgroundcolor\": \"#E5ECF6\", \"gridcolor\": \"white\", \"gridwidth\": 2, \"linecolor\": \"white\", \"showbackground\": true, \"ticks\": \"\", \"zerolinecolor\": \"white\"}, \"yaxis\": {\"backgroundcolor\": \"#E5ECF6\", \"gridcolor\": \"white\", \"gridwidth\": 2, \"linecolor\": \"white\", \"showbackground\": true, \"ticks\": \"\", \"zerolinecolor\": \"white\"}, \"zaxis\": {\"backgroundcolor\": \"#E5ECF6\", \"gridcolor\": \"white\", \"gridwidth\": 2, \"linecolor\": \"white\", \"showbackground\": true, \"ticks\": \"\", \"zerolinecolor\": \"white\"}}, \"shapedefaults\": {\"line\": {\"color\": \"#2a3f5f\"}}, \"ternary\": {\"aaxis\": {\"gridcolor\": \"white\", \"linecolor\": \"white\", \"ticks\": \"\"}, \"baxis\": {\"gridcolor\": \"white\", \"linecolor\": \"white\", \"ticks\": \"\"}, \"bgcolor\": \"#E5ECF6\", \"caxis\": {\"gridcolor\": \"white\", \"linecolor\": \"white\", \"ticks\": \"\"}}, \"title\": {\"x\": 0.05}, \"xaxis\": {\"automargin\": true, \"gridcolor\": \"white\", \"linecolor\": \"white\", \"ticks\": \"\", \"title\": {\"standoff\": 15}, \"zerolinecolor\": \"white\", \"zerolinewidth\": 2}, \"yaxis\": {\"automargin\": true, \"gridcolor\": \"white\", \"linecolor\": \"white\", \"ticks\": \"\", \"title\": {\"standoff\": 15}, \"zerolinecolor\": \"white\", \"zerolinewidth\": 2}}}, \"xaxis\": {\"anchor\": \"y\", \"domain\": [0.0, 1.0], \"title\": {\"text\": \"dates\"}}, \"yaxis\": {\"anchor\": \"x\", \"domain\": [0.0, 1.0], \"title\": {\"text\": \"prices\"}}},                        {\"responsive\": true}                    ).then(function(){\n",
       "                            \n",
       "var gd = document.getElementById('cd271367-827e-4345-a879-38833b5d1481');\n",
       "var x = new MutationObserver(function (mutations, observer) {{\n",
       "        var display = window.getComputedStyle(gd).display;\n",
       "        if (!display || display === 'none') {{\n",
       "            console.log([gd, 'removed!']);\n",
       "            Plotly.purge(gd);\n",
       "            observer.disconnect();\n",
       "        }}\n",
       "}});\n",
       "\n",
       "// Listen for the removal of the full notebook cells\n",
       "var notebookContainer = gd.closest('#notebook-container');\n",
       "if (notebookContainer) {{\n",
       "    x.observe(notebookContainer, {childList: true});\n",
       "}}\n",
       "\n",
       "// Listen for the clearing of the current output cell\n",
       "var outputEl = gd.closest('.output');\n",
       "if (outputEl) {{\n",
       "    x.observe(outputEl, {childList: true});\n",
       "}}\n",
       "\n",
       "                        })                };                });            </script>        </div>"
      ]
     },
     "metadata": {},
     "output_type": "display_data"
    }
   ],
   "source": [
    "fig = px.line(transposed,\n",
    "              x='dates',\n",
    "              y='prices'\n",
    "              )\n",
    "\n",
    "fig.show()"
   ]
  },
  {
   "cell_type": "code",
   "execution_count": 109,
   "metadata": {},
   "outputs": [
    {
     "data": {
      "text/plain": [
       "Index(['dates', 'prices'], dtype='object')"
      ]
     },
     "execution_count": 109,
     "metadata": {},
     "output_type": "execute_result"
    }
   ],
   "source": [
    "transposed.columns"
   ]
  },
  {
   "cell_type": "code",
   "execution_count": 110,
   "metadata": {},
   "outputs": [
    {
     "data": {
      "text/plain": [
       "Index(['ntaname', 'boro_name', 'count', '2020-01-31', '2020-02-29',\n",
       "       '2020-03-31', '2020-04-30', '2020-05-31', '2020-06-30', '2020-07-31',\n",
       "       '2020-08-31', '2020-09-30', '2020-10-31'],\n",
       "      dtype='object')"
      ]
     },
     "execution_count": 110,
     "metadata": {},
     "output_type": "execute_result"
    }
   ],
   "source": [
    "new_frame.columns"
   ]
  },
  {
   "cell_type": "code",
   "execution_count": null,
   "metadata": {},
   "outputs": [],
   "source": [
    ", ('Murray Hill', 'Queens'), ('Richmond Hill', 'Queens')"
   ]
  },
  {
   "cell_type": "code",
   "execution_count": 59,
   "metadata": {},
   "outputs": [
    {
     "data": {
      "text/html": [
       "<div>\n",
       "<style scoped>\n",
       "    .dataframe tbody tr th:only-of-type {\n",
       "        vertical-align: middle;\n",
       "    }\n",
       "\n",
       "    .dataframe tbody tr th {\n",
       "        vertical-align: top;\n",
       "    }\n",
       "\n",
       "    .dataframe thead th {\n",
       "        text-align: right;\n",
       "    }\n",
       "</style>\n",
       "<table border=\"1\" class=\"dataframe\">\n",
       "  <thead>\n",
       "    <tr style=\"text-align: right;\">\n",
       "      <th></th>\n",
       "      <th>ntaname</th>\n",
       "      <th>boro_name</th>\n",
       "      <th>count</th>\n",
       "      <th>2020-01-31</th>\n",
       "      <th>2020-02-29</th>\n",
       "      <th>2020-03-31</th>\n",
       "      <th>2020-04-30</th>\n",
       "      <th>2020-05-31</th>\n",
       "      <th>2020-06-30</th>\n",
       "      <th>2020-07-31</th>\n",
       "      <th>2020-08-31</th>\n",
       "      <th>2020-09-30</th>\n",
       "      <th>2020-10-31</th>\n",
       "    </tr>\n",
       "  </thead>\n",
       "  <tbody>\n",
       "    <tr>\n",
       "      <th>0</th>\n",
       "      <td>Borough Park</td>\n",
       "      <td>Brooklyn</td>\n",
       "      <td>1</td>\n",
       "      <td>800107.000000</td>\n",
       "      <td>794346.0</td>\n",
       "      <td>792962.000000</td>\n",
       "      <td>792549.000000</td>\n",
       "      <td>792589.000000</td>\n",
       "      <td>791801.000000</td>\n",
       "      <td>790573.000000</td>\n",
       "      <td>792553.0</td>\n",
       "      <td>794147.000000</td>\n",
       "      <td>792330.0</td>\n",
       "    </tr>\n",
       "    <tr>\n",
       "      <th>1</th>\n",
       "      <td>Murray Hill</td>\n",
       "      <td>Queens</td>\n",
       "      <td>1</td>\n",
       "      <td>384721.000000</td>\n",
       "      <td>384396.0</td>\n",
       "      <td>383443.000000</td>\n",
       "      <td>383618.000000</td>\n",
       "      <td>383362.000000</td>\n",
       "      <td>383960.000000</td>\n",
       "      <td>384397.000000</td>\n",
       "      <td>384940.0</td>\n",
       "      <td>386321.000000</td>\n",
       "      <td>388206.0</td>\n",
       "    </tr>\n",
       "    <tr>\n",
       "      <th>2</th>\n",
       "      <td>East Elmhurst</td>\n",
       "      <td>Queens</td>\n",
       "      <td>1</td>\n",
       "      <td>663453.000000</td>\n",
       "      <td>665648.0</td>\n",
       "      <td>667851.000000</td>\n",
       "      <td>669964.000000</td>\n",
       "      <td>671708.000000</td>\n",
       "      <td>672445.000000</td>\n",
       "      <td>672120.000000</td>\n",
       "      <td>672802.0</td>\n",
       "      <td>676621.000000</td>\n",
       "      <td>681728.0</td>\n",
       "    </tr>\n",
       "    <tr>\n",
       "      <th>3</th>\n",
       "      <td>Erasmus</td>\n",
       "      <td>Brooklyn</td>\n",
       "      <td>0</td>\n",
       "      <td>0.000000</td>\n",
       "      <td>0.0</td>\n",
       "      <td>0.000000</td>\n",
       "      <td>0.000000</td>\n",
       "      <td>0.000000</td>\n",
       "      <td>0.000000</td>\n",
       "      <td>0.000000</td>\n",
       "      <td>0.0</td>\n",
       "      <td>0.000000</td>\n",
       "      <td>0.0</td>\n",
       "    </tr>\n",
       "    <tr>\n",
       "      <th>4</th>\n",
       "      <td>Hollis</td>\n",
       "      <td>Queens</td>\n",
       "      <td>1</td>\n",
       "      <td>554907.000000</td>\n",
       "      <td>555797.0</td>\n",
       "      <td>556189.000000</td>\n",
       "      <td>557034.000000</td>\n",
       "      <td>557172.000000</td>\n",
       "      <td>558160.000000</td>\n",
       "      <td>560169.000000</td>\n",
       "      <td>562641.0</td>\n",
       "      <td>566751.000000</td>\n",
       "      <td>568297.0</td>\n",
       "    </tr>\n",
       "    <tr>\n",
       "      <th>...</th>\n",
       "      <td>...</td>\n",
       "      <td>...</td>\n",
       "      <td>...</td>\n",
       "      <td>...</td>\n",
       "      <td>...</td>\n",
       "      <td>...</td>\n",
       "      <td>...</td>\n",
       "      <td>...</td>\n",
       "      <td>...</td>\n",
       "      <td>...</td>\n",
       "      <td>...</td>\n",
       "      <td>...</td>\n",
       "      <td>...</td>\n",
       "    </tr>\n",
       "    <tr>\n",
       "      <th>190</th>\n",
       "      <td>park-cemetery-etc-Brooklyn</td>\n",
       "      <td>Brooklyn</td>\n",
       "      <td>0</td>\n",
       "      <td>0.000000</td>\n",
       "      <td>0.0</td>\n",
       "      <td>0.000000</td>\n",
       "      <td>0.000000</td>\n",
       "      <td>0.000000</td>\n",
       "      <td>0.000000</td>\n",
       "      <td>0.000000</td>\n",
       "      <td>0.0</td>\n",
       "      <td>0.000000</td>\n",
       "      <td>0.0</td>\n",
       "    </tr>\n",
       "    <tr>\n",
       "      <th>191</th>\n",
       "      <td>Richmond Hill</td>\n",
       "      <td>Queens</td>\n",
       "      <td>1</td>\n",
       "      <td>571840.000000</td>\n",
       "      <td>572333.0</td>\n",
       "      <td>572168.000000</td>\n",
       "      <td>572098.000000</td>\n",
       "      <td>571145.000000</td>\n",
       "      <td>572393.000000</td>\n",
       "      <td>574503.000000</td>\n",
       "      <td>577717.0</td>\n",
       "      <td>581482.000000</td>\n",
       "      <td>583228.0</td>\n",
       "    </tr>\n",
       "    <tr>\n",
       "      <th>192</th>\n",
       "      <td>Jamaica</td>\n",
       "      <td>Queens</td>\n",
       "      <td>1</td>\n",
       "      <td>439332.000000</td>\n",
       "      <td>440256.0</td>\n",
       "      <td>441169.000000</td>\n",
       "      <td>442618.000000</td>\n",
       "      <td>443684.000000</td>\n",
       "      <td>445890.000000</td>\n",
       "      <td>448625.000000</td>\n",
       "      <td>451519.0</td>\n",
       "      <td>455501.000000</td>\n",
       "      <td>458605.0</td>\n",
       "    </tr>\n",
       "    <tr>\n",
       "      <th>193</th>\n",
       "      <td>Breezy Point-Belle Harbor-Rockaway Park-Broad ...</td>\n",
       "      <td>Queens</td>\n",
       "      <td>3</td>\n",
       "      <td>531565.333333</td>\n",
       "      <td>533002.0</td>\n",
       "      <td>533948.666667</td>\n",
       "      <td>536517.666667</td>\n",
       "      <td>537704.666667</td>\n",
       "      <td>539185.333333</td>\n",
       "      <td>539979.666667</td>\n",
       "      <td>541870.0</td>\n",
       "      <td>544999.666667</td>\n",
       "      <td>548942.0</td>\n",
       "    </tr>\n",
       "    <tr>\n",
       "      <th>194</th>\n",
       "      <td>park-cemetery-etc-Queens</td>\n",
       "      <td>Queens</td>\n",
       "      <td>0</td>\n",
       "      <td>0.000000</td>\n",
       "      <td>0.0</td>\n",
       "      <td>0.000000</td>\n",
       "      <td>0.000000</td>\n",
       "      <td>0.000000</td>\n",
       "      <td>0.000000</td>\n",
       "      <td>0.000000</td>\n",
       "      <td>0.0</td>\n",
       "      <td>0.000000</td>\n",
       "      <td>0.0</td>\n",
       "    </tr>\n",
       "  </tbody>\n",
       "</table>\n",
       "<p>195 rows × 13 columns</p>\n",
       "</div>"
      ],
      "text/plain": [
       "                                               ntaname boro_name  count  \\\n",
       "0                                         Borough Park  Brooklyn      1   \n",
       "1                                          Murray Hill    Queens      1   \n",
       "2                                        East Elmhurst    Queens      1   \n",
       "3                                              Erasmus  Brooklyn      0   \n",
       "4                                               Hollis    Queens      1   \n",
       "..                                                 ...       ...    ...   \n",
       "190                         park-cemetery-etc-Brooklyn  Brooklyn      0   \n",
       "191                                      Richmond Hill    Queens      1   \n",
       "192                                            Jamaica    Queens      1   \n",
       "193  Breezy Point-Belle Harbor-Rockaway Park-Broad ...    Queens      3   \n",
       "194                           park-cemetery-etc-Queens    Queens      0   \n",
       "\n",
       "        2020-01-31  2020-02-29     2020-03-31     2020-04-30     2020-05-31  \\\n",
       "0    800107.000000    794346.0  792962.000000  792549.000000  792589.000000   \n",
       "1    384721.000000    384396.0  383443.000000  383618.000000  383362.000000   \n",
       "2    663453.000000    665648.0  667851.000000  669964.000000  671708.000000   \n",
       "3         0.000000         0.0       0.000000       0.000000       0.000000   \n",
       "4    554907.000000    555797.0  556189.000000  557034.000000  557172.000000   \n",
       "..             ...         ...            ...            ...            ...   \n",
       "190       0.000000         0.0       0.000000       0.000000       0.000000   \n",
       "191  571840.000000    572333.0  572168.000000  572098.000000  571145.000000   \n",
       "192  439332.000000    440256.0  441169.000000  442618.000000  443684.000000   \n",
       "193  531565.333333    533002.0  533948.666667  536517.666667  537704.666667   \n",
       "194       0.000000         0.0       0.000000       0.000000       0.000000   \n",
       "\n",
       "        2020-06-30     2020-07-31  2020-08-31     2020-09-30  2020-10-31  \n",
       "0    791801.000000  790573.000000    792553.0  794147.000000    792330.0  \n",
       "1    383960.000000  384397.000000    384940.0  386321.000000    388206.0  \n",
       "2    672445.000000  672120.000000    672802.0  676621.000000    681728.0  \n",
       "3         0.000000       0.000000         0.0       0.000000         0.0  \n",
       "4    558160.000000  560169.000000    562641.0  566751.000000    568297.0  \n",
       "..             ...            ...         ...            ...         ...  \n",
       "190       0.000000       0.000000         0.0       0.000000         0.0  \n",
       "191  572393.000000  574503.000000    577717.0  581482.000000    583228.0  \n",
       "192  445890.000000  448625.000000    451519.0  455501.000000    458605.0  \n",
       "193  539185.333333  539979.666667    541870.0  544999.666667    548942.0  \n",
       "194       0.000000       0.000000         0.0       0.000000         0.0  \n",
       "\n",
       "[195 rows x 13 columns]"
      ]
     },
     "execution_count": 59,
     "metadata": {},
     "output_type": "execute_result"
    }
   ],
   "source": [
    "new_frame"
   ]
  },
  {
   "cell_type": "code",
   "execution_count": 60,
   "metadata": {},
   "outputs": [
    {
     "data": {
      "text/html": [
       "<div>\n",
       "<style scoped>\n",
       "    .dataframe tbody tr th:only-of-type {\n",
       "        vertical-align: middle;\n",
       "    }\n",
       "\n",
       "    .dataframe tbody tr th {\n",
       "        vertical-align: top;\n",
       "    }\n",
       "\n",
       "    .dataframe thead th {\n",
       "        text-align: right;\n",
       "    }\n",
       "</style>\n",
       "<table border=\"1\" class=\"dataframe\">\n",
       "  <thead>\n",
       "    <tr style=\"text-align: right;\">\n",
       "      <th></th>\n",
       "      <th>0</th>\n",
       "      <th>1</th>\n",
       "      <th>2</th>\n",
       "      <th>3</th>\n",
       "      <th>4</th>\n",
       "      <th>5</th>\n",
       "      <th>6</th>\n",
       "      <th>7</th>\n",
       "      <th>8</th>\n",
       "      <th>9</th>\n",
       "      <th>...</th>\n",
       "      <th>185</th>\n",
       "      <th>186</th>\n",
       "      <th>187</th>\n",
       "      <th>188</th>\n",
       "      <th>189</th>\n",
       "      <th>190</th>\n",
       "      <th>191</th>\n",
       "      <th>192</th>\n",
       "      <th>193</th>\n",
       "      <th>194</th>\n",
       "    </tr>\n",
       "  </thead>\n",
       "  <tbody>\n",
       "    <tr>\n",
       "      <th>ntaname</th>\n",
       "      <td>Borough Park</td>\n",
       "      <td>Murray Hill</td>\n",
       "      <td>East Elmhurst</td>\n",
       "      <td>Erasmus</td>\n",
       "      <td>Hollis</td>\n",
       "      <td>Homecrest</td>\n",
       "      <td>Fresh Meadows-Utopia</td>\n",
       "      <td>Longwood</td>\n",
       "      <td>Midwood</td>\n",
       "      <td>St. Albans</td>\n",
       "      <td>...</td>\n",
       "      <td>Airport</td>\n",
       "      <td>Cypress Hills-City Line</td>\n",
       "      <td>Ozone Park</td>\n",
       "      <td>East New York</td>\n",
       "      <td>Lindenwood-Howard Beach</td>\n",
       "      <td>park-cemetery-etc-Brooklyn</td>\n",
       "      <td>Richmond Hill</td>\n",
       "      <td>Jamaica</td>\n",
       "      <td>Breezy Point-Belle Harbor-Rockaway Park-Broad ...</td>\n",
       "      <td>park-cemetery-etc-Queens</td>\n",
       "    </tr>\n",
       "    <tr>\n",
       "      <th>boro_name</th>\n",
       "      <td>Brooklyn</td>\n",
       "      <td>Queens</td>\n",
       "      <td>Queens</td>\n",
       "      <td>Brooklyn</td>\n",
       "      <td>Queens</td>\n",
       "      <td>Brooklyn</td>\n",
       "      <td>Queens</td>\n",
       "      <td>Bronx</td>\n",
       "      <td>Brooklyn</td>\n",
       "      <td>Queens</td>\n",
       "      <td>...</td>\n",
       "      <td>Queens</td>\n",
       "      <td>Brooklyn</td>\n",
       "      <td>Queens</td>\n",
       "      <td>Brooklyn</td>\n",
       "      <td>Queens</td>\n",
       "      <td>Brooklyn</td>\n",
       "      <td>Queens</td>\n",
       "      <td>Queens</td>\n",
       "      <td>Queens</td>\n",
       "      <td>Queens</td>\n",
       "    </tr>\n",
       "    <tr>\n",
       "      <th>count</th>\n",
       "      <td>1</td>\n",
       "      <td>1</td>\n",
       "      <td>1</td>\n",
       "      <td>0</td>\n",
       "      <td>1</td>\n",
       "      <td>1</td>\n",
       "      <td>2</td>\n",
       "      <td>1</td>\n",
       "      <td>1</td>\n",
       "      <td>1</td>\n",
       "      <td>...</td>\n",
       "      <td>1</td>\n",
       "      <td>0</td>\n",
       "      <td>1</td>\n",
       "      <td>1</td>\n",
       "      <td>1</td>\n",
       "      <td>0</td>\n",
       "      <td>1</td>\n",
       "      <td>1</td>\n",
       "      <td>3</td>\n",
       "      <td>0</td>\n",
       "    </tr>\n",
       "    <tr>\n",
       "      <th>2020-01-31</th>\n",
       "      <td>800107</td>\n",
       "      <td>384721</td>\n",
       "      <td>663453</td>\n",
       "      <td>0</td>\n",
       "      <td>554907</td>\n",
       "      <td>465258</td>\n",
       "      <td>899562</td>\n",
       "      <td>363632</td>\n",
       "      <td>618637</td>\n",
       "      <td>524472</td>\n",
       "      <td>...</td>\n",
       "      <td>624473</td>\n",
       "      <td>0</td>\n",
       "      <td>548951</td>\n",
       "      <td>469786</td>\n",
       "      <td>432327</td>\n",
       "      <td>0</td>\n",
       "      <td>571840</td>\n",
       "      <td>439332</td>\n",
       "      <td>531565</td>\n",
       "      <td>0</td>\n",
       "    </tr>\n",
       "    <tr>\n",
       "      <th>2020-02-29</th>\n",
       "      <td>794346</td>\n",
       "      <td>384396</td>\n",
       "      <td>665648</td>\n",
       "      <td>0</td>\n",
       "      <td>555797</td>\n",
       "      <td>461046</td>\n",
       "      <td>897967</td>\n",
       "      <td>369056</td>\n",
       "      <td>616965</td>\n",
       "      <td>525775</td>\n",
       "      <td>...</td>\n",
       "      <td>626760</td>\n",
       "      <td>0</td>\n",
       "      <td>549895</td>\n",
       "      <td>473683</td>\n",
       "      <td>434033</td>\n",
       "      <td>0</td>\n",
       "      <td>572333</td>\n",
       "      <td>440256</td>\n",
       "      <td>533002</td>\n",
       "      <td>0</td>\n",
       "    </tr>\n",
       "    <tr>\n",
       "      <th>2020-03-31</th>\n",
       "      <td>792962</td>\n",
       "      <td>383443</td>\n",
       "      <td>667851</td>\n",
       "      <td>0</td>\n",
       "      <td>556189</td>\n",
       "      <td>458023</td>\n",
       "      <td>893620</td>\n",
       "      <td>371127</td>\n",
       "      <td>615719</td>\n",
       "      <td>526581</td>\n",
       "      <td>...</td>\n",
       "      <td>625484</td>\n",
       "      <td>0</td>\n",
       "      <td>550105</td>\n",
       "      <td>477718</td>\n",
       "      <td>435862</td>\n",
       "      <td>0</td>\n",
       "      <td>572168</td>\n",
       "      <td>441169</td>\n",
       "      <td>533949</td>\n",
       "      <td>0</td>\n",
       "    </tr>\n",
       "    <tr>\n",
       "      <th>2020-04-30</th>\n",
       "      <td>792549</td>\n",
       "      <td>383618</td>\n",
       "      <td>669964</td>\n",
       "      <td>0</td>\n",
       "      <td>557034</td>\n",
       "      <td>455629</td>\n",
       "      <td>890875</td>\n",
       "      <td>374941</td>\n",
       "      <td>616133</td>\n",
       "      <td>527156</td>\n",
       "      <td>...</td>\n",
       "      <td>625442</td>\n",
       "      <td>0</td>\n",
       "      <td>550713</td>\n",
       "      <td>481273</td>\n",
       "      <td>437551</td>\n",
       "      <td>0</td>\n",
       "      <td>572098</td>\n",
       "      <td>442618</td>\n",
       "      <td>536518</td>\n",
       "      <td>0</td>\n",
       "    </tr>\n",
       "    <tr>\n",
       "      <th>2020-05-31</th>\n",
       "      <td>792589</td>\n",
       "      <td>383362</td>\n",
       "      <td>671708</td>\n",
       "      <td>0</td>\n",
       "      <td>557172</td>\n",
       "      <td>453952</td>\n",
       "      <td>886710</td>\n",
       "      <td>379046</td>\n",
       "      <td>616338</td>\n",
       "      <td>527504</td>\n",
       "      <td>...</td>\n",
       "      <td>626810</td>\n",
       "      <td>0</td>\n",
       "      <td>550456</td>\n",
       "      <td>484068</td>\n",
       "      <td>439011</td>\n",
       "      <td>0</td>\n",
       "      <td>571145</td>\n",
       "      <td>443684</td>\n",
       "      <td>537705</td>\n",
       "      <td>0</td>\n",
       "    </tr>\n",
       "    <tr>\n",
       "      <th>2020-06-30</th>\n",
       "      <td>791801</td>\n",
       "      <td>383960</td>\n",
       "      <td>672445</td>\n",
       "      <td>0</td>\n",
       "      <td>558160</td>\n",
       "      <td>449727</td>\n",
       "      <td>884524</td>\n",
       "      <td>384528</td>\n",
       "      <td>616457</td>\n",
       "      <td>528954</td>\n",
       "      <td>...</td>\n",
       "      <td>633311</td>\n",
       "      <td>0</td>\n",
       "      <td>551628</td>\n",
       "      <td>487288</td>\n",
       "      <td>440854</td>\n",
       "      <td>0</td>\n",
       "      <td>572393</td>\n",
       "      <td>445890</td>\n",
       "      <td>539185</td>\n",
       "      <td>0</td>\n",
       "    </tr>\n",
       "    <tr>\n",
       "      <th>2020-07-31</th>\n",
       "      <td>790573</td>\n",
       "      <td>384397</td>\n",
       "      <td>672120</td>\n",
       "      <td>0</td>\n",
       "      <td>560169</td>\n",
       "      <td>446202</td>\n",
       "      <td>880108</td>\n",
       "      <td>389711</td>\n",
       "      <td>615549</td>\n",
       "      <td>529913</td>\n",
       "      <td>...</td>\n",
       "      <td>638299</td>\n",
       "      <td>0</td>\n",
       "      <td>553789</td>\n",
       "      <td>490425</td>\n",
       "      <td>442839</td>\n",
       "      <td>0</td>\n",
       "      <td>574503</td>\n",
       "      <td>448625</td>\n",
       "      <td>539980</td>\n",
       "      <td>0</td>\n",
       "    </tr>\n",
       "    <tr>\n",
       "      <th>2020-08-31</th>\n",
       "      <td>792553</td>\n",
       "      <td>384940</td>\n",
       "      <td>672802</td>\n",
       "      <td>0</td>\n",
       "      <td>562641</td>\n",
       "      <td>444204</td>\n",
       "      <td>877002</td>\n",
       "      <td>393530</td>\n",
       "      <td>615870</td>\n",
       "      <td>531079</td>\n",
       "      <td>...</td>\n",
       "      <td>639932</td>\n",
       "      <td>0</td>\n",
       "      <td>556090</td>\n",
       "      <td>494324</td>\n",
       "      <td>445038</td>\n",
       "      <td>0</td>\n",
       "      <td>577717</td>\n",
       "      <td>451519</td>\n",
       "      <td>541870</td>\n",
       "      <td>0</td>\n",
       "    </tr>\n",
       "    <tr>\n",
       "      <th>2020-09-30</th>\n",
       "      <td>794147</td>\n",
       "      <td>386321</td>\n",
       "      <td>676621</td>\n",
       "      <td>0</td>\n",
       "      <td>566751</td>\n",
       "      <td>441861</td>\n",
       "      <td>874753</td>\n",
       "      <td>399630</td>\n",
       "      <td>617646</td>\n",
       "      <td>532542</td>\n",
       "      <td>...</td>\n",
       "      <td>644303</td>\n",
       "      <td>0</td>\n",
       "      <td>558835</td>\n",
       "      <td>497910</td>\n",
       "      <td>446987</td>\n",
       "      <td>0</td>\n",
       "      <td>581482</td>\n",
       "      <td>455501</td>\n",
       "      <td>545000</td>\n",
       "      <td>0</td>\n",
       "    </tr>\n",
       "    <tr>\n",
       "      <th>2020-10-31</th>\n",
       "      <td>792330</td>\n",
       "      <td>388206</td>\n",
       "      <td>681728</td>\n",
       "      <td>0</td>\n",
       "      <td>568297</td>\n",
       "      <td>439498</td>\n",
       "      <td>871890</td>\n",
       "      <td>406293</td>\n",
       "      <td>619085</td>\n",
       "      <td>532581</td>\n",
       "      <td>...</td>\n",
       "      <td>653490</td>\n",
       "      <td>0</td>\n",
       "      <td>560388</td>\n",
       "      <td>502228</td>\n",
       "      <td>447738</td>\n",
       "      <td>0</td>\n",
       "      <td>583228</td>\n",
       "      <td>458605</td>\n",
       "      <td>548942</td>\n",
       "      <td>0</td>\n",
       "    </tr>\n",
       "  </tbody>\n",
       "</table>\n",
       "<p>13 rows × 195 columns</p>\n",
       "</div>"
      ],
      "text/plain": [
       "                     0            1              2         3       4    \\\n",
       "ntaname     Borough Park  Murray Hill  East Elmhurst   Erasmus  Hollis   \n",
       "boro_name       Brooklyn       Queens         Queens  Brooklyn  Queens   \n",
       "count                  1            1              1         0       1   \n",
       "2020-01-31        800107       384721         663453         0  554907   \n",
       "2020-02-29        794346       384396         665648         0  555797   \n",
       "2020-03-31        792962       383443         667851         0  556189   \n",
       "2020-04-30        792549       383618         669964         0  557034   \n",
       "2020-05-31        792589       383362         671708         0  557172   \n",
       "2020-06-30        791801       383960         672445         0  558160   \n",
       "2020-07-31        790573       384397         672120         0  560169   \n",
       "2020-08-31        792553       384940         672802         0  562641   \n",
       "2020-09-30        794147       386321         676621         0  566751   \n",
       "2020-10-31        792330       388206         681728         0  568297   \n",
       "\n",
       "                  5                     6         7         8           9    \\\n",
       "ntaname     Homecrest  Fresh Meadows-Utopia  Longwood   Midwood  St. Albans   \n",
       "boro_name    Brooklyn                Queens     Bronx  Brooklyn      Queens   \n",
       "count               1                     2         1         1           1   \n",
       "2020-01-31     465258                899562    363632    618637      524472   \n",
       "2020-02-29     461046                897967    369056    616965      525775   \n",
       "2020-03-31     458023                893620    371127    615719      526581   \n",
       "2020-04-30     455629                890875    374941    616133      527156   \n",
       "2020-05-31     453952                886710    379046    616338      527504   \n",
       "2020-06-30     449727                884524    384528    616457      528954   \n",
       "2020-07-31     446202                880108    389711    615549      529913   \n",
       "2020-08-31     444204                877002    393530    615870      531079   \n",
       "2020-09-30     441861                874753    399630    617646      532542   \n",
       "2020-10-31     439498                871890    406293    619085      532581   \n",
       "\n",
       "            ...      185                      186         187            188  \\\n",
       "ntaname     ...  Airport  Cypress Hills-City Line  Ozone Park  East New York   \n",
       "boro_name   ...   Queens                 Brooklyn      Queens       Brooklyn   \n",
       "count       ...        1                        0           1              1   \n",
       "2020-01-31  ...   624473                        0      548951         469786   \n",
       "2020-02-29  ...   626760                        0      549895         473683   \n",
       "2020-03-31  ...   625484                        0      550105         477718   \n",
       "2020-04-30  ...   625442                        0      550713         481273   \n",
       "2020-05-31  ...   626810                        0      550456         484068   \n",
       "2020-06-30  ...   633311                        0      551628         487288   \n",
       "2020-07-31  ...   638299                        0      553789         490425   \n",
       "2020-08-31  ...   639932                        0      556090         494324   \n",
       "2020-09-30  ...   644303                        0      558835         497910   \n",
       "2020-10-31  ...   653490                        0      560388         502228   \n",
       "\n",
       "                                189                         190  \\\n",
       "ntaname     Lindenwood-Howard Beach  park-cemetery-etc-Brooklyn   \n",
       "boro_name                    Queens                    Brooklyn   \n",
       "count                             1                           0   \n",
       "2020-01-31                   432327                           0   \n",
       "2020-02-29                   434033                           0   \n",
       "2020-03-31                   435862                           0   \n",
       "2020-04-30                   437551                           0   \n",
       "2020-05-31                   439011                           0   \n",
       "2020-06-30                   440854                           0   \n",
       "2020-07-31                   442839                           0   \n",
       "2020-08-31                   445038                           0   \n",
       "2020-09-30                   446987                           0   \n",
       "2020-10-31                   447738                           0   \n",
       "\n",
       "                      191      192  \\\n",
       "ntaname     Richmond Hill  Jamaica   \n",
       "boro_name          Queens   Queens   \n",
       "count                   1        1   \n",
       "2020-01-31         571840   439332   \n",
       "2020-02-29         572333   440256   \n",
       "2020-03-31         572168   441169   \n",
       "2020-04-30         572098   442618   \n",
       "2020-05-31         571145   443684   \n",
       "2020-06-30         572393   445890   \n",
       "2020-07-31         574503   448625   \n",
       "2020-08-31         577717   451519   \n",
       "2020-09-30         581482   455501   \n",
       "2020-10-31         583228   458605   \n",
       "\n",
       "                                                          193  \\\n",
       "ntaname     Breezy Point-Belle Harbor-Rockaway Park-Broad ...   \n",
       "boro_name                                              Queens   \n",
       "count                                                       3   \n",
       "2020-01-31                                             531565   \n",
       "2020-02-29                                             533002   \n",
       "2020-03-31                                             533949   \n",
       "2020-04-30                                             536518   \n",
       "2020-05-31                                             537705   \n",
       "2020-06-30                                             539185   \n",
       "2020-07-31                                             539980   \n",
       "2020-08-31                                             541870   \n",
       "2020-09-30                                             545000   \n",
       "2020-10-31                                             548942   \n",
       "\n",
       "                                 194  \n",
       "ntaname     park-cemetery-etc-Queens  \n",
       "boro_name                     Queens  \n",
       "count                              0  \n",
       "2020-01-31                         0  \n",
       "2020-02-29                         0  \n",
       "2020-03-31                         0  \n",
       "2020-04-30                         0  \n",
       "2020-05-31                         0  \n",
       "2020-06-30                         0  \n",
       "2020-07-31                         0  \n",
       "2020-08-31                         0  \n",
       "2020-09-30                         0  \n",
       "2020-10-31                         0  \n",
       "\n",
       "[13 rows x 195 columns]"
      ]
     },
     "execution_count": 60,
     "metadata": {},
     "output_type": "execute_result"
    }
   ],
   "source": [
    "new_frame.T"
   ]
  },
  {
   "cell_type": "code",
   "execution_count": 61,
   "metadata": {},
   "outputs": [],
   "source": [
    "data = px.data.gapminder()"
   ]
  },
  {
   "cell_type": "code",
   "execution_count": 62,
   "metadata": {},
   "outputs": [
    {
     "data": {
      "text/html": [
       "<div>\n",
       "<style scoped>\n",
       "    .dataframe tbody tr th:only-of-type {\n",
       "        vertical-align: middle;\n",
       "    }\n",
       "\n",
       "    .dataframe tbody tr th {\n",
       "        vertical-align: top;\n",
       "    }\n",
       "\n",
       "    .dataframe thead th {\n",
       "        text-align: right;\n",
       "    }\n",
       "</style>\n",
       "<table border=\"1\" class=\"dataframe\">\n",
       "  <thead>\n",
       "    <tr style=\"text-align: right;\">\n",
       "      <th></th>\n",
       "      <th>country</th>\n",
       "      <th>continent</th>\n",
       "      <th>year</th>\n",
       "      <th>lifeExp</th>\n",
       "      <th>pop</th>\n",
       "      <th>gdpPercap</th>\n",
       "      <th>iso_alpha</th>\n",
       "      <th>iso_num</th>\n",
       "    </tr>\n",
       "  </thead>\n",
       "  <tbody>\n",
       "    <tr>\n",
       "      <th>0</th>\n",
       "      <td>Afghanistan</td>\n",
       "      <td>Asia</td>\n",
       "      <td>1952</td>\n",
       "      <td>28.801</td>\n",
       "      <td>8425333</td>\n",
       "      <td>779.445314</td>\n",
       "      <td>AFG</td>\n",
       "      <td>4</td>\n",
       "    </tr>\n",
       "    <tr>\n",
       "      <th>1</th>\n",
       "      <td>Afghanistan</td>\n",
       "      <td>Asia</td>\n",
       "      <td>1957</td>\n",
       "      <td>30.332</td>\n",
       "      <td>9240934</td>\n",
       "      <td>820.853030</td>\n",
       "      <td>AFG</td>\n",
       "      <td>4</td>\n",
       "    </tr>\n",
       "    <tr>\n",
       "      <th>2</th>\n",
       "      <td>Afghanistan</td>\n",
       "      <td>Asia</td>\n",
       "      <td>1962</td>\n",
       "      <td>31.997</td>\n",
       "      <td>10267083</td>\n",
       "      <td>853.100710</td>\n",
       "      <td>AFG</td>\n",
       "      <td>4</td>\n",
       "    </tr>\n",
       "    <tr>\n",
       "      <th>3</th>\n",
       "      <td>Afghanistan</td>\n",
       "      <td>Asia</td>\n",
       "      <td>1967</td>\n",
       "      <td>34.020</td>\n",
       "      <td>11537966</td>\n",
       "      <td>836.197138</td>\n",
       "      <td>AFG</td>\n",
       "      <td>4</td>\n",
       "    </tr>\n",
       "    <tr>\n",
       "      <th>4</th>\n",
       "      <td>Afghanistan</td>\n",
       "      <td>Asia</td>\n",
       "      <td>1972</td>\n",
       "      <td>36.088</td>\n",
       "      <td>13079460</td>\n",
       "      <td>739.981106</td>\n",
       "      <td>AFG</td>\n",
       "      <td>4</td>\n",
       "    </tr>\n",
       "    <tr>\n",
       "      <th>...</th>\n",
       "      <td>...</td>\n",
       "      <td>...</td>\n",
       "      <td>...</td>\n",
       "      <td>...</td>\n",
       "      <td>...</td>\n",
       "      <td>...</td>\n",
       "      <td>...</td>\n",
       "      <td>...</td>\n",
       "    </tr>\n",
       "    <tr>\n",
       "      <th>1699</th>\n",
       "      <td>Zimbabwe</td>\n",
       "      <td>Africa</td>\n",
       "      <td>1987</td>\n",
       "      <td>62.351</td>\n",
       "      <td>9216418</td>\n",
       "      <td>706.157306</td>\n",
       "      <td>ZWE</td>\n",
       "      <td>716</td>\n",
       "    </tr>\n",
       "    <tr>\n",
       "      <th>1700</th>\n",
       "      <td>Zimbabwe</td>\n",
       "      <td>Africa</td>\n",
       "      <td>1992</td>\n",
       "      <td>60.377</td>\n",
       "      <td>10704340</td>\n",
       "      <td>693.420786</td>\n",
       "      <td>ZWE</td>\n",
       "      <td>716</td>\n",
       "    </tr>\n",
       "    <tr>\n",
       "      <th>1701</th>\n",
       "      <td>Zimbabwe</td>\n",
       "      <td>Africa</td>\n",
       "      <td>1997</td>\n",
       "      <td>46.809</td>\n",
       "      <td>11404948</td>\n",
       "      <td>792.449960</td>\n",
       "      <td>ZWE</td>\n",
       "      <td>716</td>\n",
       "    </tr>\n",
       "    <tr>\n",
       "      <th>1702</th>\n",
       "      <td>Zimbabwe</td>\n",
       "      <td>Africa</td>\n",
       "      <td>2002</td>\n",
       "      <td>39.989</td>\n",
       "      <td>11926563</td>\n",
       "      <td>672.038623</td>\n",
       "      <td>ZWE</td>\n",
       "      <td>716</td>\n",
       "    </tr>\n",
       "    <tr>\n",
       "      <th>1703</th>\n",
       "      <td>Zimbabwe</td>\n",
       "      <td>Africa</td>\n",
       "      <td>2007</td>\n",
       "      <td>43.487</td>\n",
       "      <td>12311143</td>\n",
       "      <td>469.709298</td>\n",
       "      <td>ZWE</td>\n",
       "      <td>716</td>\n",
       "    </tr>\n",
       "  </tbody>\n",
       "</table>\n",
       "<p>1704 rows × 8 columns</p>\n",
       "</div>"
      ],
      "text/plain": [
       "          country continent  year  lifeExp       pop   gdpPercap iso_alpha  \\\n",
       "0     Afghanistan      Asia  1952   28.801   8425333  779.445314       AFG   \n",
       "1     Afghanistan      Asia  1957   30.332   9240934  820.853030       AFG   \n",
       "2     Afghanistan      Asia  1962   31.997  10267083  853.100710       AFG   \n",
       "3     Afghanistan      Asia  1967   34.020  11537966  836.197138       AFG   \n",
       "4     Afghanistan      Asia  1972   36.088  13079460  739.981106       AFG   \n",
       "...           ...       ...   ...      ...       ...         ...       ...   \n",
       "1699     Zimbabwe    Africa  1987   62.351   9216418  706.157306       ZWE   \n",
       "1700     Zimbabwe    Africa  1992   60.377  10704340  693.420786       ZWE   \n",
       "1701     Zimbabwe    Africa  1997   46.809  11404948  792.449960       ZWE   \n",
       "1702     Zimbabwe    Africa  2002   39.989  11926563  672.038623       ZWE   \n",
       "1703     Zimbabwe    Africa  2007   43.487  12311143  469.709298       ZWE   \n",
       "\n",
       "      iso_num  \n",
       "0           4  \n",
       "1           4  \n",
       "2           4  \n",
       "3           4  \n",
       "4           4  \n",
       "...       ...  \n",
       "1699      716  \n",
       "1700      716  \n",
       "1701      716  \n",
       "1702      716  \n",
       "1703      716  \n",
       "\n",
       "[1704 rows x 8 columns]"
      ]
     },
     "execution_count": 62,
     "metadata": {},
     "output_type": "execute_result"
    }
   ],
   "source": [
    "data"
   ]
  },
  {
   "cell_type": "code",
   "execution_count": 69,
   "metadata": {},
   "outputs": [
    {
     "ename": "SyntaxError",
     "evalue": "unexpected EOF while parsing (<ipython-input-69-f0d6f3965afb>, line 1)",
     "output_type": "error",
     "traceback": [
      "\u001b[1;36m  File \u001b[1;32m\"<ipython-input-69-f0d6f3965afb>\"\u001b[1;36m, line \u001b[1;32m1\u001b[0m\n\u001b[1;33m    new_frame.loc[1, ['ntaname', 'boro_name', dates]\u001b[0m\n\u001b[1;37m                                                    ^\u001b[0m\n\u001b[1;31mSyntaxError\u001b[0m\u001b[1;31m:\u001b[0m unexpected EOF while parsing\n"
     ]
    }
   ],
   "source": [
    "new_frame.loc[1, ['ntaname', 'boro_name', ]"
   ]
  },
  {
   "cell_type": "code",
   "execution_count": 230,
   "metadata": {},
   "outputs": [
    {
     "data": {
      "text/html": [
       "<div>\n",
       "<style scoped>\n",
       "    .dataframe tbody tr th:only-of-type {\n",
       "        vertical-align: middle;\n",
       "    }\n",
       "\n",
       "    .dataframe tbody tr th {\n",
       "        vertical-align: top;\n",
       "    }\n",
       "\n",
       "    .dataframe thead th {\n",
       "        text-align: right;\n",
       "    }\n",
       "</style>\n",
       "<table border=\"1\" class=\"dataframe\">\n",
       "  <thead>\n",
       "    <tr style=\"text-align: right;\">\n",
       "      <th></th>\n",
       "      <th>date</th>\n",
       "      <th>price</th>\n",
       "      <th>ntaname</th>\n",
       "      <th>boro_name</th>\n",
       "    </tr>\n",
       "  </thead>\n",
       "  <tbody>\n",
       "    <tr>\n",
       "      <th>0</th>\n",
       "      <td>2020-02-29</td>\n",
       "      <td>794346.0</td>\n",
       "      <td>Borough Park</td>\n",
       "      <td>Brooklyn</td>\n",
       "    </tr>\n",
       "    <tr>\n",
       "      <th>1</th>\n",
       "      <td>2020-03-31</td>\n",
       "      <td>792962.0</td>\n",
       "      <td>Borough Park</td>\n",
       "      <td>Brooklyn</td>\n",
       "    </tr>\n",
       "    <tr>\n",
       "      <th>2</th>\n",
       "      <td>2020-04-30</td>\n",
       "      <td>792549.0</td>\n",
       "      <td>Borough Park</td>\n",
       "      <td>Brooklyn</td>\n",
       "    </tr>\n",
       "    <tr>\n",
       "      <th>3</th>\n",
       "      <td>2020-05-31</td>\n",
       "      <td>792589.0</td>\n",
       "      <td>Borough Park</td>\n",
       "      <td>Brooklyn</td>\n",
       "    </tr>\n",
       "    <tr>\n",
       "      <th>4</th>\n",
       "      <td>2020-06-30</td>\n",
       "      <td>791801.0</td>\n",
       "      <td>Borough Park</td>\n",
       "      <td>Brooklyn</td>\n",
       "    </tr>\n",
       "    <tr>\n",
       "      <th>...</th>\n",
       "      <td>...</td>\n",
       "      <td>...</td>\n",
       "      <td>...</td>\n",
       "      <td>...</td>\n",
       "    </tr>\n",
       "    <tr>\n",
       "      <th>1945</th>\n",
       "      <td>2020-07-31</td>\n",
       "      <td>0.0</td>\n",
       "      <td>park-cemetery-etc-Queens</td>\n",
       "      <td>Queens</td>\n",
       "    </tr>\n",
       "    <tr>\n",
       "      <th>1946</th>\n",
       "      <td>2020-08-31</td>\n",
       "      <td>0.0</td>\n",
       "      <td>park-cemetery-etc-Queens</td>\n",
       "      <td>Queens</td>\n",
       "    </tr>\n",
       "    <tr>\n",
       "      <th>1947</th>\n",
       "      <td>2020-09-30</td>\n",
       "      <td>0.0</td>\n",
       "      <td>park-cemetery-etc-Queens</td>\n",
       "      <td>Queens</td>\n",
       "    </tr>\n",
       "    <tr>\n",
       "      <th>1948</th>\n",
       "      <td>2020-10-31</td>\n",
       "      <td>0.0</td>\n",
       "      <td>park-cemetery-etc-Queens</td>\n",
       "      <td>Queens</td>\n",
       "    </tr>\n",
       "    <tr>\n",
       "      <th>1949</th>\n",
       "      <td>new</td>\n",
       "      <td>0.0</td>\n",
       "      <td>park-cemetery-etc-Queens</td>\n",
       "      <td>Queens</td>\n",
       "    </tr>\n",
       "  </tbody>\n",
       "</table>\n",
       "<p>1950 rows × 4 columns</p>\n",
       "</div>"
      ],
      "text/plain": [
       "            date     price                   ntaname boro_name\n",
       "0     2020-02-29  794346.0              Borough Park  Brooklyn\n",
       "1     2020-03-31  792962.0              Borough Park  Brooklyn\n",
       "2     2020-04-30  792549.0              Borough Park  Brooklyn\n",
       "3     2020-05-31  792589.0              Borough Park  Brooklyn\n",
       "4     2020-06-30  791801.0              Borough Park  Brooklyn\n",
       "...          ...       ...                       ...       ...\n",
       "1945  2020-07-31       0.0  park-cemetery-etc-Queens    Queens\n",
       "1946  2020-08-31       0.0  park-cemetery-etc-Queens    Queens\n",
       "1947  2020-09-30       0.0  park-cemetery-etc-Queens    Queens\n",
       "1948  2020-10-31       0.0  park-cemetery-etc-Queens    Queens\n",
       "1949         new       0.0  park-cemetery-etc-Queens    Queens\n",
       "\n",
       "[1950 rows x 4 columns]"
      ]
     },
     "execution_count": 230,
     "metadata": {},
     "output_type": "execute_result"
    }
   ],
   "source": [
    "dates_frame = pd.DataFrame()\n",
    "\n",
    "for r in range(len(new_frame)):\n",
    "    date_row = new_frame.iloc[r:r+1, :]\n",
    "    curr_region = date_row.iloc[0, 0]\n",
    "    curr_boro = date_row.iloc[0, 1]\n",
    "    dates_transposed = date_row.iloc[:, len(date_row.columns) - len(dates):].T\n",
    "    dates_transposed.reset_index(inplace=True)\n",
    "    dates_transposed.columns = ['date', 'price']\n",
    "    dates_transposed['ntaname'] = curr_region\n",
    "    dates_transposed['boro_name'] = curr_boro\n",
    "    dates_frame = pd.concat([dates_frame, dates_transposed]).reset_index(drop=True)\n",
    "    \n",
    "dates_frame"
   ]
  },
  {
   "cell_type": "code",
   "execution_count": 231,
   "metadata": {},
   "outputs": [],
   "source": [
    "f = dates_frame.loc[dates_frame['date'] == '2020-03-31']\n",
    "s = dates_frame.loc[dates_frame['date'] == '2020-08-31']\n"
   ]
  },
  {
   "cell_type": "code",
   "execution_count": 232,
   "metadata": {},
   "outputs": [
    {
     "data": {
      "text/html": [
       "<div>\n",
       "<style scoped>\n",
       "    .dataframe tbody tr th:only-of-type {\n",
       "        vertical-align: middle;\n",
       "    }\n",
       "\n",
       "    .dataframe tbody tr th {\n",
       "        vertical-align: top;\n",
       "    }\n",
       "\n",
       "    .dataframe thead th {\n",
       "        text-align: right;\n",
       "    }\n",
       "</style>\n",
       "<table border=\"1\" class=\"dataframe\">\n",
       "  <thead>\n",
       "    <tr style=\"text-align: right;\">\n",
       "      <th></th>\n",
       "      <th>date</th>\n",
       "      <th>price</th>\n",
       "      <th>ntaname</th>\n",
       "      <th>boro_name</th>\n",
       "    </tr>\n",
       "  </thead>\n",
       "  <tbody>\n",
       "    <tr>\n",
       "      <th>1</th>\n",
       "      <td>2020-03-31</td>\n",
       "      <td>792962.000000</td>\n",
       "      <td>Borough Park</td>\n",
       "      <td>Brooklyn</td>\n",
       "    </tr>\n",
       "    <tr>\n",
       "      <th>11</th>\n",
       "      <td>2020-03-31</td>\n",
       "      <td>383443.000000</td>\n",
       "      <td>Murray Hill</td>\n",
       "      <td>Queens</td>\n",
       "    </tr>\n",
       "    <tr>\n",
       "      <th>21</th>\n",
       "      <td>2020-03-31</td>\n",
       "      <td>667851.000000</td>\n",
       "      <td>East Elmhurst</td>\n",
       "      <td>Queens</td>\n",
       "    </tr>\n",
       "    <tr>\n",
       "      <th>31</th>\n",
       "      <td>2020-03-31</td>\n",
       "      <td>0.000000</td>\n",
       "      <td>Erasmus</td>\n",
       "      <td>Brooklyn</td>\n",
       "    </tr>\n",
       "    <tr>\n",
       "      <th>41</th>\n",
       "      <td>2020-03-31</td>\n",
       "      <td>556189.000000</td>\n",
       "      <td>Hollis</td>\n",
       "      <td>Queens</td>\n",
       "    </tr>\n",
       "    <tr>\n",
       "      <th>...</th>\n",
       "      <td>...</td>\n",
       "      <td>...</td>\n",
       "      <td>...</td>\n",
       "      <td>...</td>\n",
       "    </tr>\n",
       "    <tr>\n",
       "      <th>1901</th>\n",
       "      <td>2020-03-31</td>\n",
       "      <td>0.000000</td>\n",
       "      <td>park-cemetery-etc-Brooklyn</td>\n",
       "      <td>Brooklyn</td>\n",
       "    </tr>\n",
       "    <tr>\n",
       "      <th>1911</th>\n",
       "      <td>2020-03-31</td>\n",
       "      <td>572168.000000</td>\n",
       "      <td>Richmond Hill</td>\n",
       "      <td>Queens</td>\n",
       "    </tr>\n",
       "    <tr>\n",
       "      <th>1921</th>\n",
       "      <td>2020-03-31</td>\n",
       "      <td>441169.000000</td>\n",
       "      <td>Jamaica</td>\n",
       "      <td>Queens</td>\n",
       "    </tr>\n",
       "    <tr>\n",
       "      <th>1931</th>\n",
       "      <td>2020-03-31</td>\n",
       "      <td>533948.666667</td>\n",
       "      <td>Breezy Point-Belle Harbor-Rockaway Park-Broad ...</td>\n",
       "      <td>Queens</td>\n",
       "    </tr>\n",
       "    <tr>\n",
       "      <th>1941</th>\n",
       "      <td>2020-03-31</td>\n",
       "      <td>0.000000</td>\n",
       "      <td>park-cemetery-etc-Queens</td>\n",
       "      <td>Queens</td>\n",
       "    </tr>\n",
       "  </tbody>\n",
       "</table>\n",
       "<p>195 rows × 4 columns</p>\n",
       "</div>"
      ],
      "text/plain": [
       "            date          price  \\\n",
       "1     2020-03-31  792962.000000   \n",
       "11    2020-03-31  383443.000000   \n",
       "21    2020-03-31  667851.000000   \n",
       "31    2020-03-31       0.000000   \n",
       "41    2020-03-31  556189.000000   \n",
       "...          ...            ...   \n",
       "1901  2020-03-31       0.000000   \n",
       "1911  2020-03-31  572168.000000   \n",
       "1921  2020-03-31  441169.000000   \n",
       "1931  2020-03-31  533948.666667   \n",
       "1941  2020-03-31       0.000000   \n",
       "\n",
       "                                                ntaname boro_name  \n",
       "1                                          Borough Park  Brooklyn  \n",
       "11                                          Murray Hill    Queens  \n",
       "21                                        East Elmhurst    Queens  \n",
       "31                                              Erasmus  Brooklyn  \n",
       "41                                               Hollis    Queens  \n",
       "...                                                 ...       ...  \n",
       "1901                         park-cemetery-etc-Brooklyn  Brooklyn  \n",
       "1911                                      Richmond Hill    Queens  \n",
       "1921                                            Jamaica    Queens  \n",
       "1931  Breezy Point-Belle Harbor-Rockaway Park-Broad ...    Queens  \n",
       "1941                           park-cemetery-etc-Queens    Queens  \n",
       "\n",
       "[195 rows x 4 columns]"
      ]
     },
     "execution_count": 232,
     "metadata": {},
     "output_type": "execute_result"
    }
   ],
   "source": [
    "f"
   ]
  },
  {
   "cell_type": "code",
   "execution_count": 233,
   "metadata": {},
   "outputs": [
    {
     "data": {
      "text/html": [
       "<div>\n",
       "<style scoped>\n",
       "    .dataframe tbody tr th:only-of-type {\n",
       "        vertical-align: middle;\n",
       "    }\n",
       "\n",
       "    .dataframe tbody tr th {\n",
       "        vertical-align: top;\n",
       "    }\n",
       "\n",
       "    .dataframe thead th {\n",
       "        text-align: right;\n",
       "    }\n",
       "</style>\n",
       "<table border=\"1\" class=\"dataframe\">\n",
       "  <thead>\n",
       "    <tr style=\"text-align: right;\">\n",
       "      <th></th>\n",
       "      <th>date</th>\n",
       "      <th>price</th>\n",
       "      <th>ntaname</th>\n",
       "      <th>boro_name</th>\n",
       "    </tr>\n",
       "  </thead>\n",
       "  <tbody>\n",
       "    <tr>\n",
       "      <th>6</th>\n",
       "      <td>2020-08-31</td>\n",
       "      <td>792553.0</td>\n",
       "      <td>Borough Park</td>\n",
       "      <td>Brooklyn</td>\n",
       "    </tr>\n",
       "    <tr>\n",
       "      <th>16</th>\n",
       "      <td>2020-08-31</td>\n",
       "      <td>384940.0</td>\n",
       "      <td>Murray Hill</td>\n",
       "      <td>Queens</td>\n",
       "    </tr>\n",
       "    <tr>\n",
       "      <th>26</th>\n",
       "      <td>2020-08-31</td>\n",
       "      <td>672802.0</td>\n",
       "      <td>East Elmhurst</td>\n",
       "      <td>Queens</td>\n",
       "    </tr>\n",
       "    <tr>\n",
       "      <th>36</th>\n",
       "      <td>2020-08-31</td>\n",
       "      <td>0.0</td>\n",
       "      <td>Erasmus</td>\n",
       "      <td>Brooklyn</td>\n",
       "    </tr>\n",
       "    <tr>\n",
       "      <th>46</th>\n",
       "      <td>2020-08-31</td>\n",
       "      <td>562641.0</td>\n",
       "      <td>Hollis</td>\n",
       "      <td>Queens</td>\n",
       "    </tr>\n",
       "    <tr>\n",
       "      <th>...</th>\n",
       "      <td>...</td>\n",
       "      <td>...</td>\n",
       "      <td>...</td>\n",
       "      <td>...</td>\n",
       "    </tr>\n",
       "    <tr>\n",
       "      <th>1906</th>\n",
       "      <td>2020-08-31</td>\n",
       "      <td>0.0</td>\n",
       "      <td>park-cemetery-etc-Brooklyn</td>\n",
       "      <td>Brooklyn</td>\n",
       "    </tr>\n",
       "    <tr>\n",
       "      <th>1916</th>\n",
       "      <td>2020-08-31</td>\n",
       "      <td>577717.0</td>\n",
       "      <td>Richmond Hill</td>\n",
       "      <td>Queens</td>\n",
       "    </tr>\n",
       "    <tr>\n",
       "      <th>1926</th>\n",
       "      <td>2020-08-31</td>\n",
       "      <td>451519.0</td>\n",
       "      <td>Jamaica</td>\n",
       "      <td>Queens</td>\n",
       "    </tr>\n",
       "    <tr>\n",
       "      <th>1936</th>\n",
       "      <td>2020-08-31</td>\n",
       "      <td>541870.0</td>\n",
       "      <td>Breezy Point-Belle Harbor-Rockaway Park-Broad ...</td>\n",
       "      <td>Queens</td>\n",
       "    </tr>\n",
       "    <tr>\n",
       "      <th>1946</th>\n",
       "      <td>2020-08-31</td>\n",
       "      <td>0.0</td>\n",
       "      <td>park-cemetery-etc-Queens</td>\n",
       "      <td>Queens</td>\n",
       "    </tr>\n",
       "  </tbody>\n",
       "</table>\n",
       "<p>195 rows × 4 columns</p>\n",
       "</div>"
      ],
      "text/plain": [
       "            date     price                                            ntaname  \\\n",
       "6     2020-08-31  792553.0                                       Borough Park   \n",
       "16    2020-08-31  384940.0                                        Murray Hill   \n",
       "26    2020-08-31  672802.0                                      East Elmhurst   \n",
       "36    2020-08-31       0.0                                            Erasmus   \n",
       "46    2020-08-31  562641.0                                             Hollis   \n",
       "...          ...       ...                                                ...   \n",
       "1906  2020-08-31       0.0                         park-cemetery-etc-Brooklyn   \n",
       "1916  2020-08-31  577717.0                                      Richmond Hill   \n",
       "1926  2020-08-31  451519.0                                            Jamaica   \n",
       "1936  2020-08-31  541870.0  Breezy Point-Belle Harbor-Rockaway Park-Broad ...   \n",
       "1946  2020-08-31       0.0                           park-cemetery-etc-Queens   \n",
       "\n",
       "     boro_name  \n",
       "6     Brooklyn  \n",
       "16      Queens  \n",
       "26      Queens  \n",
       "36    Brooklyn  \n",
       "46      Queens  \n",
       "...        ...  \n",
       "1906  Brooklyn  \n",
       "1916    Queens  \n",
       "1926    Queens  \n",
       "1936    Queens  \n",
       "1946    Queens  \n",
       "\n",
       "[195 rows x 4 columns]"
      ]
     },
     "execution_count": 233,
     "metadata": {},
     "output_type": "execute_result"
    }
   ],
   "source": [
    "s"
   ]
  },
  {
   "cell_type": "code",
   "execution_count": 237,
   "metadata": {},
   "outputs": [
    {
     "name": "stderr",
     "output_type": "stream",
     "text": [
      "C:\\Users\\Sena\\.conda\\envs\\prog\\lib\\site-packages\\ipykernel_launcher.py:3: SettingWithCopyWarning:\n",
      "\n",
      "\n",
      "A value is trying to be set on a copy of a slice from a DataFrame.\n",
      "Try using .loc[row_indexer,col_indexer] = value instead\n",
      "\n",
      "See the caveats in the documentation: https://pandas.pydata.org/pandas-docs/stable/user_guide/indexing.html#returning-a-view-versus-a-copy\n",
      "\n"
     ]
    },
    {
     "data": {
      "text/html": [
       "<div>\n",
       "<style scoped>\n",
       "    .dataframe tbody tr th:only-of-type {\n",
       "        vertical-align: middle;\n",
       "    }\n",
       "\n",
       "    .dataframe tbody tr th {\n",
       "        vertical-align: top;\n",
       "    }\n",
       "\n",
       "    .dataframe thead th {\n",
       "        text-align: right;\n",
       "    }\n",
       "</style>\n",
       "<table border=\"1\" class=\"dataframe\">\n",
       "  <thead>\n",
       "    <tr style=\"text-align: right;\">\n",
       "      <th></th>\n",
       "      <th>date</th>\n",
       "      <th>price</th>\n",
       "      <th>ntaname</th>\n",
       "      <th>boro_name</th>\n",
       "      <th>new</th>\n",
       "    </tr>\n",
       "  </thead>\n",
       "  <tbody>\n",
       "    <tr>\n",
       "      <th>6</th>\n",
       "      <td>2020-08-31</td>\n",
       "      <td>792553.0</td>\n",
       "      <td>Borough Park</td>\n",
       "      <td>Brooklyn</td>\n",
       "      <td>409.000000</td>\n",
       "    </tr>\n",
       "    <tr>\n",
       "      <th>16</th>\n",
       "      <td>2020-08-31</td>\n",
       "      <td>384940.0</td>\n",
       "      <td>Murray Hill</td>\n",
       "      <td>Queens</td>\n",
       "      <td>-1497.000000</td>\n",
       "    </tr>\n",
       "    <tr>\n",
       "      <th>26</th>\n",
       "      <td>2020-08-31</td>\n",
       "      <td>672802.0</td>\n",
       "      <td>East Elmhurst</td>\n",
       "      <td>Queens</td>\n",
       "      <td>-4951.000000</td>\n",
       "    </tr>\n",
       "    <tr>\n",
       "      <th>36</th>\n",
       "      <td>2020-08-31</td>\n",
       "      <td>0.0</td>\n",
       "      <td>Erasmus</td>\n",
       "      <td>Brooklyn</td>\n",
       "      <td>0.000000</td>\n",
       "    </tr>\n",
       "    <tr>\n",
       "      <th>46</th>\n",
       "      <td>2020-08-31</td>\n",
       "      <td>562641.0</td>\n",
       "      <td>Hollis</td>\n",
       "      <td>Queens</td>\n",
       "      <td>-6452.000000</td>\n",
       "    </tr>\n",
       "    <tr>\n",
       "      <th>...</th>\n",
       "      <td>...</td>\n",
       "      <td>...</td>\n",
       "      <td>...</td>\n",
       "      <td>...</td>\n",
       "      <td>...</td>\n",
       "    </tr>\n",
       "    <tr>\n",
       "      <th>1906</th>\n",
       "      <td>2020-08-31</td>\n",
       "      <td>0.0</td>\n",
       "      <td>park-cemetery-etc-Brooklyn</td>\n",
       "      <td>Brooklyn</td>\n",
       "      <td>0.000000</td>\n",
       "    </tr>\n",
       "    <tr>\n",
       "      <th>1916</th>\n",
       "      <td>2020-08-31</td>\n",
       "      <td>577717.0</td>\n",
       "      <td>Richmond Hill</td>\n",
       "      <td>Queens</td>\n",
       "      <td>-5549.000000</td>\n",
       "    </tr>\n",
       "    <tr>\n",
       "      <th>1926</th>\n",
       "      <td>2020-08-31</td>\n",
       "      <td>451519.0</td>\n",
       "      <td>Jamaica</td>\n",
       "      <td>Queens</td>\n",
       "      <td>-10350.000000</td>\n",
       "    </tr>\n",
       "    <tr>\n",
       "      <th>1936</th>\n",
       "      <td>2020-08-31</td>\n",
       "      <td>541870.0</td>\n",
       "      <td>Breezy Point-Belle Harbor-Rockaway Park-Broad ...</td>\n",
       "      <td>Queens</td>\n",
       "      <td>-7921.333333</td>\n",
       "    </tr>\n",
       "    <tr>\n",
       "      <th>1946</th>\n",
       "      <td>2020-08-31</td>\n",
       "      <td>0.0</td>\n",
       "      <td>park-cemetery-etc-Queens</td>\n",
       "      <td>Queens</td>\n",
       "      <td>0.000000</td>\n",
       "    </tr>\n",
       "  </tbody>\n",
       "</table>\n",
       "<p>195 rows × 5 columns</p>\n",
       "</div>"
      ],
      "text/plain": [
       "            date     price                                            ntaname  \\\n",
       "6     2020-08-31  792553.0                                       Borough Park   \n",
       "16    2020-08-31  384940.0                                        Murray Hill   \n",
       "26    2020-08-31  672802.0                                      East Elmhurst   \n",
       "36    2020-08-31       0.0                                            Erasmus   \n",
       "46    2020-08-31  562641.0                                             Hollis   \n",
       "...          ...       ...                                                ...   \n",
       "1906  2020-08-31       0.0                         park-cemetery-etc-Brooklyn   \n",
       "1916  2020-08-31  577717.0                                      Richmond Hill   \n",
       "1926  2020-08-31  451519.0                                            Jamaica   \n",
       "1936  2020-08-31  541870.0  Breezy Point-Belle Harbor-Rockaway Park-Broad ...   \n",
       "1946  2020-08-31       0.0                           park-cemetery-etc-Queens   \n",
       "\n",
       "     boro_name           new  \n",
       "6     Brooklyn    409.000000  \n",
       "16      Queens  -1497.000000  \n",
       "26      Queens  -4951.000000  \n",
       "36    Brooklyn      0.000000  \n",
       "46      Queens  -6452.000000  \n",
       "...        ...           ...  \n",
       "1906  Brooklyn      0.000000  \n",
       "1916    Queens  -5549.000000  \n",
       "1926    Queens -10350.000000  \n",
       "1936    Queens  -7921.333333  \n",
       "1946    Queens      0.000000  \n",
       "\n",
       "[195 rows x 5 columns]"
      ]
     },
     "execution_count": 237,
     "metadata": {},
     "output_type": "execute_result"
    }
   ],
   "source": [
    "new = dates_frame.loc[dates_frame['date'] == '2020-08-31']\n",
    "\n",
    "new['new'] = f['price'].values-s['price'].values\n",
    "\n",
    "new"
   ]
  },
  {
   "cell_type": "code",
   "execution_count": 236,
   "metadata": {},
   "outputs": [
    {
     "data": {
      "text/html": [
       "<div>\n",
       "<style scoped>\n",
       "    .dataframe tbody tr th:only-of-type {\n",
       "        vertical-align: middle;\n",
       "    }\n",
       "\n",
       "    .dataframe tbody tr th {\n",
       "        vertical-align: top;\n",
       "    }\n",
       "\n",
       "    .dataframe thead th {\n",
       "        text-align: right;\n",
       "    }\n",
       "</style>\n",
       "<table border=\"1\" class=\"dataframe\">\n",
       "  <thead>\n",
       "    <tr style=\"text-align: right;\">\n",
       "      <th></th>\n",
       "      <th>ntaname</th>\n",
       "      <th>boro_name</th>\n",
       "      <th>count</th>\n",
       "      <th>2020-01-31</th>\n",
       "      <th>2020-02-29</th>\n",
       "      <th>2020-03-31</th>\n",
       "      <th>2020-04-30</th>\n",
       "      <th>2020-05-31</th>\n",
       "      <th>2020-06-30</th>\n",
       "      <th>2020-07-31</th>\n",
       "      <th>2020-08-31</th>\n",
       "      <th>2020-09-30</th>\n",
       "      <th>2020-10-31</th>\n",
       "      <th>new</th>\n",
       "    </tr>\n",
       "  </thead>\n",
       "  <tbody>\n",
       "    <tr>\n",
       "      <th>151</th>\n",
       "      <td>Whitestone</td>\n",
       "      <td>Queens</td>\n",
       "      <td>2</td>\n",
       "      <td>716150.5</td>\n",
       "      <td>714378.5</td>\n",
       "      <td>712513.5</td>\n",
       "      <td>712687.0</td>\n",
       "      <td>712395.5</td>\n",
       "      <td>714074.5</td>\n",
       "      <td>716273.0</td>\n",
       "      <td>719226.5</td>\n",
       "      <td>722598.0</td>\n",
       "      <td>725292.0</td>\n",
       "      <td>1772.0</td>\n",
       "    </tr>\n",
       "  </tbody>\n",
       "</table>\n",
       "</div>"
      ],
      "text/plain": [
       "        ntaname boro_name  count  2020-01-31  2020-02-29  2020-03-31  \\\n",
       "151  Whitestone    Queens      2    716150.5    714378.5    712513.5   \n",
       "\n",
       "     2020-04-30  2020-05-31  2020-06-30  2020-07-31  2020-08-31  2020-09-30  \\\n",
       "151    712687.0    712395.5    714074.5    716273.0    719226.5    722598.0   \n",
       "\n",
       "     2020-10-31     new  \n",
       "151    725292.0  1772.0  "
      ]
     },
     "execution_count": 236,
     "metadata": {},
     "output_type": "execute_result"
    }
   ],
   "source": [
    "sample = new_frame.loc[new_frame['ntaname'] == \"Whitestone\"]\n",
    "sample"
   ]
  },
  {
   "cell_type": "code",
   "execution_count": 198,
   "metadata": {},
   "outputs": [
    {
     "data": {
      "text/plain": [
       "'Whitestone'"
      ]
     },
     "execution_count": 198,
     "metadata": {},
     "output_type": "execute_result"
    }
   ],
   "source": [
    "curr_region = sample.iloc[0, 0]\n",
    "curr_region"
   ]
  },
  {
   "cell_type": "code",
   "execution_count": 238,
   "metadata": {},
   "outputs": [
    {
     "data": {
      "text/html": [
       "<div>\n",
       "<style scoped>\n",
       "    .dataframe tbody tr th:only-of-type {\n",
       "        vertical-align: middle;\n",
       "    }\n",
       "\n",
       "    .dataframe tbody tr th {\n",
       "        vertical-align: top;\n",
       "    }\n",
       "\n",
       "    .dataframe thead th {\n",
       "        text-align: right;\n",
       "    }\n",
       "</style>\n",
       "<table border=\"1\" class=\"dataframe\">\n",
       "  <thead>\n",
       "    <tr style=\"text-align: right;\">\n",
       "      <th></th>\n",
       "      <th>new</th>\n",
       "    </tr>\n",
       "  </thead>\n",
       "  <tbody>\n",
       "    <tr>\n",
       "      <th>151</th>\n",
       "      <td>1772.0</td>\n",
       "    </tr>\n",
       "  </tbody>\n",
       "</table>\n",
       "</div>"
      ],
      "text/plain": [
       "        new\n",
       "151  1772.0"
      ]
     },
     "execution_count": 238,
     "metadata": {},
     "output_type": "execute_result"
    }
   ],
   "source": [
    "sample.iloc[:, len(sample.columns)-1:len(sample.columns)]"
   ]
  },
  {
   "cell_type": "code",
   "execution_count": 200,
   "metadata": {},
   "outputs": [
    {
     "name": "stderr",
     "output_type": "stream",
     "text": [
      "C:\\Users\\Sena\\.conda\\envs\\prog\\lib\\site-packages\\ipykernel_launcher.py:1: SettingWithCopyWarning:\n",
      "\n",
      "\n",
      "A value is trying to be set on a copy of a slice from a DataFrame.\n",
      "Try using .loc[row_indexer,col_indexer] = value instead\n",
      "\n",
      "See the caveats in the documentation: https://pandas.pydata.org/pandas-docs/stable/user_guide/indexing.html#returning-a-view-versus-a-copy\n",
      "\n"
     ]
    },
    {
     "data": {
      "text/html": [
       "<div>\n",
       "<style scoped>\n",
       "    .dataframe tbody tr th:only-of-type {\n",
       "        vertical-align: middle;\n",
       "    }\n",
       "\n",
       "    .dataframe tbody tr th {\n",
       "        vertical-align: top;\n",
       "    }\n",
       "\n",
       "    .dataframe thead th {\n",
       "        text-align: right;\n",
       "    }\n",
       "</style>\n",
       "<table border=\"1\" class=\"dataframe\">\n",
       "  <thead>\n",
       "    <tr style=\"text-align: right;\">\n",
       "      <th></th>\n",
       "      <th>ntaname</th>\n",
       "      <th>boro_name</th>\n",
       "      <th>count</th>\n",
       "      <th>2020-01-31</th>\n",
       "      <th>2020-02-29</th>\n",
       "      <th>2020-03-31</th>\n",
       "      <th>2020-04-30</th>\n",
       "      <th>2020-05-31</th>\n",
       "      <th>2020-06-30</th>\n",
       "      <th>2020-07-31</th>\n",
       "      <th>2020-08-31</th>\n",
       "      <th>2020-09-30</th>\n",
       "      <th>2020-10-31</th>\n",
       "      <th>new</th>\n",
       "    </tr>\n",
       "  </thead>\n",
       "  <tbody>\n",
       "    <tr>\n",
       "      <th>151</th>\n",
       "      <td>Whitestone</td>\n",
       "      <td>Queens</td>\n",
       "      <td>2</td>\n",
       "      <td>716150.5</td>\n",
       "      <td>714378.5</td>\n",
       "      <td>712513.5</td>\n",
       "      <td>712687.0</td>\n",
       "      <td>712395.5</td>\n",
       "      <td>714074.5</td>\n",
       "      <td>716273.0</td>\n",
       "      <td>719226.5</td>\n",
       "      <td>722598.0</td>\n",
       "      <td>725292.0</td>\n",
       "      <td>0</td>\n",
       "    </tr>\n",
       "  </tbody>\n",
       "</table>\n",
       "</div>"
      ],
      "text/plain": [
       "        ntaname boro_name  count  2020-01-31  2020-02-29  2020-03-31  \\\n",
       "151  Whitestone    Queens      2    716150.5    714378.5    712513.5   \n",
       "\n",
       "     2020-04-30  2020-05-31  2020-06-30  2020-07-31  2020-08-31  2020-09-30  \\\n",
       "151    712687.0    712395.5    714074.5    716273.0    719226.5    722598.0   \n",
       "\n",
       "     2020-10-31  new  \n",
       "151    725292.0    0  "
      ]
     },
     "execution_count": 200,
     "metadata": {},
     "output_type": "execute_result"
    }
   ],
   "source": [
    "sample['new'] = 0\n",
    "\n",
    "sample"
   ]
  },
  {
   "cell_type": "code",
   "execution_count": 169,
   "metadata": {},
   "outputs": [
    {
     "data": {
      "text/html": [
       "<div>\n",
       "<style scoped>\n",
       "    .dataframe tbody tr th:only-of-type {\n",
       "        vertical-align: middle;\n",
       "    }\n",
       "\n",
       "    .dataframe tbody tr th {\n",
       "        vertical-align: top;\n",
       "    }\n",
       "\n",
       "    .dataframe thead th {\n",
       "        text-align: right;\n",
       "    }\n",
       "</style>\n",
       "<table border=\"1\" class=\"dataframe\">\n",
       "  <thead>\n",
       "    <tr style=\"text-align: right;\">\n",
       "      <th></th>\n",
       "      <th>new</th>\n",
       "    </tr>\n",
       "  </thead>\n",
       "  <tbody>\n",
       "    <tr>\n",
       "      <th>151</th>\n",
       "      <td>0</td>\n",
       "    </tr>\n",
       "  </tbody>\n",
       "</table>\n",
       "</div>"
      ],
      "text/plain": [
       "     new\n",
       "151    0"
      ]
     },
     "execution_count": 169,
     "metadata": {},
     "output_type": "execute_result"
    }
   ],
   "source": []
  },
  {
   "cell_type": "code",
   "execution_count": 173,
   "metadata": {},
   "outputs": [
    {
     "name": "stderr",
     "output_type": "stream",
     "text": [
      "C:\\Users\\Sena\\.conda\\envs\\prog\\lib\\site-packages\\ipykernel_launcher.py:1: SettingWithCopyWarning:\n",
      "\n",
      "\n",
      "A value is trying to be set on a copy of a slice from a DataFrame.\n",
      "Try using .loc[row_indexer,col_indexer] = value instead\n",
      "\n",
      "See the caveats in the documentation: https://pandas.pydata.org/pandas-docs/stable/user_guide/indexing.html#returning-a-view-versus-a-copy\n",
      "\n"
     ]
    }
   ],
   "source": [
    "sample['new'] = sample[\"2020-01-31\"] - sample[\"2020-02-29\"]"
   ]
  },
  {
   "cell_type": "code",
   "execution_count": 174,
   "metadata": {},
   "outputs": [
    {
     "data": {
      "text/html": [
       "<div>\n",
       "<style scoped>\n",
       "    .dataframe tbody tr th:only-of-type {\n",
       "        vertical-align: middle;\n",
       "    }\n",
       "\n",
       "    .dataframe tbody tr th {\n",
       "        vertical-align: top;\n",
       "    }\n",
       "\n",
       "    .dataframe thead th {\n",
       "        text-align: right;\n",
       "    }\n",
       "</style>\n",
       "<table border=\"1\" class=\"dataframe\">\n",
       "  <thead>\n",
       "    <tr style=\"text-align: right;\">\n",
       "      <th></th>\n",
       "      <th>ntaname</th>\n",
       "      <th>boro_name</th>\n",
       "      <th>count</th>\n",
       "      <th>2020-01-31</th>\n",
       "      <th>2020-02-29</th>\n",
       "      <th>2020-03-31</th>\n",
       "      <th>2020-04-30</th>\n",
       "      <th>2020-05-31</th>\n",
       "      <th>2020-06-30</th>\n",
       "      <th>2020-07-31</th>\n",
       "      <th>2020-08-31</th>\n",
       "      <th>2020-09-30</th>\n",
       "      <th>2020-10-31</th>\n",
       "      <th>new</th>\n",
       "    </tr>\n",
       "  </thead>\n",
       "  <tbody>\n",
       "    <tr>\n",
       "      <th>151</th>\n",
       "      <td>Whitestone</td>\n",
       "      <td>Queens</td>\n",
       "      <td>2</td>\n",
       "      <td>716150.5</td>\n",
       "      <td>714378.5</td>\n",
       "      <td>712513.5</td>\n",
       "      <td>712687.0</td>\n",
       "      <td>712395.5</td>\n",
       "      <td>714074.5</td>\n",
       "      <td>716273.0</td>\n",
       "      <td>719226.5</td>\n",
       "      <td>722598.0</td>\n",
       "      <td>725292.0</td>\n",
       "      <td>1772.0</td>\n",
       "    </tr>\n",
       "  </tbody>\n",
       "</table>\n",
       "</div>"
      ],
      "text/plain": [
       "        ntaname boro_name  count  2020-01-31  2020-02-29  2020-03-31  \\\n",
       "151  Whitestone    Queens      2    716150.5    714378.5    712513.5   \n",
       "\n",
       "     2020-04-30  2020-05-31  2020-06-30  2020-07-31  2020-08-31  2020-09-30  \\\n",
       "151    712687.0    712395.5    714074.5    716273.0    719226.5    722598.0   \n",
       "\n",
       "     2020-10-31     new  \n",
       "151    725292.0  1772.0  "
      ]
     },
     "execution_count": 174,
     "metadata": {},
     "output_type": "execute_result"
    }
   ],
   "source": [
    "sample"
   ]
  },
  {
   "cell_type": "code",
   "execution_count": 177,
   "metadata": {},
   "outputs": [],
   "source": [
    "first = dates_frame.loc[dates_frame['date'] == '2020-02-29']"
   ]
  },
  {
   "cell_type": "code",
   "execution_count": 178,
   "metadata": {},
   "outputs": [],
   "source": [
    "second = dates_frame.loc[dates_frame['date'] == '2020-01-31']"
   ]
  },
  {
   "cell_type": "code",
   "execution_count": 186,
   "metadata": {},
   "outputs": [],
   "source": [
    "temp = new_frame"
   ]
  },
  {
   "cell_type": "code",
   "execution_count": 187,
   "metadata": {},
   "outputs": [],
   "source": [
    "new_frame['new'] = new_frame[\"2020-01-31\"] - new_frame[\"2020-02-29\"]"
   ]
  },
  {
   "cell_type": "code",
   "execution_count": 188,
   "metadata": {},
   "outputs": [
    {
     "data": {
      "text/html": [
       "<div>\n",
       "<style scoped>\n",
       "    .dataframe tbody tr th:only-of-type {\n",
       "        vertical-align: middle;\n",
       "    }\n",
       "\n",
       "    .dataframe tbody tr th {\n",
       "        vertical-align: top;\n",
       "    }\n",
       "\n",
       "    .dataframe thead th {\n",
       "        text-align: right;\n",
       "    }\n",
       "</style>\n",
       "<table border=\"1\" class=\"dataframe\">\n",
       "  <thead>\n",
       "    <tr style=\"text-align: right;\">\n",
       "      <th></th>\n",
       "      <th>ntaname</th>\n",
       "      <th>boro_name</th>\n",
       "      <th>count</th>\n",
       "      <th>2020-01-31</th>\n",
       "      <th>2020-02-29</th>\n",
       "      <th>2020-03-31</th>\n",
       "      <th>2020-04-30</th>\n",
       "      <th>2020-05-31</th>\n",
       "      <th>2020-06-30</th>\n",
       "      <th>2020-07-31</th>\n",
       "      <th>2020-08-31</th>\n",
       "      <th>2020-09-30</th>\n",
       "      <th>2020-10-31</th>\n",
       "      <th>new</th>\n",
       "    </tr>\n",
       "  </thead>\n",
       "  <tbody>\n",
       "    <tr>\n",
       "      <th>0</th>\n",
       "      <td>Borough Park</td>\n",
       "      <td>Brooklyn</td>\n",
       "      <td>1</td>\n",
       "      <td>800107.000000</td>\n",
       "      <td>794346.0</td>\n",
       "      <td>792962.000000</td>\n",
       "      <td>792549.000000</td>\n",
       "      <td>792589.000000</td>\n",
       "      <td>791801.000000</td>\n",
       "      <td>790573.000000</td>\n",
       "      <td>792553.0</td>\n",
       "      <td>794147.000000</td>\n",
       "      <td>792330.0</td>\n",
       "      <td>5761.000000</td>\n",
       "    </tr>\n",
       "    <tr>\n",
       "      <th>1</th>\n",
       "      <td>Murray Hill</td>\n",
       "      <td>Queens</td>\n",
       "      <td>1</td>\n",
       "      <td>384721.000000</td>\n",
       "      <td>384396.0</td>\n",
       "      <td>383443.000000</td>\n",
       "      <td>383618.000000</td>\n",
       "      <td>383362.000000</td>\n",
       "      <td>383960.000000</td>\n",
       "      <td>384397.000000</td>\n",
       "      <td>384940.0</td>\n",
       "      <td>386321.000000</td>\n",
       "      <td>388206.0</td>\n",
       "      <td>325.000000</td>\n",
       "    </tr>\n",
       "    <tr>\n",
       "      <th>2</th>\n",
       "      <td>East Elmhurst</td>\n",
       "      <td>Queens</td>\n",
       "      <td>1</td>\n",
       "      <td>663453.000000</td>\n",
       "      <td>665648.0</td>\n",
       "      <td>667851.000000</td>\n",
       "      <td>669964.000000</td>\n",
       "      <td>671708.000000</td>\n",
       "      <td>672445.000000</td>\n",
       "      <td>672120.000000</td>\n",
       "      <td>672802.0</td>\n",
       "      <td>676621.000000</td>\n",
       "      <td>681728.0</td>\n",
       "      <td>-2195.000000</td>\n",
       "    </tr>\n",
       "    <tr>\n",
       "      <th>3</th>\n",
       "      <td>Erasmus</td>\n",
       "      <td>Brooklyn</td>\n",
       "      <td>0</td>\n",
       "      <td>0.000000</td>\n",
       "      <td>0.0</td>\n",
       "      <td>0.000000</td>\n",
       "      <td>0.000000</td>\n",
       "      <td>0.000000</td>\n",
       "      <td>0.000000</td>\n",
       "      <td>0.000000</td>\n",
       "      <td>0.0</td>\n",
       "      <td>0.000000</td>\n",
       "      <td>0.0</td>\n",
       "      <td>0.000000</td>\n",
       "    </tr>\n",
       "    <tr>\n",
       "      <th>4</th>\n",
       "      <td>Hollis</td>\n",
       "      <td>Queens</td>\n",
       "      <td>1</td>\n",
       "      <td>554907.000000</td>\n",
       "      <td>555797.0</td>\n",
       "      <td>556189.000000</td>\n",
       "      <td>557034.000000</td>\n",
       "      <td>557172.000000</td>\n",
       "      <td>558160.000000</td>\n",
       "      <td>560169.000000</td>\n",
       "      <td>562641.0</td>\n",
       "      <td>566751.000000</td>\n",
       "      <td>568297.0</td>\n",
       "      <td>-890.000000</td>\n",
       "    </tr>\n",
       "    <tr>\n",
       "      <th>...</th>\n",
       "      <td>...</td>\n",
       "      <td>...</td>\n",
       "      <td>...</td>\n",
       "      <td>...</td>\n",
       "      <td>...</td>\n",
       "      <td>...</td>\n",
       "      <td>...</td>\n",
       "      <td>...</td>\n",
       "      <td>...</td>\n",
       "      <td>...</td>\n",
       "      <td>...</td>\n",
       "      <td>...</td>\n",
       "      <td>...</td>\n",
       "      <td>...</td>\n",
       "    </tr>\n",
       "    <tr>\n",
       "      <th>190</th>\n",
       "      <td>park-cemetery-etc-Brooklyn</td>\n",
       "      <td>Brooklyn</td>\n",
       "      <td>0</td>\n",
       "      <td>0.000000</td>\n",
       "      <td>0.0</td>\n",
       "      <td>0.000000</td>\n",
       "      <td>0.000000</td>\n",
       "      <td>0.000000</td>\n",
       "      <td>0.000000</td>\n",
       "      <td>0.000000</td>\n",
       "      <td>0.0</td>\n",
       "      <td>0.000000</td>\n",
       "      <td>0.0</td>\n",
       "      <td>0.000000</td>\n",
       "    </tr>\n",
       "    <tr>\n",
       "      <th>191</th>\n",
       "      <td>Richmond Hill</td>\n",
       "      <td>Queens</td>\n",
       "      <td>1</td>\n",
       "      <td>571840.000000</td>\n",
       "      <td>572333.0</td>\n",
       "      <td>572168.000000</td>\n",
       "      <td>572098.000000</td>\n",
       "      <td>571145.000000</td>\n",
       "      <td>572393.000000</td>\n",
       "      <td>574503.000000</td>\n",
       "      <td>577717.0</td>\n",
       "      <td>581482.000000</td>\n",
       "      <td>583228.0</td>\n",
       "      <td>-493.000000</td>\n",
       "    </tr>\n",
       "    <tr>\n",
       "      <th>192</th>\n",
       "      <td>Jamaica</td>\n",
       "      <td>Queens</td>\n",
       "      <td>1</td>\n",
       "      <td>439332.000000</td>\n",
       "      <td>440256.0</td>\n",
       "      <td>441169.000000</td>\n",
       "      <td>442618.000000</td>\n",
       "      <td>443684.000000</td>\n",
       "      <td>445890.000000</td>\n",
       "      <td>448625.000000</td>\n",
       "      <td>451519.0</td>\n",
       "      <td>455501.000000</td>\n",
       "      <td>458605.0</td>\n",
       "      <td>-924.000000</td>\n",
       "    </tr>\n",
       "    <tr>\n",
       "      <th>193</th>\n",
       "      <td>Breezy Point-Belle Harbor-Rockaway Park-Broad ...</td>\n",
       "      <td>Queens</td>\n",
       "      <td>3</td>\n",
       "      <td>531565.333333</td>\n",
       "      <td>533002.0</td>\n",
       "      <td>533948.666667</td>\n",
       "      <td>536517.666667</td>\n",
       "      <td>537704.666667</td>\n",
       "      <td>539185.333333</td>\n",
       "      <td>539979.666667</td>\n",
       "      <td>541870.0</td>\n",
       "      <td>544999.666667</td>\n",
       "      <td>548942.0</td>\n",
       "      <td>-1436.666667</td>\n",
       "    </tr>\n",
       "    <tr>\n",
       "      <th>194</th>\n",
       "      <td>park-cemetery-etc-Queens</td>\n",
       "      <td>Queens</td>\n",
       "      <td>0</td>\n",
       "      <td>0.000000</td>\n",
       "      <td>0.0</td>\n",
       "      <td>0.000000</td>\n",
       "      <td>0.000000</td>\n",
       "      <td>0.000000</td>\n",
       "      <td>0.000000</td>\n",
       "      <td>0.000000</td>\n",
       "      <td>0.0</td>\n",
       "      <td>0.000000</td>\n",
       "      <td>0.0</td>\n",
       "      <td>0.000000</td>\n",
       "    </tr>\n",
       "  </tbody>\n",
       "</table>\n",
       "<p>195 rows × 14 columns</p>\n",
       "</div>"
      ],
      "text/plain": [
       "                                               ntaname boro_name  count  \\\n",
       "0                                         Borough Park  Brooklyn      1   \n",
       "1                                          Murray Hill    Queens      1   \n",
       "2                                        East Elmhurst    Queens      1   \n",
       "3                                              Erasmus  Brooklyn      0   \n",
       "4                                               Hollis    Queens      1   \n",
       "..                                                 ...       ...    ...   \n",
       "190                         park-cemetery-etc-Brooklyn  Brooklyn      0   \n",
       "191                                      Richmond Hill    Queens      1   \n",
       "192                                            Jamaica    Queens      1   \n",
       "193  Breezy Point-Belle Harbor-Rockaway Park-Broad ...    Queens      3   \n",
       "194                           park-cemetery-etc-Queens    Queens      0   \n",
       "\n",
       "        2020-01-31  2020-02-29     2020-03-31     2020-04-30     2020-05-31  \\\n",
       "0    800107.000000    794346.0  792962.000000  792549.000000  792589.000000   \n",
       "1    384721.000000    384396.0  383443.000000  383618.000000  383362.000000   \n",
       "2    663453.000000    665648.0  667851.000000  669964.000000  671708.000000   \n",
       "3         0.000000         0.0       0.000000       0.000000       0.000000   \n",
       "4    554907.000000    555797.0  556189.000000  557034.000000  557172.000000   \n",
       "..             ...         ...            ...            ...            ...   \n",
       "190       0.000000         0.0       0.000000       0.000000       0.000000   \n",
       "191  571840.000000    572333.0  572168.000000  572098.000000  571145.000000   \n",
       "192  439332.000000    440256.0  441169.000000  442618.000000  443684.000000   \n",
       "193  531565.333333    533002.0  533948.666667  536517.666667  537704.666667   \n",
       "194       0.000000         0.0       0.000000       0.000000       0.000000   \n",
       "\n",
       "        2020-06-30     2020-07-31  2020-08-31     2020-09-30  2020-10-31  \\\n",
       "0    791801.000000  790573.000000    792553.0  794147.000000    792330.0   \n",
       "1    383960.000000  384397.000000    384940.0  386321.000000    388206.0   \n",
       "2    672445.000000  672120.000000    672802.0  676621.000000    681728.0   \n",
       "3         0.000000       0.000000         0.0       0.000000         0.0   \n",
       "4    558160.000000  560169.000000    562641.0  566751.000000    568297.0   \n",
       "..             ...            ...         ...            ...         ...   \n",
       "190       0.000000       0.000000         0.0       0.000000         0.0   \n",
       "191  572393.000000  574503.000000    577717.0  581482.000000    583228.0   \n",
       "192  445890.000000  448625.000000    451519.0  455501.000000    458605.0   \n",
       "193  539185.333333  539979.666667    541870.0  544999.666667    548942.0   \n",
       "194       0.000000       0.000000         0.0       0.000000         0.0   \n",
       "\n",
       "             new  \n",
       "0    5761.000000  \n",
       "1     325.000000  \n",
       "2   -2195.000000  \n",
       "3       0.000000  \n",
       "4    -890.000000  \n",
       "..           ...  \n",
       "190     0.000000  \n",
       "191  -493.000000  \n",
       "192  -924.000000  \n",
       "193 -1436.666667  \n",
       "194     0.000000  \n",
       "\n",
       "[195 rows x 14 columns]"
      ]
     },
     "execution_count": 188,
     "metadata": {},
     "output_type": "execute_result"
    }
   ],
   "source": [
    "new_frame"
   ]
  },
  {
   "cell_type": "code",
   "execution_count": 185,
   "metadata": {},
   "outputs": [
    {
     "ename": "NameError",
     "evalue": "name 'temp' is not defined",
     "output_type": "error",
     "traceback": [
      "\u001b[1;31m---------------------------------------------------------------------------\u001b[0m",
      "\u001b[1;31mNameError\u001b[0m                                 Traceback (most recent call last)",
      "\u001b[1;32m<ipython-input-185-ef7596526010>\u001b[0m in \u001b[0;36m<module>\u001b[1;34m\u001b[0m\n\u001b[1;32m----> 1\u001b[1;33m \u001b[0mtemp\u001b[0m\u001b[1;33m.\u001b[0m\u001b[0mreset_index\u001b[0m\u001b[1;33m(\u001b[0m\u001b[0mdrop\u001b[0m\u001b[1;33m=\u001b[0m\u001b[1;32mTrue\u001b[0m\u001b[1;33m)\u001b[0m\u001b[1;33m\u001b[0m\u001b[1;33m\u001b[0m\u001b[0m\n\u001b[0m",
      "\u001b[1;31mNameError\u001b[0m: name 'temp' is not defined"
     ]
    }
   ],
   "source": [
    "temp.reset_index(drop=True)"
   ]
  },
  {
   "cell_type": "code",
   "execution_count": 206,
   "metadata": {},
   "outputs": [
    {
     "data": {
      "text/plain": [
       "'2020-01-31'"
      ]
     },
     "execution_count": 206,
     "metadata": {},
     "output_type": "execute_result"
    }
   ],
   "source": [
    "dates[0]"
   ]
  },
  {
   "cell_type": "code",
   "execution_count": 240,
   "metadata": {},
   "outputs": [
    {
     "data": {
      "text/plain": [
       "0      792549.000000\n",
       "1      383618.000000\n",
       "2      669964.000000\n",
       "3           0.000000\n",
       "4      557034.000000\n",
       "           ...      \n",
       "190         0.000000\n",
       "191    572098.000000\n",
       "192    442618.000000\n",
       "193    536517.666667\n",
       "194         0.000000\n",
       "Name: 2020-04-30, Length: 195, dtype: float64"
      ]
     },
     "execution_count": 240,
     "metadata": {},
     "output_type": "execute_result"
    }
   ],
   "source": [
    "temp = new_frame[dates[3]]"
   ]
  },
  {
   "cell_type": "code",
   "execution_count": 254,
   "metadata": {},
   "outputs": [
    {
     "data": {
      "text/plain": [
       "165928.0"
      ]
     },
     "execution_count": 254,
     "metadata": {},
     "output_type": "execute_result"
    }
   ],
   "source": [
    "temp = new_frame.loc[new_frame[dates[3]] > 0]\n",
    "\n",
    "temp[dates[3]].min()"
   ]
  },
  {
   "cell_type": "code",
   "execution_count": null,
   "metadata": {},
   "outputs": [],
   "source": []
  }
 ],
 "metadata": {
  "kernelspec": {
   "display_name": "Python 3",
   "language": "python",
   "name": "python3"
  },
  "language_info": {
   "codemirror_mode": {
    "name": "ipython",
    "version": 3
   },
   "file_extension": ".py",
   "mimetype": "text/x-python",
   "name": "python",
   "nbconvert_exporter": "python",
   "pygments_lexer": "ipython3",
   "version": "3.7.9"
  }
 },
 "nbformat": 4,
 "nbformat_minor": 4
}
